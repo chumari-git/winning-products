{
 "cells": [
  {
   "cell_type": "code",
   "execution_count": 127,
   "id": "d2995a68-82e2-45a3-bce0-0a085710b46b",
   "metadata": {},
   "outputs": [],
   "source": [
    "import pandas as pd\n",
    "import inspect\n",
    "import plotly.express as px"
   ]
  },
  {
   "cell_type": "code",
   "execution_count": 128,
   "id": "1558de88-e8c8-4820-bac3-1c5d4ad8c48b",
   "metadata": {},
   "outputs": [],
   "source": [
    "df = pd.read_csv('IS All Categories.csv')"
   ]
  },
  {
   "cell_type": "code",
   "execution_count": 153,
   "id": "c309c00a-6116-40f0-a5c1-d984dcca2972",
   "metadata": {},
   "outputs": [
    {
     "data": {
      "text/html": [
       "<div>\n",
       "<style scoped>\n",
       "    .dataframe tbody tr th:only-of-type {\n",
       "        vertical-align: middle;\n",
       "    }\n",
       "\n",
       "    .dataframe tbody tr th {\n",
       "        vertical-align: top;\n",
       "    }\n",
       "\n",
       "    .dataframe thead th {\n",
       "        text-align: right;\n",
       "    }\n",
       "</style>\n",
       "<table border=\"1\" class=\"dataframe\">\n",
       "  <thead>\n",
       "    <tr style=\"text-align: right;\">\n",
       "      <th></th>\n",
       "      <th>country</th>\n",
       "      <th>sku_config</th>\n",
       "      <th>product_name</th>\n",
       "      <th>main_category</th>\n",
       "      <th>sec_category</th>\n",
       "      <th>brand</th>\n",
       "      <th>selling_price</th>\n",
       "      <th>items_sold</th>\n",
       "      <th>product_link</th>\n",
       "      <th>ranking</th>\n",
       "    </tr>\n",
       "  </thead>\n",
       "  <tbody>\n",
       "    <tr>\n",
       "      <th>0</th>\n",
       "      <td>KE</td>\n",
       "      <td>GE840AT17ATYINAFAMZ</td>\n",
       "      <td>Realistic Dildo G-spot Penis With Suction Cup ...</td>\n",
       "      <td>Adulte</td>\n",
       "      <td>adulte</td>\n",
       "      <td>Generic</td>\n",
       "      <td>1549</td>\n",
       "      <td>20</td>\n",
       "      <td>https://www.jumia.co.KE/47882727.html?seller_p...</td>\n",
       "      <td>2</td>\n",
       "    </tr>\n",
       "    <tr>\n",
       "      <th>1</th>\n",
       "      <td>KE</td>\n",
       "      <td>GE840AT02HEYWNAFAMZ</td>\n",
       "      <td>Vibrator Female Dildo G Spot Stimulator</td>\n",
       "      <td>Adulte</td>\n",
       "      <td>adulte</td>\n",
       "      <td>Generic</td>\n",
       "      <td>1799</td>\n",
       "      <td>33</td>\n",
       "      <td>https://www.jumia.co.KE/48717140.html?seller_p...</td>\n",
       "      <td>1</td>\n",
       "    </tr>\n",
       "    <tr>\n",
       "      <th>2</th>\n",
       "      <td>KE</td>\n",
       "      <td>GE840AT09TV2INAFAMZ</td>\n",
       "      <td>Vib-rator For Women 20 Modes Oral Clitoris Sti...</td>\n",
       "      <td>Adulte</td>\n",
       "      <td>adulte</td>\n",
       "      <td>Generic</td>\n",
       "      <td>1283</td>\n",
       "      <td>20</td>\n",
       "      <td>https://www.jumia.co.KE/43890561.html?seller_p...</td>\n",
       "      <td>3</td>\n",
       "    </tr>\n",
       "    <tr>\n",
       "      <th>3</th>\n",
       "      <td>KE</td>\n",
       "      <td>GE840AT0B3MXUNAFAMZ</td>\n",
       "      <td>Vibration Delay Ejaculation Penis Ring For Men...</td>\n",
       "      <td>Adulte</td>\n",
       "      <td>adulte</td>\n",
       "      <td>Generic</td>\n",
       "      <td>299</td>\n",
       "      <td>18</td>\n",
       "      <td>https://www.jumia.co.KE/47454681.html?seller_p...</td>\n",
       "      <td>4</td>\n",
       "    </tr>\n",
       "    <tr>\n",
       "      <th>4</th>\n",
       "      <td>KE</td>\n",
       "      <td>SO665HL1FJX5ONAFAMZ</td>\n",
       "      <td>Electric Dry Iron1000 Watts - Silver</td>\n",
       "      <td>Appliances</td>\n",
       "      <td>Small Appliance</td>\n",
       "      <td>SOARIN</td>\n",
       "      <td>950</td>\n",
       "      <td>19</td>\n",
       "      <td>https://www.jumia.co.KE/25898568.html?seller_p...</td>\n",
       "      <td>65</td>\n",
       "    </tr>\n",
       "  </tbody>\n",
       "</table>\n",
       "</div>"
      ],
      "text/plain": [
       "  country           sku_config  \\\n",
       "0      KE  GE840AT17ATYINAFAMZ   \n",
       "1      KE  GE840AT02HEYWNAFAMZ   \n",
       "2      KE  GE840AT09TV2INAFAMZ   \n",
       "3      KE  GE840AT0B3MXUNAFAMZ   \n",
       "4      KE  SO665HL1FJX5ONAFAMZ   \n",
       "\n",
       "                                        product_name main_category  \\\n",
       "0  Realistic Dildo G-spot Penis With Suction Cup ...        Adulte   \n",
       "1            Vibrator Female Dildo G Spot Stimulator        Adulte   \n",
       "2  Vib-rator For Women 20 Modes Oral Clitoris Sti...        Adulte   \n",
       "3  Vibration Delay Ejaculation Penis Ring For Men...        Adulte   \n",
       "4               Electric Dry Iron1000 Watts - Silver    Appliances   \n",
       "\n",
       "      sec_category    brand  selling_price  items_sold  \\\n",
       "0           adulte  Generic           1549          20   \n",
       "1           adulte  Generic           1799          33   \n",
       "2           adulte  Generic           1283          20   \n",
       "3           adulte  Generic            299          18   \n",
       "4  Small Appliance   SOARIN            950          19   \n",
       "\n",
       "                                        product_link  ranking  \n",
       "0  https://www.jumia.co.KE/47882727.html?seller_p...        2  \n",
       "1  https://www.jumia.co.KE/48717140.html?seller_p...        1  \n",
       "2  https://www.jumia.co.KE/43890561.html?seller_p...        3  \n",
       "3  https://www.jumia.co.KE/47454681.html?seller_p...        4  \n",
       "4  https://www.jumia.co.KE/25898568.html?seller_p...       65  "
      ]
     },
     "execution_count": 153,
     "metadata": {},
     "output_type": "execute_result"
    }
   ],
   "source": [
    "df.columns = ['country', 'sku_config', 'product_name', 'main_category', 'sec_category', 'brand', 'selling_price', 'items_sold', 'product_link', 'ranking']\n",
    "df.sort_values('main_category').reset_index(drop=True).head()"
   ]
  },
  {
   "cell_type": "code",
   "execution_count": 130,
   "id": "3da7ba39-8ceb-4e01-8e35-5a4cbb360b8c",
   "metadata": {},
   "outputs": [
    {
     "data": {
      "text/plain": [
       "array(['Food cupboard', 'Laundry', 'Beauty & perfumes',\n",
       "       \"Men's accessories\", 'Household care', 'Computing',\n",
       "       \"Women's accessories\", 'TVs, Audio and Video', \"Women's clothing\",\n",
       "       'Home', 'Phones', \"Men's clothing\", 'Appliances',\n",
       "       \"Unisex's accessories\", \"Men's shoes\", 'Automotive & Motorcycles',\n",
       "       \"Women's shoes\", 'Kids and Baby', 'Tobacco', 'Fashion',\n",
       "       'Tablets & Accessories', 'Sport & Fitness',\n",
       "       'Cameras & Accessories', 'Beverages', 'Adulte', 'Boys',\n",
       "       'Games & Consoles', 'Musical Instruments', 'Books & Stationery',\n",
       "       'Girls'], dtype=object)"
      ]
     },
     "execution_count": 130,
     "metadata": {},
     "output_type": "execute_result"
    }
   ],
   "source": [
    "df['main_category'].unique()"
   ]
  },
  {
   "cell_type": "code",
   "execution_count": 131,
   "id": "121faa6a-9f4b-4b9d-87e8-1d2a2429ba1a",
   "metadata": {},
   "outputs": [
    {
     "data": {
      "text/plain": [
       "array(['Cooking & Baking', 'Detergent Pacs & Tablets', 'Facial skincare',\n",
       "       'Socks', 'House Hold Sundries', 'Storage', 'Bags',\n",
       "       'TVs & Video Accessories', 'Shirts & Blouses', 'Hygiene',\n",
       "       'Home Fixture', 'Mobile Phones', 'Hi-Fi & Stereo', 'Underwear',\n",
       "       'Small Appliance', 'Make up', 'Bedding', 'Mobile Accessories',\n",
       "       'Body shop', 'Makeup', 'Hair care', 'Dishwashing', 'Wallets',\n",
       "       'Peripherals & Accessories', 'Paper & roll', 'Dresses',\n",
       "       'Jewellery', 'Casual shoes', 'Watches', 'Televisons', 'Automotive',\n",
       "       'Other TVs, Audio and Video', 'Scarves', 'Home Decor',\n",
       "       'Caps & hats', 'Home Appliances', 'Sandals & flip-flops',\n",
       "       'Storage And Organisation', 'Others', 'Home Theatre', 'Fragrances',\n",
       "       'Health & relaxation', 'Baby', 'Jeans & jeggings',\n",
       "       'Air Fresheners & Insecticides', 'Surface and Toilet Cleaning',\n",
       "       'Batteries & Bulbs', 'Kitchen And Dining', 'Sunglasses', 'Belts',\n",
       "       'Baby Food', 'Shirts', 'Tobacco-Related Products', 'Lighting',\n",
       "       'Costumes & Accessories', 'Bath', 'Fabric Softener',\n",
       "       'Tablets Accessories', 'Cooking', 'Hand, feet & nail care',\n",
       "       'Stationery', 'Fitness', 'Other Cameras & Accessories',\n",
       "       'Bread and Bakery', 'Tea and Coffee', 'Wearable Technology',\n",
       "       'Trousers & chinos', 'Sport', 'Hats & hair fascinators',\n",
       "       'Jumpers & cardigans', \"Women's sneakers\", 'Pet', 'adulte',\n",
       "       'Accessories', 'Laptops', 'Trousers & leggings', 'Baby (0-2years)',\n",
       "       'Printers, Scanners & Supplies', 'Fridges & Freezer',\n",
       "       'Hoodies & sweatshirts', 'Games & Console Accessories', 'Cooling',\n",
       "       'Camcorders', 'Formal shoes', 'Cleaning tools', 'Eyewear', 'Jeans',\n",
       "       'Shoe, Jewelry & Watch Accessories',\n",
       "       'Electronic Music, DJ & Karaoke', 'Juices',\n",
       "       'Other Books & Stationery', 'Video Games', 'Outdoor And Garden',\n",
       "       'Sneakers', 'Tablets', 'Condiments & Salad Dressings',\n",
       "       'Liquid Detergent', 'T-shirts', 'Nightwear', 'Heels',\n",
       "       'Home Country Language Books', 'Foreign Language Books', 'Kids',\n",
       "       'Studio Recording Equipment'], dtype=object)"
      ]
     },
     "execution_count": 131,
     "metadata": {},
     "output_type": "execute_result"
    }
   ],
   "source": [
    "df['sec_category'].unique()"
   ]
  },
  {
   "cell_type": "code",
   "execution_count": 132,
   "id": "b90bc55b-eece-4f2c-ac3b-306c9a570677",
   "metadata": {},
   "outputs": [
    {
     "data": {
      "application/vnd.plotly.v1+json": {
       "config": {
        "plotlyServerURL": "https://plot.ly"
       },
       "data": [
        {
         "branchvalues": "total",
         "customdata": [
          [
           "(?)",
           24.333333333333332
          ],
          [
           279,
           17
          ],
          [
           "(?)",
           36.53929539295393
          ],
          [
           "(?)",
           60.930348258706466
          ],
          [
           "(?)",
           36.09229305423406
          ],
          [
           "(?)",
           22.096774193548388
          ],
          [
           99,
           58
          ],
          [
           "(?)",
           76.39825581395348
          ],
          [
           "(?)",
           124.21136224801467
          ],
          [
           "(?)",
           27.978461538461538
          ],
          [
           "(?)",
           47.80357142857143
          ],
          [
           "(?)",
           78.5635528330781
          ],
          [
           "(?)",
           40.46153846153846
          ],
          [
           819,
           19
          ],
          [
           "(?)",
           64.99057437407953
          ],
          [
           "(?)",
           30.1
          ],
          [
           "(?)",
           19.883116883116884
          ],
          [
           "(?)",
           48.13625866050808
          ],
          [
           "(?)",
           41.32526381129733
          ],
          [
           192,
           21
          ],
          [
           1199,
           16
          ],
          [
           "(?)",
           30.708978328173373
          ],
          [
           "(?)",
           836.8071976871697
          ],
          [
           "(?)",
           22.393939393939394
          ],
          [
           598,
           55
          ],
          [
           "(?)",
           1150.426393520724
          ],
          [
           "(?)",
           126.54744525547446
          ],
          [
           "(?)",
           82.90975254730714
          ],
          [
           20,
           20
          ],
          [
           746,
           21
          ],
          [
           499,
           16
          ],
          [
           "(?)",
           35.39484978540773
          ],
          [
           "(?)",
           205.22936081570003
          ],
          [
           "(?)",
           30.050420168067227
          ],
          [
           800,
           15
          ],
          [
           "(?)",
           19.043010752688172
          ],
          [
           "(?)",
           54.78171091445428
          ],
          [
           "(?)",
           23.38235294117647
          ],
          [
           "(?)",
           22.069767441860463
          ],
          [
           "(?)",
           55.4753937007874
          ],
          [
           "(?)",
           26.519061583577713
          ],
          [
           "(?)",
           24.62081784386617
          ],
          [
           "(?)",
           31.978060863411184
          ],
          [
           849,
           16
          ],
          [
           "(?)",
           113.21149897330595
          ],
          [
           "(?)",
           74.8
          ],
          [
           850,
           15
          ],
          [
           "(?)",
           35.90595009596929
          ],
          [
           "(?)",
           120.23268482490272
          ],
          [
           "(?)",
           46.794026776519054
          ],
          [
           940,
           21.571428571428573
          ],
          [
           "(?)",
           162.51496792587312
          ],
          [
           "(?)",
           99.92437863564251
          ],
          [
           "(?)",
           18.397260273972602
          ],
          [
           "(?)",
           55.87640449438202
          ],
          [
           "(?)",
           39.32663316582914
          ],
          [
           "(?)",
           44.933638443935926
          ],
          [
           53,
           17
          ],
          [
           200,
           31.885245901639344
          ],
          [
           1900,
           15
          ],
          [
           "(?)",
           26.620218579234972
          ],
          [
           "(?)",
           29.58407079646018
          ],
          [
           "(?)",
           34.7704280155642
          ],
          [
           100,
           16
          ],
          [
           "(?)",
           91.64391691394658
          ],
          [
           "(?)",
           72.01113430758525
          ],
          [
           "(?)",
           65.25185749666603
          ],
          [
           "(?)",
           73.72605160834217
          ],
          [
           200,
           16
          ],
          [
           800,
           17
          ],
          [
           "(?)",
           24.655430711610485
          ],
          [
           "(?)",
           46.1496062992126
          ],
          [
           "(?)",
           44.510022271714924
          ],
          [
           999,
           17
          ],
          [
           "(?)",
           79.63795423956931
          ],
          [
           "(?)",
           57.37248479176416
          ],
          [
           "(?)",
           25.885714285714286
          ],
          [
           "(?)",
           22.504587155963304
          ],
          [
           "(?)",
           60.34969325153374
          ],
          [
           "(?)",
           72.63235294117646
          ],
          [
           "(?)",
           30.853383458646615
          ],
          [
           "(?)",
           195.62994836488812
          ],
          [
           "(?)",
           18.11111111111111
          ],
          [
           "(?)",
           87.92515207617032
          ],
          [
           1599,
           17
          ],
          [
           "(?)",
           408.752380952381
          ],
          [
           "(?)",
           24.880597014925375
          ],
          [
           "(?)",
           24.95800524934383
          ],
          [
           "(?)",
           122.03537572254335
          ],
          [
           "(?)",
           43.44347826086957
          ],
          [
           399,
           15
          ],
          [
           "(?)",
           39.6096256684492
          ],
          [
           "(?)",
           35.348684210526315
          ],
          [
           449,
           16
          ],
          [
           "(?)",
           97.62973953181668
          ],
          [
           "(?)",
           16.515151515151516
          ],
          [
           "(?)",
           35.306451612903224
          ],
          [
           "(?)",
           28.694444444444443
          ],
          [
           "(?)",
           44.49119718309859
          ],
          [
           "(?)",
           39.671875
          ],
          [
           "(?)",
           23.25089605734767
          ],
          [
           "(?)",
           24.303030303030305
          ],
          [
           "(?)",
           144.15055833654216
          ],
          [
           "(?)",
           93.159169550173
          ],
          [
           4999,
           17
          ],
          [
           "(?)",
           105.30666666666667
          ],
          [
           "(?)",
           49.64981949458484
          ],
          [
           "(?)",
           43.78630136986301
          ],
          [
           "(?)",
           29.634146341463413
          ],
          [
           "(?)",
           23.519736842105264
          ],
          [
           "(?)",
           24.318681318681318
          ],
          [
           "(?)",
           24.318681318681318
          ],
          [
           "(?)",
           82.24708080336292
          ],
          [
           "(?)",
           60.930348258706466
          ],
          [
           "(?)",
           114.22460335363562
          ],
          [
           "(?)",
           26.46067415730337
          ],
          [
           "(?)",
           15.72340425531915
          ],
          [
           "(?)",
           23.545454545454547
          ],
          [
           "(?)",
           23.587209302325583
          ],
          [
           "(?)",
           98.17534410532615
          ],
          [
           "(?)",
           36.72477064220183
          ],
          [
           "(?)",
           834.7713954259198
          ],
          [
           "(?)",
           20.633333333333333
          ],
          [
           279,
           17
          ],
          [
           "(?)",
           57.47605182704906
          ],
          [
           "(?)",
           135.2434423052074
          ],
          [
           "(?)",
           35.79549718574109
          ],
          [
           "(?)",
           1107.9648640391079
          ],
          [
           "(?)",
           147.63409669211197
          ],
          [
           "(?)",
           109.03508771929825
          ],
          [
           "(?)",
           39.880883207437535
          ],
          [
           "(?)",
           17.857142857142858
          ],
          [
           "(?)",
           69.64784083616027
          ],
          [
           "(?)",
           28.188172043010752
          ],
          [
           "(?)",
           77.610733400839
          ],
          [
           "(?)",
           31.356687898089174
          ],
          [
           "(?)",
           39.671875
          ],
          [
           "(?)",
           76.39825581395348
          ],
          [
           "(?)",
           86.28779069767442
          ],
          [
           "(?)",
           106.8361172392058
          ],
          [
           "(?)",
           42.244514106583075
          ]
         ],
         "domain": {
          "x": [
           0,
           1
          ],
          "y": [
           0,
           1
          ]
         },
         "hovertemplate": "labels=%{label}<br>items_sold_sum=%{value}<br>parent=%{parent}<br>id=%{id}<br>selling_price=%{customdata[0]}<br>items_sold=%{color}<extra></extra>",
         "ids": [
          "Boys/Accessories",
          "Girls/Accessories",
          "Household care/Air Fresheners & Insecticides",
          "Automotive & Motorcycles/Automotive",
          "Kids and Baby/Baby",
          "Boys/Baby (0-2years)",
          "Food cupboard/Baby Food",
          "Unisex's accessories/Bags",
          "Women's accessories/Bags",
          "Home/Bath",
          "Household care/Batteries & Bulbs",
          "Home/Bedding",
          "Men's accessories/Belts",
          "Women's accessories/Belts",
          "Beauty & perfumes/Body shop",
          "Food cupboard/Bread and Bakery",
          "Cameras & Accessories/Camcorders",
          "Men's accessories/Caps & hats",
          "Men's shoes/Casual shoes",
          "Household care/Cleaning tools",
          "Food cupboard/Condiments & Salad Dressings",
          "Appliances/Cooking",
          "Food cupboard/Cooking & Baking",
          "Home/Cooling",
          "Fashion/Costumes & Accessories",
          "Laundry/Detergent Pacs & Tablets",
          "Household care/Dishwashing",
          "Women's clothing/Dresses",
          "Musical Instruments/Electronic Music, DJ & Karaoke",
          "Men's accessories/Eyewear",
          "Women's accessories/Eyewear",
          "Laundry/Fabric Softener",
          "Beauty & perfumes/Facial skincare",
          "Sport & Fitness/Fitness",
          "Books & Stationery/Foreign Language Books",
          "Men's shoes/Formal shoes",
          "Beauty & perfumes/Fragrances",
          "Appliances/Fridges & Freezer",
          "Games & Consoles/Games & Console Accessories",
          "Beauty & perfumes/Hair care",
          "Beauty & perfumes/Hand, feet & nail care",
          "Women's accessories/Hats & hair fascinators",
          "Beauty & perfumes/Health & relaxation",
          "Women's shoes/Heels",
          "TVs, Audio and Video/Hi-Fi & Stereo",
          "Appliances/Home Appliances",
          "Books & Stationery/Home Country Language Books",
          "Home/Home Decor",
          "Home/Home Fixture",
          "TVs, Audio and Video/Home Theatre",
          "Men's clothing/Hoodies & sweatshirts",
          "Household care/House Hold Sundries",
          "Beauty & perfumes/Hygiene",
          "Men's clothing/Jeans",
          "Women's clothing/Jeans & jeggings",
          "Men's accessories/Jewellery",
          "Women's accessories/Jewellery",
          "Beverages/Juices",
          "Men's clothing/Jumpers & cardigans",
          "Kids and Baby/Kids",
          "Home/Kitchen And Dining",
          "Computing/Laptops",
          "Home/Lighting",
          "Laundry/Liquid Detergent",
          "Beauty & perfumes/Make up",
          "Beauty & perfumes/Makeup",
          "Phones/Mobile Accessories",
          "Phones/Mobile Phones",
          "Women's clothing/Nightwear",
          "Books & Stationery/Other Books & Stationery",
          "Cameras & Accessories/Other Cameras & Accessories",
          "TVs, Audio and Video/Other TVs, Audio and Video",
          "Beauty & perfumes/Others",
          "Home/Outdoor And Garden",
          "Household care/Paper & roll",
          "Computing/Peripherals & Accessories",
          "Home/Pet",
          "Computing/Printers, Scanners & Supplies",
          "Women's shoes/Sandals & flip-flops",
          "Women's accessories/Scarves",
          "Men's clothing/Shirts",
          "Women's clothing/Shirts & Blouses",
          "Fashion/Shoe, Jewelry & Watch Accessories",
          "Appliances/Small Appliance",
          "Men's shoes/Sneakers",
          "Men's accessories/Socks",
          "Sport & Fitness/Sport",
          "Home/Stationery",
          "Computing/Storage",
          "Home/Storage And Organisation",
          "Musical Instruments/Studio Recording Equipment",
          "Men's accessories/Sunglasses",
          "Household care/Surface and Toilet Cleaning",
          "Men's clothing/T-shirts",
          "TVs, Audio and Video/TVs & Video Accessories",
          "Tablets & Accessories/Tablets",
          "Tablets & Accessories/Tablets Accessories",
          "Beverages/Tea and Coffee",
          "TVs, Audio and Video/Televisons",
          "Tobacco/Tobacco-Related Products",
          "Men's clothing/Trousers & chinos",
          "Women's clothing/Trousers & leggings",
          "Men's clothing/Underwear",
          "Women's clothing/Underwear",
          "Games & Consoles/Video Games",
          "Men's accessories/Wallets",
          "Men's accessories/Watches",
          "Women's accessories/Watches",
          "TVs, Audio and Video/Wearable Technology",
          "Women's shoes/Women's sneakers",
          "Adulte/adulte",
          "Adulte",
          "Appliances",
          "Automotive & Motorcycles",
          "Beauty & perfumes",
          "Beverages",
          "Books & Stationery",
          "Boys",
          "Cameras & Accessories",
          "Computing",
          "Fashion",
          "Food cupboard",
          "Games & Consoles",
          "Girls",
          "Home",
          "Household care",
          "Kids and Baby",
          "Laundry",
          "Men's accessories",
          "Men's clothing",
          "Men's shoes",
          "Musical Instruments",
          "Phones",
          "Sport & Fitness",
          "TVs, Audio and Video",
          "Tablets & Accessories",
          "Tobacco",
          "Unisex's accessories",
          "Women's accessories",
          "Women's clothing",
          "Women's shoes"
         ],
         "labels": [
          "Accessories",
          "Accessories",
          "Air Fresheners & Insecticides",
          "Automotive",
          "Baby",
          "Baby (0-2years)",
          "Baby Food",
          "Bags",
          "Bags",
          "Bath",
          "Batteries & Bulbs",
          "Bedding",
          "Belts",
          "Belts",
          "Body shop",
          "Bread and Bakery",
          "Camcorders",
          "Caps & hats",
          "Casual shoes",
          "Cleaning tools",
          "Condiments & Salad Dressings",
          "Cooking",
          "Cooking & Baking",
          "Cooling",
          "Costumes & Accessories",
          "Detergent Pacs & Tablets",
          "Dishwashing",
          "Dresses",
          "Electronic Music, DJ & Karaoke",
          "Eyewear",
          "Eyewear",
          "Fabric Softener",
          "Facial skincare",
          "Fitness",
          "Foreign Language Books",
          "Formal shoes",
          "Fragrances",
          "Fridges & Freezer",
          "Games & Console Accessories",
          "Hair care",
          "Hand, feet & nail care",
          "Hats & hair fascinators",
          "Health & relaxation",
          "Heels",
          "Hi-Fi & Stereo",
          "Home Appliances",
          "Home Country Language Books",
          "Home Decor",
          "Home Fixture",
          "Home Theatre",
          "Hoodies & sweatshirts",
          "House Hold Sundries",
          "Hygiene",
          "Jeans",
          "Jeans & jeggings",
          "Jewellery",
          "Jewellery",
          "Juices",
          "Jumpers & cardigans",
          "Kids",
          "Kitchen And Dining",
          "Laptops",
          "Lighting",
          "Liquid Detergent",
          "Make up",
          "Makeup",
          "Mobile Accessories",
          "Mobile Phones",
          "Nightwear",
          "Other Books & Stationery",
          "Other Cameras & Accessories",
          "Other TVs, Audio and Video",
          "Others",
          "Outdoor And Garden",
          "Paper & roll",
          "Peripherals & Accessories",
          "Pet",
          "Printers, Scanners & Supplies",
          "Sandals & flip-flops",
          "Scarves",
          "Shirts",
          "Shirts & Blouses",
          "Shoe, Jewelry & Watch Accessories",
          "Small Appliance",
          "Sneakers",
          "Socks",
          "Sport",
          "Stationery",
          "Storage",
          "Storage And Organisation",
          "Studio Recording Equipment",
          "Sunglasses",
          "Surface and Toilet Cleaning",
          "T-shirts",
          "TVs & Video Accessories",
          "Tablets",
          "Tablets Accessories",
          "Tea and Coffee",
          "Televisons",
          "Tobacco-Related Products",
          "Trousers & chinos",
          "Trousers & leggings",
          "Underwear",
          "Underwear",
          "Video Games",
          "Wallets",
          "Watches",
          "Watches",
          "Wearable Technology",
          "Women's sneakers",
          "adulte",
          "Adulte",
          "Appliances",
          "Automotive & Motorcycles",
          "Beauty & perfumes",
          "Beverages",
          "Books & Stationery",
          "Boys",
          "Cameras & Accessories",
          "Computing",
          "Fashion",
          "Food cupboard",
          "Games & Consoles",
          "Girls",
          "Home",
          "Household care",
          "Kids and Baby",
          "Laundry",
          "Men's accessories",
          "Men's clothing",
          "Men's shoes",
          "Musical Instruments",
          "Phones",
          "Sport & Fitness",
          "TVs, Audio and Video",
          "Tablets & Accessories",
          "Tobacco",
          "Unisex's accessories",
          "Women's accessories",
          "Women's clothing",
          "Women's shoes"
         ],
         "marker": {
          "coloraxis": "coloraxis",
          "colors": [
           24.333333333333332,
           17,
           36.53929539295393,
           60.930348258706466,
           36.09229305423406,
           22.096774193548388,
           58,
           76.39825581395348,
           124.21136224801467,
           27.978461538461538,
           47.80357142857143,
           78.5635528330781,
           40.46153846153846,
           19,
           64.99057437407953,
           30.1,
           19.883116883116884,
           48.13625866050808,
           41.32526381129733,
           21,
           16,
           30.708978328173373,
           836.8071976871697,
           22.393939393939394,
           55,
           1150.426393520724,
           126.54744525547446,
           82.90975254730714,
           20,
           21,
           16,
           35.39484978540773,
           205.22936081570003,
           30.050420168067227,
           15,
           19.043010752688172,
           54.78171091445428,
           23.38235294117647,
           22.069767441860463,
           55.4753937007874,
           26.519061583577713,
           24.62081784386617,
           31.978060863411184,
           16,
           113.21149897330595,
           74.8,
           15,
           35.90595009596929,
           120.23268482490272,
           46.794026776519054,
           21.571428571428573,
           162.51496792587312,
           99.92437863564251,
           18.397260273972602,
           55.87640449438202,
           39.32663316582914,
           44.933638443935926,
           17,
           31.885245901639344,
           15,
           26.620218579234972,
           29.58407079646018,
           34.7704280155642,
           16,
           91.64391691394658,
           72.01113430758525,
           65.25185749666603,
           73.72605160834217,
           16,
           17,
           24.655430711610485,
           46.1496062992126,
           44.510022271714924,
           17,
           79.63795423956931,
           57.37248479176416,
           25.885714285714286,
           22.504587155963304,
           60.34969325153374,
           72.63235294117646,
           30.853383458646615,
           195.62994836488812,
           18.11111111111111,
           87.92515207617032,
           17,
           408.752380952381,
           24.880597014925375,
           24.95800524934383,
           122.03537572254335,
           43.44347826086957,
           15,
           39.6096256684492,
           35.348684210526315,
           16,
           97.62973953181668,
           16.515151515151516,
           35.306451612903224,
           28.694444444444443,
           44.49119718309859,
           39.671875,
           23.25089605734767,
           24.303030303030305,
           144.15055833654216,
           93.159169550173,
           17,
           105.30666666666667,
           49.64981949458484,
           43.78630136986301,
           29.634146341463413,
           23.519736842105264,
           24.318681318681318,
           24.318681318681318,
           82.24708080336292,
           60.930348258706466,
           114.22460335363562,
           26.46067415730337,
           15.72340425531915,
           23.545454545454547,
           23.587209302325583,
           98.17534410532615,
           36.72477064220183,
           834.7713954259198,
           20.633333333333333,
           17,
           57.47605182704906,
           135.2434423052074,
           35.79549718574109,
           1107.9648640391079,
           147.63409669211197,
           109.03508771929825,
           39.880883207437535,
           17.857142857142858,
           69.64784083616027,
           28.188172043010752,
           77.610733400839,
           31.356687898089174,
           39.671875,
           76.39825581395348,
           86.28779069767442,
           106.8361172392058,
           42.244514106583075
          ]
         },
         "name": "",
         "parents": [
          "Boys",
          "Girls",
          "Household care",
          "Automotive & Motorcycles",
          "Kids and Baby",
          "Boys",
          "Food cupboard",
          "Unisex's accessories",
          "Women's accessories",
          "Home",
          "Household care",
          "Home",
          "Men's accessories",
          "Women's accessories",
          "Beauty & perfumes",
          "Food cupboard",
          "Cameras & Accessories",
          "Men's accessories",
          "Men's shoes",
          "Household care",
          "Food cupboard",
          "Appliances",
          "Food cupboard",
          "Home",
          "Fashion",
          "Laundry",
          "Household care",
          "Women's clothing",
          "Musical Instruments",
          "Men's accessories",
          "Women's accessories",
          "Laundry",
          "Beauty & perfumes",
          "Sport & Fitness",
          "Books & Stationery",
          "Men's shoes",
          "Beauty & perfumes",
          "Appliances",
          "Games & Consoles",
          "Beauty & perfumes",
          "Beauty & perfumes",
          "Women's accessories",
          "Beauty & perfumes",
          "Women's shoes",
          "TVs, Audio and Video",
          "Appliances",
          "Books & Stationery",
          "Home",
          "Home",
          "TVs, Audio and Video",
          "Men's clothing",
          "Household care",
          "Beauty & perfumes",
          "Men's clothing",
          "Women's clothing",
          "Men's accessories",
          "Women's accessories",
          "Beverages",
          "Men's clothing",
          "Kids and Baby",
          "Home",
          "Computing",
          "Home",
          "Laundry",
          "Beauty & perfumes",
          "Beauty & perfumes",
          "Phones",
          "Phones",
          "Women's clothing",
          "Books & Stationery",
          "Cameras & Accessories",
          "TVs, Audio and Video",
          "Beauty & perfumes",
          "Home",
          "Household care",
          "Computing",
          "Home",
          "Computing",
          "Women's shoes",
          "Women's accessories",
          "Men's clothing",
          "Women's clothing",
          "Fashion",
          "Appliances",
          "Men's shoes",
          "Men's accessories",
          "Sport & Fitness",
          "Home",
          "Computing",
          "Home",
          "Musical Instruments",
          "Men's accessories",
          "Household care",
          "Men's clothing",
          "TVs, Audio and Video",
          "Tablets & Accessories",
          "Tablets & Accessories",
          "Beverages",
          "TVs, Audio and Video",
          "Tobacco",
          "Men's clothing",
          "Women's clothing",
          "Men's clothing",
          "Women's clothing",
          "Games & Consoles",
          "Men's accessories",
          "Men's accessories",
          "Women's accessories",
          "TVs, Audio and Video",
          "Women's shoes",
          "Adulte",
          "",
          "",
          "",
          "",
          "",
          "",
          "",
          "",
          "",
          "",
          "",
          "",
          "",
          "",
          "",
          "",
          "",
          "",
          "",
          "",
          "",
          "",
          "",
          "",
          "",
          "",
          "",
          "",
          "",
          ""
         ],
         "type": "sunburst",
         "values": [
          114,
          17,
          369,
          402,
          1051,
          62,
          58,
          688,
          3274,
          325,
          112,
          1306,
          156,
          19,
          6790,
          80,
          77,
          433,
          1611,
          21,
          16,
          323,
          60186,
          66,
          55,
          6297,
          274,
          687,
          20,
          21,
          16,
          233,
          9121,
          238,
          15,
          93,
          339,
          68,
          43,
          2032,
          341,
          269,
          1413,
          16,
          974,
          110,
          15,
          521,
          1285,
          971,
          147,
          5612,
          1891,
          73,
          89,
          398,
          1748,
          17,
          61,
          15,
          1464,
          113,
          514,
          16,
          1348,
          2874,
          5249,
          5658,
          16,
          17,
          267,
          635,
          449,
          17,
          743,
          2137,
          70,
          109,
          652,
          136,
          532,
          581,
          54,
          3781,
          17,
          1050,
          134,
          381,
          4325,
          920,
          15,
          187,
          608,
          16,
          3033,
          33,
          124,
          72,
          1136,
          128,
          279,
          66,
          2597,
          1734,
          17,
          300,
          1385,
          730,
          164,
          608,
          91,
          91,
          4282,
          402,
          26598,
          89,
          47,
          176,
          344,
          6684,
          109,
          60340,
          60,
          17,
          6869,
          7739,
          1066,
          6546,
          3930,
          3705,
          1721,
          35,
          10907,
          372,
          6913,
          157,
          128,
          688,
          6192,
          3173,
          1276
         ]
        }
       ],
       "layout": {
        "autosize": true,
        "coloraxis": {
         "colorbar": {
          "title": {
           "text": "items_sold"
          }
         },
         "colorscale": [
          [
           0,
           "#0d0887"
          ],
          [
           0.1111111111111111,
           "#46039f"
          ],
          [
           0.2222222222222222,
           "#7201a8"
          ],
          [
           0.3333333333333333,
           "#9c179e"
          ],
          [
           0.4444444444444444,
           "#bd3786"
          ],
          [
           0.5555555555555556,
           "#d8576b"
          ],
          [
           0.6666666666666666,
           "#ed7953"
          ],
          [
           0.7777777777777778,
           "#fb9f3a"
          ],
          [
           0.8888888888888888,
           "#fdca26"
          ],
          [
           1,
           "#f0f921"
          ]
         ]
        },
        "legend": {
         "tracegroupgap": 0
        },
        "margin": {
         "t": 60
        },
        "template": {
         "data": {
          "bar": [
           {
            "error_x": {
             "color": "#2a3f5f"
            },
            "error_y": {
             "color": "#2a3f5f"
            },
            "marker": {
             "line": {
              "color": "#E5ECF6",
              "width": 0.5
             },
             "pattern": {
              "fillmode": "overlay",
              "size": 10,
              "solidity": 0.2
             }
            },
            "type": "bar"
           }
          ],
          "barpolar": [
           {
            "marker": {
             "line": {
              "color": "#E5ECF6",
              "width": 0.5
             },
             "pattern": {
              "fillmode": "overlay",
              "size": 10,
              "solidity": 0.2
             }
            },
            "type": "barpolar"
           }
          ],
          "carpet": [
           {
            "aaxis": {
             "endlinecolor": "#2a3f5f",
             "gridcolor": "white",
             "linecolor": "white",
             "minorgridcolor": "white",
             "startlinecolor": "#2a3f5f"
            },
            "baxis": {
             "endlinecolor": "#2a3f5f",
             "gridcolor": "white",
             "linecolor": "white",
             "minorgridcolor": "white",
             "startlinecolor": "#2a3f5f"
            },
            "type": "carpet"
           }
          ],
          "choropleth": [
           {
            "colorbar": {
             "outlinewidth": 0,
             "ticks": ""
            },
            "type": "choropleth"
           }
          ],
          "contour": [
           {
            "colorbar": {
             "outlinewidth": 0,
             "ticks": ""
            },
            "colorscale": [
             [
              0,
              "#0d0887"
             ],
             [
              0.1111111111111111,
              "#46039f"
             ],
             [
              0.2222222222222222,
              "#7201a8"
             ],
             [
              0.3333333333333333,
              "#9c179e"
             ],
             [
              0.4444444444444444,
              "#bd3786"
             ],
             [
              0.5555555555555556,
              "#d8576b"
             ],
             [
              0.6666666666666666,
              "#ed7953"
             ],
             [
              0.7777777777777778,
              "#fb9f3a"
             ],
             [
              0.8888888888888888,
              "#fdca26"
             ],
             [
              1,
              "#f0f921"
             ]
            ],
            "type": "contour"
           }
          ],
          "contourcarpet": [
           {
            "colorbar": {
             "outlinewidth": 0,
             "ticks": ""
            },
            "type": "contourcarpet"
           }
          ],
          "heatmap": [
           {
            "colorbar": {
             "outlinewidth": 0,
             "ticks": ""
            },
            "colorscale": [
             [
              0,
              "#0d0887"
             ],
             [
              0.1111111111111111,
              "#46039f"
             ],
             [
              0.2222222222222222,
              "#7201a8"
             ],
             [
              0.3333333333333333,
              "#9c179e"
             ],
             [
              0.4444444444444444,
              "#bd3786"
             ],
             [
              0.5555555555555556,
              "#d8576b"
             ],
             [
              0.6666666666666666,
              "#ed7953"
             ],
             [
              0.7777777777777778,
              "#fb9f3a"
             ],
             [
              0.8888888888888888,
              "#fdca26"
             ],
             [
              1,
              "#f0f921"
             ]
            ],
            "type": "heatmap"
           }
          ],
          "heatmapgl": [
           {
            "colorbar": {
             "outlinewidth": 0,
             "ticks": ""
            },
            "colorscale": [
             [
              0,
              "#0d0887"
             ],
             [
              0.1111111111111111,
              "#46039f"
             ],
             [
              0.2222222222222222,
              "#7201a8"
             ],
             [
              0.3333333333333333,
              "#9c179e"
             ],
             [
              0.4444444444444444,
              "#bd3786"
             ],
             [
              0.5555555555555556,
              "#d8576b"
             ],
             [
              0.6666666666666666,
              "#ed7953"
             ],
             [
              0.7777777777777778,
              "#fb9f3a"
             ],
             [
              0.8888888888888888,
              "#fdca26"
             ],
             [
              1,
              "#f0f921"
             ]
            ],
            "type": "heatmapgl"
           }
          ],
          "histogram": [
           {
            "marker": {
             "pattern": {
              "fillmode": "overlay",
              "size": 10,
              "solidity": 0.2
             }
            },
            "type": "histogram"
           }
          ],
          "histogram2d": [
           {
            "colorbar": {
             "outlinewidth": 0,
             "ticks": ""
            },
            "colorscale": [
             [
              0,
              "#0d0887"
             ],
             [
              0.1111111111111111,
              "#46039f"
             ],
             [
              0.2222222222222222,
              "#7201a8"
             ],
             [
              0.3333333333333333,
              "#9c179e"
             ],
             [
              0.4444444444444444,
              "#bd3786"
             ],
             [
              0.5555555555555556,
              "#d8576b"
             ],
             [
              0.6666666666666666,
              "#ed7953"
             ],
             [
              0.7777777777777778,
              "#fb9f3a"
             ],
             [
              0.8888888888888888,
              "#fdca26"
             ],
             [
              1,
              "#f0f921"
             ]
            ],
            "type": "histogram2d"
           }
          ],
          "histogram2dcontour": [
           {
            "colorbar": {
             "outlinewidth": 0,
             "ticks": ""
            },
            "colorscale": [
             [
              0,
              "#0d0887"
             ],
             [
              0.1111111111111111,
              "#46039f"
             ],
             [
              0.2222222222222222,
              "#7201a8"
             ],
             [
              0.3333333333333333,
              "#9c179e"
             ],
             [
              0.4444444444444444,
              "#bd3786"
             ],
             [
              0.5555555555555556,
              "#d8576b"
             ],
             [
              0.6666666666666666,
              "#ed7953"
             ],
             [
              0.7777777777777778,
              "#fb9f3a"
             ],
             [
              0.8888888888888888,
              "#fdca26"
             ],
             [
              1,
              "#f0f921"
             ]
            ],
            "type": "histogram2dcontour"
           }
          ],
          "mesh3d": [
           {
            "colorbar": {
             "outlinewidth": 0,
             "ticks": ""
            },
            "type": "mesh3d"
           }
          ],
          "parcoords": [
           {
            "line": {
             "colorbar": {
              "outlinewidth": 0,
              "ticks": ""
             }
            },
            "type": "parcoords"
           }
          ],
          "pie": [
           {
            "automargin": true,
            "type": "pie"
           }
          ],
          "scatter": [
           {
            "fillpattern": {
             "fillmode": "overlay",
             "size": 10,
             "solidity": 0.2
            },
            "type": "scatter"
           }
          ],
          "scatter3d": [
           {
            "line": {
             "colorbar": {
              "outlinewidth": 0,
              "ticks": ""
             }
            },
            "marker": {
             "colorbar": {
              "outlinewidth": 0,
              "ticks": ""
             }
            },
            "type": "scatter3d"
           }
          ],
          "scattercarpet": [
           {
            "marker": {
             "colorbar": {
              "outlinewidth": 0,
              "ticks": ""
             }
            },
            "type": "scattercarpet"
           }
          ],
          "scattergeo": [
           {
            "marker": {
             "colorbar": {
              "outlinewidth": 0,
              "ticks": ""
             }
            },
            "type": "scattergeo"
           }
          ],
          "scattergl": [
           {
            "marker": {
             "colorbar": {
              "outlinewidth": 0,
              "ticks": ""
             }
            },
            "type": "scattergl"
           }
          ],
          "scattermapbox": [
           {
            "marker": {
             "colorbar": {
              "outlinewidth": 0,
              "ticks": ""
             }
            },
            "type": "scattermapbox"
           }
          ],
          "scatterpolar": [
           {
            "marker": {
             "colorbar": {
              "outlinewidth": 0,
              "ticks": ""
             }
            },
            "type": "scatterpolar"
           }
          ],
          "scatterpolargl": [
           {
            "marker": {
             "colorbar": {
              "outlinewidth": 0,
              "ticks": ""
             }
            },
            "type": "scatterpolargl"
           }
          ],
          "scatterternary": [
           {
            "marker": {
             "colorbar": {
              "outlinewidth": 0,
              "ticks": ""
             }
            },
            "type": "scatterternary"
           }
          ],
          "surface": [
           {
            "colorbar": {
             "outlinewidth": 0,
             "ticks": ""
            },
            "colorscale": [
             [
              0,
              "#0d0887"
             ],
             [
              0.1111111111111111,
              "#46039f"
             ],
             [
              0.2222222222222222,
              "#7201a8"
             ],
             [
              0.3333333333333333,
              "#9c179e"
             ],
             [
              0.4444444444444444,
              "#bd3786"
             ],
             [
              0.5555555555555556,
              "#d8576b"
             ],
             [
              0.6666666666666666,
              "#ed7953"
             ],
             [
              0.7777777777777778,
              "#fb9f3a"
             ],
             [
              0.8888888888888888,
              "#fdca26"
             ],
             [
              1,
              "#f0f921"
             ]
            ],
            "type": "surface"
           }
          ],
          "table": [
           {
            "cells": {
             "fill": {
              "color": "#EBF0F8"
             },
             "line": {
              "color": "white"
             }
            },
            "header": {
             "fill": {
              "color": "#C8D4E3"
             },
             "line": {
              "color": "white"
             }
            },
            "type": "table"
           }
          ]
         },
         "layout": {
          "annotationdefaults": {
           "arrowcolor": "#2a3f5f",
           "arrowhead": 0,
           "arrowwidth": 1
          },
          "autotypenumbers": "strict",
          "coloraxis": {
           "colorbar": {
            "outlinewidth": 0,
            "ticks": ""
           }
          },
          "colorscale": {
           "diverging": [
            [
             0,
             "#8e0152"
            ],
            [
             0.1,
             "#c51b7d"
            ],
            [
             0.2,
             "#de77ae"
            ],
            [
             0.3,
             "#f1b6da"
            ],
            [
             0.4,
             "#fde0ef"
            ],
            [
             0.5,
             "#f7f7f7"
            ],
            [
             0.6,
             "#e6f5d0"
            ],
            [
             0.7,
             "#b8e186"
            ],
            [
             0.8,
             "#7fbc41"
            ],
            [
             0.9,
             "#4d9221"
            ],
            [
             1,
             "#276419"
            ]
           ],
           "sequential": [
            [
             0,
             "#0d0887"
            ],
            [
             0.1111111111111111,
             "#46039f"
            ],
            [
             0.2222222222222222,
             "#7201a8"
            ],
            [
             0.3333333333333333,
             "#9c179e"
            ],
            [
             0.4444444444444444,
             "#bd3786"
            ],
            [
             0.5555555555555556,
             "#d8576b"
            ],
            [
             0.6666666666666666,
             "#ed7953"
            ],
            [
             0.7777777777777778,
             "#fb9f3a"
            ],
            [
             0.8888888888888888,
             "#fdca26"
            ],
            [
             1,
             "#f0f921"
            ]
           ],
           "sequentialminus": [
            [
             0,
             "#0d0887"
            ],
            [
             0.1111111111111111,
             "#46039f"
            ],
            [
             0.2222222222222222,
             "#7201a8"
            ],
            [
             0.3333333333333333,
             "#9c179e"
            ],
            [
             0.4444444444444444,
             "#bd3786"
            ],
            [
             0.5555555555555556,
             "#d8576b"
            ],
            [
             0.6666666666666666,
             "#ed7953"
            ],
            [
             0.7777777777777778,
             "#fb9f3a"
            ],
            [
             0.8888888888888888,
             "#fdca26"
            ],
            [
             1,
             "#f0f921"
            ]
           ]
          },
          "colorway": [
           "#636efa",
           "#EF553B",
           "#00cc96",
           "#ab63fa",
           "#FFA15A",
           "#19d3f3",
           "#FF6692",
           "#B6E880",
           "#FF97FF",
           "#FECB52"
          ],
          "font": {
           "color": "#2a3f5f"
          },
          "geo": {
           "bgcolor": "white",
           "lakecolor": "white",
           "landcolor": "#E5ECF6",
           "showlakes": true,
           "showland": true,
           "subunitcolor": "white"
          },
          "hoverlabel": {
           "align": "left"
          },
          "hovermode": "closest",
          "mapbox": {
           "style": "light"
          },
          "paper_bgcolor": "white",
          "plot_bgcolor": "#E5ECF6",
          "polar": {
           "angularaxis": {
            "gridcolor": "white",
            "linecolor": "white",
            "ticks": ""
           },
           "bgcolor": "#E5ECF6",
           "radialaxis": {
            "gridcolor": "white",
            "linecolor": "white",
            "ticks": ""
           }
          },
          "scene": {
           "xaxis": {
            "backgroundcolor": "#E5ECF6",
            "gridcolor": "white",
            "gridwidth": 2,
            "linecolor": "white",
            "showbackground": true,
            "ticks": "",
            "zerolinecolor": "white"
           },
           "yaxis": {
            "backgroundcolor": "#E5ECF6",
            "gridcolor": "white",
            "gridwidth": 2,
            "linecolor": "white",
            "showbackground": true,
            "ticks": "",
            "zerolinecolor": "white"
           },
           "zaxis": {
            "backgroundcolor": "#E5ECF6",
            "gridcolor": "white",
            "gridwidth": 2,
            "linecolor": "white",
            "showbackground": true,
            "ticks": "",
            "zerolinecolor": "white"
           }
          },
          "shapedefaults": {
           "line": {
            "color": "#2a3f5f"
           }
          },
          "ternary": {
           "aaxis": {
            "gridcolor": "white",
            "linecolor": "white",
            "ticks": ""
           },
           "baxis": {
            "gridcolor": "white",
            "linecolor": "white",
            "ticks": ""
           },
           "bgcolor": "#E5ECF6",
           "caxis": {
            "gridcolor": "white",
            "linecolor": "white",
            "ticks": ""
           }
          },
          "title": {
           "x": 0.05
          },
          "xaxis": {
           "automargin": true,
           "gridcolor": "white",
           "linecolor": "white",
           "ticks": "",
           "title": {
            "standoff": 15
           },
           "zerolinecolor": "white",
           "zerolinewidth": 2
          },
          "yaxis": {
           "automargin": true,
           "gridcolor": "white",
           "linecolor": "white",
           "ticks": "",
           "title": {
            "standoff": 15
           },
           "zerolinecolor": "white",
           "zerolinewidth": 2
          }
         }
        }
       }
      },
      "text/html": [
       "<div>                            <div id=\"2eedb0c5-8f2b-4705-b7b8-226331e88c7d\" class=\"plotly-graph-div\" style=\"height:525px; width:100%;\"></div>            <script type=\"text/javascript\">                require([\"plotly\"], function(Plotly) {                    window.PLOTLYENV=window.PLOTLYENV || {};                                    if (document.getElementById(\"2eedb0c5-8f2b-4705-b7b8-226331e88c7d\")) {                    Plotly.newPlot(                        \"2eedb0c5-8f2b-4705-b7b8-226331e88c7d\",                        [{\"branchvalues\":\"total\",\"customdata\":[[\"(?)\",24.333333333333332],[279,17.0],[\"(?)\",36.53929539295393],[\"(?)\",60.930348258706466],[\"(?)\",36.09229305423406],[\"(?)\",22.096774193548388],[99,58.0],[\"(?)\",76.39825581395348],[\"(?)\",124.21136224801467],[\"(?)\",27.978461538461538],[\"(?)\",47.80357142857143],[\"(?)\",78.5635528330781],[\"(?)\",40.46153846153846],[819,19.0],[\"(?)\",64.99057437407953],[\"(?)\",30.1],[\"(?)\",19.883116883116884],[\"(?)\",48.13625866050808],[\"(?)\",41.32526381129733],[192,21.0],[1199,16.0],[\"(?)\",30.708978328173373],[\"(?)\",836.8071976871697],[\"(?)\",22.393939393939394],[598,55.0],[\"(?)\",1150.426393520724],[\"(?)\",126.54744525547446],[\"(?)\",82.90975254730714],[20,20.0],[746,21.0],[499,16.0],[\"(?)\",35.39484978540773],[\"(?)\",205.22936081570003],[\"(?)\",30.050420168067227],[800,15.0],[\"(?)\",19.043010752688172],[\"(?)\",54.78171091445428],[\"(?)\",23.38235294117647],[\"(?)\",22.069767441860463],[\"(?)\",55.4753937007874],[\"(?)\",26.519061583577713],[\"(?)\",24.62081784386617],[\"(?)\",31.978060863411184],[849,16.0],[\"(?)\",113.21149897330595],[\"(?)\",74.8],[850,15.0],[\"(?)\",35.90595009596929],[\"(?)\",120.23268482490272],[\"(?)\",46.794026776519054],[940,21.571428571428573],[\"(?)\",162.51496792587312],[\"(?)\",99.92437863564251],[\"(?)\",18.397260273972602],[\"(?)\",55.87640449438202],[\"(?)\",39.32663316582914],[\"(?)\",44.933638443935926],[53,17.0],[200,31.885245901639344],[1900,15.0],[\"(?)\",26.620218579234972],[\"(?)\",29.58407079646018],[\"(?)\",34.7704280155642],[100,16.0],[\"(?)\",91.64391691394658],[\"(?)\",72.01113430758525],[\"(?)\",65.25185749666603],[\"(?)\",73.72605160834217],[200,16.0],[800,17.0],[\"(?)\",24.655430711610485],[\"(?)\",46.1496062992126],[\"(?)\",44.510022271714924],[999,17.0],[\"(?)\",79.63795423956931],[\"(?)\",57.37248479176416],[\"(?)\",25.885714285714286],[\"(?)\",22.504587155963304],[\"(?)\",60.34969325153374],[\"(?)\",72.63235294117646],[\"(?)\",30.853383458646615],[\"(?)\",195.62994836488812],[\"(?)\",18.11111111111111],[\"(?)\",87.92515207617032],[1599,17.0],[\"(?)\",408.752380952381],[\"(?)\",24.880597014925375],[\"(?)\",24.95800524934383],[\"(?)\",122.03537572254335],[\"(?)\",43.44347826086957],[399,15.0],[\"(?)\",39.6096256684492],[\"(?)\",35.348684210526315],[449,16.0],[\"(?)\",97.62973953181668],[\"(?)\",16.515151515151516],[\"(?)\",35.306451612903224],[\"(?)\",28.694444444444443],[\"(?)\",44.49119718309859],[\"(?)\",39.671875],[\"(?)\",23.25089605734767],[\"(?)\",24.303030303030305],[\"(?)\",144.15055833654216],[\"(?)\",93.159169550173],[4999,17.0],[\"(?)\",105.30666666666667],[\"(?)\",49.64981949458484],[\"(?)\",43.78630136986301],[\"(?)\",29.634146341463413],[\"(?)\",23.519736842105264],[\"(?)\",24.318681318681318],[\"(?)\",24.318681318681318],[\"(?)\",82.24708080336292],[\"(?)\",60.930348258706466],[\"(?)\",114.22460335363562],[\"(?)\",26.46067415730337],[\"(?)\",15.72340425531915],[\"(?)\",23.545454545454547],[\"(?)\",23.587209302325583],[\"(?)\",98.17534410532615],[\"(?)\",36.72477064220183],[\"(?)\",834.7713954259198],[\"(?)\",20.633333333333333],[279,17.0],[\"(?)\",57.47605182704906],[\"(?)\",135.2434423052074],[\"(?)\",35.79549718574109],[\"(?)\",1107.9648640391079],[\"(?)\",147.63409669211197],[\"(?)\",109.03508771929825],[\"(?)\",39.880883207437535],[\"(?)\",17.857142857142858],[\"(?)\",69.64784083616027],[\"(?)\",28.188172043010752],[\"(?)\",77.610733400839],[\"(?)\",31.356687898089174],[\"(?)\",39.671875],[\"(?)\",76.39825581395348],[\"(?)\",86.28779069767442],[\"(?)\",106.8361172392058],[\"(?)\",42.244514106583075]],\"domain\":{\"x\":[0.0,1.0],\"y\":[0.0,1.0]},\"hovertemplate\":\"labels=%{label}\\u003cbr\\u003eitems_sold_sum=%{value}\\u003cbr\\u003eparent=%{parent}\\u003cbr\\u003eid=%{id}\\u003cbr\\u003eselling_price=%{customdata[0]}\\u003cbr\\u003eitems_sold=%{color}\\u003cextra\\u003e\\u003c\\u002fextra\\u003e\",\"ids\":[\"Boys\\u002fAccessories\",\"Girls\\u002fAccessories\",\"Household care\\u002fAir Fresheners & Insecticides\",\"Automotive & Motorcycles\\u002fAutomotive\",\"Kids and Baby\\u002fBaby\",\"Boys\\u002fBaby (0-2years)\",\"Food cupboard\\u002fBaby Food\",\"Unisex's accessories\\u002fBags\",\"Women's accessories\\u002fBags\",\"Home\\u002fBath\",\"Household care\\u002fBatteries & Bulbs\",\"Home\\u002fBedding\",\"Men's accessories\\u002fBelts\",\"Women's accessories\\u002fBelts\",\"Beauty & perfumes\\u002fBody shop\",\"Food cupboard\\u002fBread and Bakery\",\"Cameras & Accessories\\u002fCamcorders\",\"Men's accessories\\u002fCaps & hats\",\"Men's shoes\\u002fCasual shoes\",\"Household care\\u002fCleaning tools\",\"Food cupboard\\u002fCondiments & Salad Dressings\",\"Appliances\\u002fCooking\",\"Food cupboard\\u002fCooking & Baking\",\"Home\\u002fCooling\",\"Fashion\\u002fCostumes & Accessories\",\"Laundry\\u002fDetergent Pacs & Tablets\",\"Household care\\u002fDishwashing\",\"Women's clothing\\u002fDresses\",\"Musical Instruments\\u002fElectronic Music, DJ & Karaoke\",\"Men's accessories\\u002fEyewear\",\"Women's accessories\\u002fEyewear\",\"Laundry\\u002fFabric Softener\",\"Beauty & perfumes\\u002fFacial skincare\",\"Sport & Fitness\\u002fFitness\",\"Books & Stationery\\u002fForeign Language Books\",\"Men's shoes\\u002fFormal shoes\",\"Beauty & perfumes\\u002fFragrances\",\"Appliances\\u002fFridges & Freezer\",\"Games & Consoles\\u002fGames & Console Accessories\",\"Beauty & perfumes\\u002fHair care\",\"Beauty & perfumes\\u002fHand, feet & nail care\",\"Women's accessories\\u002fHats & hair fascinators\",\"Beauty & perfumes\\u002fHealth & relaxation\",\"Women's shoes\\u002fHeels\",\"TVs, Audio and Video\\u002fHi-Fi & Stereo\",\"Appliances\\u002fHome Appliances\",\"Books & Stationery\\u002fHome Country Language Books\",\"Home\\u002fHome Decor\",\"Home\\u002fHome Fixture\",\"TVs, Audio and Video\\u002fHome Theatre\",\"Men's clothing\\u002fHoodies & sweatshirts\",\"Household care\\u002fHouse Hold Sundries\",\"Beauty & perfumes\\u002fHygiene\",\"Men's clothing\\u002fJeans\",\"Women's clothing\\u002fJeans & jeggings\",\"Men's accessories\\u002fJewellery\",\"Women's accessories\\u002fJewellery\",\"Beverages\\u002fJuices\",\"Men's clothing\\u002fJumpers & cardigans\",\"Kids and Baby\\u002fKids\",\"Home\\u002fKitchen And Dining\",\"Computing\\u002fLaptops\",\"Home\\u002fLighting\",\"Laundry\\u002fLiquid Detergent\",\"Beauty & perfumes\\u002fMake up\",\"Beauty & perfumes\\u002fMakeup\",\"Phones\\u002fMobile Accessories\",\"Phones\\u002fMobile Phones\",\"Women's clothing\\u002fNightwear\",\"Books & Stationery\\u002fOther Books & Stationery\",\"Cameras & Accessories\\u002fOther Cameras & Accessories\",\"TVs, Audio and Video\\u002fOther TVs, Audio and Video\",\"Beauty & perfumes\\u002fOthers\",\"Home\\u002fOutdoor And Garden\",\"Household care\\u002fPaper & roll\",\"Computing\\u002fPeripherals & Accessories\",\"Home\\u002fPet\",\"Computing\\u002fPrinters, Scanners & Supplies\",\"Women's shoes\\u002fSandals & flip-flops\",\"Women's accessories\\u002fScarves\",\"Men's clothing\\u002fShirts\",\"Women's clothing\\u002fShirts & Blouses\",\"Fashion\\u002fShoe, Jewelry & Watch Accessories\",\"Appliances\\u002fSmall Appliance\",\"Men's shoes\\u002fSneakers\",\"Men's accessories\\u002fSocks\",\"Sport & Fitness\\u002fSport\",\"Home\\u002fStationery\",\"Computing\\u002fStorage\",\"Home\\u002fStorage And Organisation\",\"Musical Instruments\\u002fStudio Recording Equipment\",\"Men's accessories\\u002fSunglasses\",\"Household care\\u002fSurface and Toilet Cleaning\",\"Men's clothing\\u002fT-shirts\",\"TVs, Audio and Video\\u002fTVs & Video Accessories\",\"Tablets & Accessories\\u002fTablets\",\"Tablets & Accessories\\u002fTablets Accessories\",\"Beverages\\u002fTea and Coffee\",\"TVs, Audio and Video\\u002fTelevisons\",\"Tobacco\\u002fTobacco-Related Products\",\"Men's clothing\\u002fTrousers & chinos\",\"Women's clothing\\u002fTrousers & leggings\",\"Men's clothing\\u002fUnderwear\",\"Women's clothing\\u002fUnderwear\",\"Games & Consoles\\u002fVideo Games\",\"Men's accessories\\u002fWallets\",\"Men's accessories\\u002fWatches\",\"Women's accessories\\u002fWatches\",\"TVs, Audio and Video\\u002fWearable Technology\",\"Women's shoes\\u002fWomen's sneakers\",\"Adulte\\u002fadulte\",\"Adulte\",\"Appliances\",\"Automotive & Motorcycles\",\"Beauty & perfumes\",\"Beverages\",\"Books & Stationery\",\"Boys\",\"Cameras & Accessories\",\"Computing\",\"Fashion\",\"Food cupboard\",\"Games & Consoles\",\"Girls\",\"Home\",\"Household care\",\"Kids and Baby\",\"Laundry\",\"Men's accessories\",\"Men's clothing\",\"Men's shoes\",\"Musical Instruments\",\"Phones\",\"Sport & Fitness\",\"TVs, Audio and Video\",\"Tablets & Accessories\",\"Tobacco\",\"Unisex's accessories\",\"Women's accessories\",\"Women's clothing\",\"Women's shoes\"],\"labels\":[\"Accessories\",\"Accessories\",\"Air Fresheners & Insecticides\",\"Automotive\",\"Baby\",\"Baby (0-2years)\",\"Baby Food\",\"Bags\",\"Bags\",\"Bath\",\"Batteries & Bulbs\",\"Bedding\",\"Belts\",\"Belts\",\"Body shop\",\"Bread and Bakery\",\"Camcorders\",\"Caps & hats\",\"Casual shoes\",\"Cleaning tools\",\"Condiments & Salad Dressings\",\"Cooking\",\"Cooking & Baking\",\"Cooling\",\"Costumes & Accessories\",\"Detergent Pacs & Tablets\",\"Dishwashing\",\"Dresses\",\"Electronic Music, DJ & Karaoke\",\"Eyewear\",\"Eyewear\",\"Fabric Softener\",\"Facial skincare\",\"Fitness\",\"Foreign Language Books\",\"Formal shoes\",\"Fragrances\",\"Fridges & Freezer\",\"Games & Console Accessories\",\"Hair care\",\"Hand, feet & nail care\",\"Hats & hair fascinators\",\"Health & relaxation\",\"Heels\",\"Hi-Fi & Stereo\",\"Home Appliances\",\"Home Country Language Books\",\"Home Decor\",\"Home Fixture\",\"Home Theatre\",\"Hoodies & sweatshirts\",\"House Hold Sundries\",\"Hygiene\",\"Jeans\",\"Jeans & jeggings\",\"Jewellery\",\"Jewellery\",\"Juices\",\"Jumpers & cardigans\",\"Kids\",\"Kitchen And Dining\",\"Laptops\",\"Lighting\",\"Liquid Detergent\",\"Make up\",\"Makeup\",\"Mobile Accessories\",\"Mobile Phones\",\"Nightwear\",\"Other Books & Stationery\",\"Other Cameras & Accessories\",\"Other TVs, Audio and Video\",\"Others\",\"Outdoor And Garden\",\"Paper & roll\",\"Peripherals & Accessories\",\"Pet\",\"Printers, Scanners & Supplies\",\"Sandals & flip-flops\",\"Scarves\",\"Shirts\",\"Shirts & Blouses\",\"Shoe, Jewelry & Watch Accessories\",\"Small Appliance\",\"Sneakers\",\"Socks\",\"Sport\",\"Stationery\",\"Storage\",\"Storage And Organisation\",\"Studio Recording Equipment\",\"Sunglasses\",\"Surface and Toilet Cleaning\",\"T-shirts\",\"TVs & Video Accessories\",\"Tablets\",\"Tablets Accessories\",\"Tea and Coffee\",\"Televisons\",\"Tobacco-Related Products\",\"Trousers & chinos\",\"Trousers & leggings\",\"Underwear\",\"Underwear\",\"Video Games\",\"Wallets\",\"Watches\",\"Watches\",\"Wearable Technology\",\"Women's sneakers\",\"adulte\",\"Adulte\",\"Appliances\",\"Automotive & Motorcycles\",\"Beauty & perfumes\",\"Beverages\",\"Books & Stationery\",\"Boys\",\"Cameras & Accessories\",\"Computing\",\"Fashion\",\"Food cupboard\",\"Games & Consoles\",\"Girls\",\"Home\",\"Household care\",\"Kids and Baby\",\"Laundry\",\"Men's accessories\",\"Men's clothing\",\"Men's shoes\",\"Musical Instruments\",\"Phones\",\"Sport & Fitness\",\"TVs, Audio and Video\",\"Tablets & Accessories\",\"Tobacco\",\"Unisex's accessories\",\"Women's accessories\",\"Women's clothing\",\"Women's shoes\"],\"marker\":{\"coloraxis\":\"coloraxis\",\"colors\":[24.333333333333332,17.0,36.53929539295393,60.930348258706466,36.09229305423406,22.096774193548388,58.0,76.39825581395348,124.21136224801467,27.978461538461538,47.80357142857143,78.5635528330781,40.46153846153846,19.0,64.99057437407953,30.1,19.883116883116884,48.13625866050808,41.32526381129733,21.0,16.0,30.708978328173373,836.8071976871697,22.393939393939394,55.0,1150.426393520724,126.54744525547446,82.90975254730714,20.0,21.0,16.0,35.39484978540773,205.22936081570003,30.050420168067227,15.0,19.043010752688172,54.78171091445428,23.38235294117647,22.069767441860463,55.4753937007874,26.519061583577713,24.62081784386617,31.978060863411184,16.0,113.21149897330595,74.8,15.0,35.90595009596929,120.23268482490272,46.794026776519054,21.571428571428573,162.51496792587312,99.92437863564251,18.397260273972602,55.87640449438202,39.32663316582914,44.933638443935926,17.0,31.885245901639344,15.0,26.620218579234972,29.58407079646018,34.7704280155642,16.0,91.64391691394658,72.01113430758525,65.25185749666603,73.72605160834217,16.0,17.0,24.655430711610485,46.1496062992126,44.510022271714924,17.0,79.63795423956931,57.37248479176416,25.885714285714286,22.504587155963304,60.34969325153374,72.63235294117646,30.853383458646615,195.62994836488812,18.11111111111111,87.92515207617032,17.0,408.752380952381,24.880597014925375,24.95800524934383,122.03537572254335,43.44347826086957,15.0,39.6096256684492,35.348684210526315,16.0,97.62973953181668,16.515151515151516,35.306451612903224,28.694444444444443,44.49119718309859,39.671875,23.25089605734767,24.303030303030305,144.15055833654216,93.159169550173,17.0,105.30666666666667,49.64981949458484,43.78630136986301,29.634146341463413,23.519736842105264,24.318681318681318,24.318681318681318,82.24708080336292,60.930348258706466,114.22460335363562,26.46067415730337,15.72340425531915,23.545454545454547,23.587209302325583,98.17534410532615,36.72477064220183,834.7713954259198,20.633333333333333,17.0,57.47605182704906,135.2434423052074,35.79549718574109,1107.9648640391079,147.63409669211197,109.03508771929825,39.880883207437535,17.857142857142858,69.64784083616027,28.188172043010752,77.610733400839,31.356687898089174,39.671875,76.39825581395348,86.28779069767442,106.8361172392058,42.244514106583075]},\"name\":\"\",\"parents\":[\"Boys\",\"Girls\",\"Household care\",\"Automotive & Motorcycles\",\"Kids and Baby\",\"Boys\",\"Food cupboard\",\"Unisex's accessories\",\"Women's accessories\",\"Home\",\"Household care\",\"Home\",\"Men's accessories\",\"Women's accessories\",\"Beauty & perfumes\",\"Food cupboard\",\"Cameras & Accessories\",\"Men's accessories\",\"Men's shoes\",\"Household care\",\"Food cupboard\",\"Appliances\",\"Food cupboard\",\"Home\",\"Fashion\",\"Laundry\",\"Household care\",\"Women's clothing\",\"Musical Instruments\",\"Men's accessories\",\"Women's accessories\",\"Laundry\",\"Beauty & perfumes\",\"Sport & Fitness\",\"Books & Stationery\",\"Men's shoes\",\"Beauty & perfumes\",\"Appliances\",\"Games & Consoles\",\"Beauty & perfumes\",\"Beauty & perfumes\",\"Women's accessories\",\"Beauty & perfumes\",\"Women's shoes\",\"TVs, Audio and Video\",\"Appliances\",\"Books & Stationery\",\"Home\",\"Home\",\"TVs, Audio and Video\",\"Men's clothing\",\"Household care\",\"Beauty & perfumes\",\"Men's clothing\",\"Women's clothing\",\"Men's accessories\",\"Women's accessories\",\"Beverages\",\"Men's clothing\",\"Kids and Baby\",\"Home\",\"Computing\",\"Home\",\"Laundry\",\"Beauty & perfumes\",\"Beauty & perfumes\",\"Phones\",\"Phones\",\"Women's clothing\",\"Books & Stationery\",\"Cameras & Accessories\",\"TVs, Audio and Video\",\"Beauty & perfumes\",\"Home\",\"Household care\",\"Computing\",\"Home\",\"Computing\",\"Women's shoes\",\"Women's accessories\",\"Men's clothing\",\"Women's clothing\",\"Fashion\",\"Appliances\",\"Men's shoes\",\"Men's accessories\",\"Sport & Fitness\",\"Home\",\"Computing\",\"Home\",\"Musical Instruments\",\"Men's accessories\",\"Household care\",\"Men's clothing\",\"TVs, Audio and Video\",\"Tablets & Accessories\",\"Tablets & Accessories\",\"Beverages\",\"TVs, Audio and Video\",\"Tobacco\",\"Men's clothing\",\"Women's clothing\",\"Men's clothing\",\"Women's clothing\",\"Games & Consoles\",\"Men's accessories\",\"Men's accessories\",\"Women's accessories\",\"TVs, Audio and Video\",\"Women's shoes\",\"Adulte\",\"\",\"\",\"\",\"\",\"\",\"\",\"\",\"\",\"\",\"\",\"\",\"\",\"\",\"\",\"\",\"\",\"\",\"\",\"\",\"\",\"\",\"\",\"\",\"\",\"\",\"\",\"\",\"\",\"\",\"\"],\"values\":[114,17,369,402,1051,62,58,688,3274,325,112,1306,156,19,6790,80,77,433,1611,21,16,323,60186,66,55,6297,274,687,20,21,16,233,9121,238,15,93,339,68,43,2032,341,269,1413,16,974,110,15,521,1285,971,147,5612,1891,73,89,398,1748,17,61,15,1464,113,514,16,1348,2874,5249,5658,16,17,267,635,449,17,743,2137,70,109,652,136,532,581,54,3781,17,1050,134,381,4325,920,15,187,608,16,3033,33,124,72,1136,128,279,66,2597,1734,17,300,1385,730,164,608,91,91,4282,402,26598,89,47,176,344,6684,109,60340,60,17,6869,7739,1066,6546,3930,3705,1721,35,10907,372,6913,157,128,688,6192,3173,1276],\"type\":\"sunburst\"}],                        {\"template\":{\"data\":{\"histogram2dcontour\":[{\"type\":\"histogram2dcontour\",\"colorbar\":{\"outlinewidth\":0,\"ticks\":\"\"},\"colorscale\":[[0.0,\"#0d0887\"],[0.1111111111111111,\"#46039f\"],[0.2222222222222222,\"#7201a8\"],[0.3333333333333333,\"#9c179e\"],[0.4444444444444444,\"#bd3786\"],[0.5555555555555556,\"#d8576b\"],[0.6666666666666666,\"#ed7953\"],[0.7777777777777778,\"#fb9f3a\"],[0.8888888888888888,\"#fdca26\"],[1.0,\"#f0f921\"]]}],\"choropleth\":[{\"type\":\"choropleth\",\"colorbar\":{\"outlinewidth\":0,\"ticks\":\"\"}}],\"histogram2d\":[{\"type\":\"histogram2d\",\"colorbar\":{\"outlinewidth\":0,\"ticks\":\"\"},\"colorscale\":[[0.0,\"#0d0887\"],[0.1111111111111111,\"#46039f\"],[0.2222222222222222,\"#7201a8\"],[0.3333333333333333,\"#9c179e\"],[0.4444444444444444,\"#bd3786\"],[0.5555555555555556,\"#d8576b\"],[0.6666666666666666,\"#ed7953\"],[0.7777777777777778,\"#fb9f3a\"],[0.8888888888888888,\"#fdca26\"],[1.0,\"#f0f921\"]]}],\"heatmap\":[{\"type\":\"heatmap\",\"colorbar\":{\"outlinewidth\":0,\"ticks\":\"\"},\"colorscale\":[[0.0,\"#0d0887\"],[0.1111111111111111,\"#46039f\"],[0.2222222222222222,\"#7201a8\"],[0.3333333333333333,\"#9c179e\"],[0.4444444444444444,\"#bd3786\"],[0.5555555555555556,\"#d8576b\"],[0.6666666666666666,\"#ed7953\"],[0.7777777777777778,\"#fb9f3a\"],[0.8888888888888888,\"#fdca26\"],[1.0,\"#f0f921\"]]}],\"heatmapgl\":[{\"type\":\"heatmapgl\",\"colorbar\":{\"outlinewidth\":0,\"ticks\":\"\"},\"colorscale\":[[0.0,\"#0d0887\"],[0.1111111111111111,\"#46039f\"],[0.2222222222222222,\"#7201a8\"],[0.3333333333333333,\"#9c179e\"],[0.4444444444444444,\"#bd3786\"],[0.5555555555555556,\"#d8576b\"],[0.6666666666666666,\"#ed7953\"],[0.7777777777777778,\"#fb9f3a\"],[0.8888888888888888,\"#fdca26\"],[1.0,\"#f0f921\"]]}],\"contourcarpet\":[{\"type\":\"contourcarpet\",\"colorbar\":{\"outlinewidth\":0,\"ticks\":\"\"}}],\"contour\":[{\"type\":\"contour\",\"colorbar\":{\"outlinewidth\":0,\"ticks\":\"\"},\"colorscale\":[[0.0,\"#0d0887\"],[0.1111111111111111,\"#46039f\"],[0.2222222222222222,\"#7201a8\"],[0.3333333333333333,\"#9c179e\"],[0.4444444444444444,\"#bd3786\"],[0.5555555555555556,\"#d8576b\"],[0.6666666666666666,\"#ed7953\"],[0.7777777777777778,\"#fb9f3a\"],[0.8888888888888888,\"#fdca26\"],[1.0,\"#f0f921\"]]}],\"surface\":[{\"type\":\"surface\",\"colorbar\":{\"outlinewidth\":0,\"ticks\":\"\"},\"colorscale\":[[0.0,\"#0d0887\"],[0.1111111111111111,\"#46039f\"],[0.2222222222222222,\"#7201a8\"],[0.3333333333333333,\"#9c179e\"],[0.4444444444444444,\"#bd3786\"],[0.5555555555555556,\"#d8576b\"],[0.6666666666666666,\"#ed7953\"],[0.7777777777777778,\"#fb9f3a\"],[0.8888888888888888,\"#fdca26\"],[1.0,\"#f0f921\"]]}],\"mesh3d\":[{\"type\":\"mesh3d\",\"colorbar\":{\"outlinewidth\":0,\"ticks\":\"\"}}],\"scatter\":[{\"fillpattern\":{\"fillmode\":\"overlay\",\"size\":10,\"solidity\":0.2},\"type\":\"scatter\"}],\"parcoords\":[{\"type\":\"parcoords\",\"line\":{\"colorbar\":{\"outlinewidth\":0,\"ticks\":\"\"}}}],\"scatterpolargl\":[{\"type\":\"scatterpolargl\",\"marker\":{\"colorbar\":{\"outlinewidth\":0,\"ticks\":\"\"}}}],\"bar\":[{\"error_x\":{\"color\":\"#2a3f5f\"},\"error_y\":{\"color\":\"#2a3f5f\"},\"marker\":{\"line\":{\"color\":\"#E5ECF6\",\"width\":0.5},\"pattern\":{\"fillmode\":\"overlay\",\"size\":10,\"solidity\":0.2}},\"type\":\"bar\"}],\"scattergeo\":[{\"type\":\"scattergeo\",\"marker\":{\"colorbar\":{\"outlinewidth\":0,\"ticks\":\"\"}}}],\"scatterpolar\":[{\"type\":\"scatterpolar\",\"marker\":{\"colorbar\":{\"outlinewidth\":0,\"ticks\":\"\"}}}],\"histogram\":[{\"marker\":{\"pattern\":{\"fillmode\":\"overlay\",\"size\":10,\"solidity\":0.2}},\"type\":\"histogram\"}],\"scattergl\":[{\"type\":\"scattergl\",\"marker\":{\"colorbar\":{\"outlinewidth\":0,\"ticks\":\"\"}}}],\"scatter3d\":[{\"type\":\"scatter3d\",\"line\":{\"colorbar\":{\"outlinewidth\":0,\"ticks\":\"\"}},\"marker\":{\"colorbar\":{\"outlinewidth\":0,\"ticks\":\"\"}}}],\"scattermapbox\":[{\"type\":\"scattermapbox\",\"marker\":{\"colorbar\":{\"outlinewidth\":0,\"ticks\":\"\"}}}],\"scatterternary\":[{\"type\":\"scatterternary\",\"marker\":{\"colorbar\":{\"outlinewidth\":0,\"ticks\":\"\"}}}],\"scattercarpet\":[{\"type\":\"scattercarpet\",\"marker\":{\"colorbar\":{\"outlinewidth\":0,\"ticks\":\"\"}}}],\"carpet\":[{\"aaxis\":{\"endlinecolor\":\"#2a3f5f\",\"gridcolor\":\"white\",\"linecolor\":\"white\",\"minorgridcolor\":\"white\",\"startlinecolor\":\"#2a3f5f\"},\"baxis\":{\"endlinecolor\":\"#2a3f5f\",\"gridcolor\":\"white\",\"linecolor\":\"white\",\"minorgridcolor\":\"white\",\"startlinecolor\":\"#2a3f5f\"},\"type\":\"carpet\"}],\"table\":[{\"cells\":{\"fill\":{\"color\":\"#EBF0F8\"},\"line\":{\"color\":\"white\"}},\"header\":{\"fill\":{\"color\":\"#C8D4E3\"},\"line\":{\"color\":\"white\"}},\"type\":\"table\"}],\"barpolar\":[{\"marker\":{\"line\":{\"color\":\"#E5ECF6\",\"width\":0.5},\"pattern\":{\"fillmode\":\"overlay\",\"size\":10,\"solidity\":0.2}},\"type\":\"barpolar\"}],\"pie\":[{\"automargin\":true,\"type\":\"pie\"}]},\"layout\":{\"autotypenumbers\":\"strict\",\"colorway\":[\"#636efa\",\"#EF553B\",\"#00cc96\",\"#ab63fa\",\"#FFA15A\",\"#19d3f3\",\"#FF6692\",\"#B6E880\",\"#FF97FF\",\"#FECB52\"],\"font\":{\"color\":\"#2a3f5f\"},\"hovermode\":\"closest\",\"hoverlabel\":{\"align\":\"left\"},\"paper_bgcolor\":\"white\",\"plot_bgcolor\":\"#E5ECF6\",\"polar\":{\"bgcolor\":\"#E5ECF6\",\"angularaxis\":{\"gridcolor\":\"white\",\"linecolor\":\"white\",\"ticks\":\"\"},\"radialaxis\":{\"gridcolor\":\"white\",\"linecolor\":\"white\",\"ticks\":\"\"}},\"ternary\":{\"bgcolor\":\"#E5ECF6\",\"aaxis\":{\"gridcolor\":\"white\",\"linecolor\":\"white\",\"ticks\":\"\"},\"baxis\":{\"gridcolor\":\"white\",\"linecolor\":\"white\",\"ticks\":\"\"},\"caxis\":{\"gridcolor\":\"white\",\"linecolor\":\"white\",\"ticks\":\"\"}},\"coloraxis\":{\"colorbar\":{\"outlinewidth\":0,\"ticks\":\"\"}},\"colorscale\":{\"sequential\":[[0.0,\"#0d0887\"],[0.1111111111111111,\"#46039f\"],[0.2222222222222222,\"#7201a8\"],[0.3333333333333333,\"#9c179e\"],[0.4444444444444444,\"#bd3786\"],[0.5555555555555556,\"#d8576b\"],[0.6666666666666666,\"#ed7953\"],[0.7777777777777778,\"#fb9f3a\"],[0.8888888888888888,\"#fdca26\"],[1.0,\"#f0f921\"]],\"sequentialminus\":[[0.0,\"#0d0887\"],[0.1111111111111111,\"#46039f\"],[0.2222222222222222,\"#7201a8\"],[0.3333333333333333,\"#9c179e\"],[0.4444444444444444,\"#bd3786\"],[0.5555555555555556,\"#d8576b\"],[0.6666666666666666,\"#ed7953\"],[0.7777777777777778,\"#fb9f3a\"],[0.8888888888888888,\"#fdca26\"],[1.0,\"#f0f921\"]],\"diverging\":[[0,\"#8e0152\"],[0.1,\"#c51b7d\"],[0.2,\"#de77ae\"],[0.3,\"#f1b6da\"],[0.4,\"#fde0ef\"],[0.5,\"#f7f7f7\"],[0.6,\"#e6f5d0\"],[0.7,\"#b8e186\"],[0.8,\"#7fbc41\"],[0.9,\"#4d9221\"],[1,\"#276419\"]]},\"xaxis\":{\"gridcolor\":\"white\",\"linecolor\":\"white\",\"ticks\":\"\",\"title\":{\"standoff\":15},\"zerolinecolor\":\"white\",\"automargin\":true,\"zerolinewidth\":2},\"yaxis\":{\"gridcolor\":\"white\",\"linecolor\":\"white\",\"ticks\":\"\",\"title\":{\"standoff\":15},\"zerolinecolor\":\"white\",\"automargin\":true,\"zerolinewidth\":2},\"scene\":{\"xaxis\":{\"backgroundcolor\":\"#E5ECF6\",\"gridcolor\":\"white\",\"linecolor\":\"white\",\"showbackground\":true,\"ticks\":\"\",\"zerolinecolor\":\"white\",\"gridwidth\":2},\"yaxis\":{\"backgroundcolor\":\"#E5ECF6\",\"gridcolor\":\"white\",\"linecolor\":\"white\",\"showbackground\":true,\"ticks\":\"\",\"zerolinecolor\":\"white\",\"gridwidth\":2},\"zaxis\":{\"backgroundcolor\":\"#E5ECF6\",\"gridcolor\":\"white\",\"linecolor\":\"white\",\"showbackground\":true,\"ticks\":\"\",\"zerolinecolor\":\"white\",\"gridwidth\":2}},\"shapedefaults\":{\"line\":{\"color\":\"#2a3f5f\"}},\"annotationdefaults\":{\"arrowcolor\":\"#2a3f5f\",\"arrowhead\":0,\"arrowwidth\":1},\"geo\":{\"bgcolor\":\"white\",\"landcolor\":\"#E5ECF6\",\"subunitcolor\":\"white\",\"showland\":true,\"showlakes\":true,\"lakecolor\":\"white\"},\"title\":{\"x\":0.05},\"mapbox\":{\"style\":\"light\"}}},\"coloraxis\":{\"colorbar\":{\"title\":{\"text\":\"items_sold\"}},\"colorscale\":[[0.0,\"#0d0887\"],[0.1111111111111111,\"#46039f\"],[0.2222222222222222,\"#7201a8\"],[0.3333333333333333,\"#9c179e\"],[0.4444444444444444,\"#bd3786\"],[0.5555555555555556,\"#d8576b\"],[0.6666666666666666,\"#ed7953\"],[0.7777777777777778,\"#fb9f3a\"],[0.8888888888888888,\"#fdca26\"],[1.0,\"#f0f921\"]]},\"legend\":{\"tracegroupgap\":0},\"margin\":{\"t\":60}},                        {\"responsive\": true}                    ).then(function(){\n",
       "                            \n",
       "var gd = document.getElementById('2eedb0c5-8f2b-4705-b7b8-226331e88c7d');\n",
       "var x = new MutationObserver(function (mutations, observer) {{\n",
       "        var display = window.getComputedStyle(gd).display;\n",
       "        if (!display || display === 'none') {{\n",
       "            console.log([gd, 'removed!']);\n",
       "            Plotly.purge(gd);\n",
       "            observer.disconnect();\n",
       "        }}\n",
       "}});\n",
       "\n",
       "// Listen for the removal of the full notebook cells\n",
       "var notebookContainer = gd.closest('#notebook-container');\n",
       "if (notebookContainer) {{\n",
       "    x.observe(notebookContainer, {childList: true});\n",
       "}}\n",
       "\n",
       "// Listen for the clearing of the current output cell\n",
       "var outputEl = gd.closest('.output');\n",
       "if (outputEl) {{\n",
       "    x.observe(outputEl, {childList: true});\n",
       "}}\n",
       "\n",
       "                        })                };                });            </script>        </div>"
      ]
     },
     "metadata": {},
     "output_type": "display_data"
    },
    {
     "data": {
      "application/vnd.plotly.v1+json": {
       "config": {
        "plotlyServerURL": "https://plot.ly"
       },
       "data": [
        {
         "branchvalues": "total",
         "customdata": [
          [
           596.4298245614035,
           596.4298245614035
          ],
          [
           279,
           279
          ],
          [
           176.6341463414634,
           176.6341463414634
          ],
          [
           696.723880597015,
           696.723880597015
          ],
          [
           671.2017126546147,
           671.2017126546147
          ],
          [
           695.7258064516129,
           695.7258064516129
          ],
          [
           99,
           99
          ],
          [
           897.7398255813954,
           897.7398255813954
          ],
          [
           915.6652412950519,
           915.6652412950519
          ],
          [
           1003.5846153846154,
           1003.5846153846154
          ],
          [
           159.89285714285714,
           159.89285714285714
          ],
          [
           1090.2664624808576,
           1090.2664624808576
          ],
          [
           710.0384615384615,
           710.0384615384615
          ],
          [
           819,
           819
          ],
          [
           457.3111929307806,
           457.3111929307806
          ],
          [
           230,
           230
          ],
          [
           1893.8311688311687,
           1893.8311688311687
          ],
          [
           364.82678983833716,
           364.82678983833716
          ],
          [
           876.9335816263191,
           876.9335816263191
          ],
          [
           192,
           192
          ],
          [
           1199,
           1199
          ],
          [
           3227.6068111455106,
           3227.6068111455106
          ],
          [
           294.7112451400658,
           294.7112451400658
          ],
          [
           1837.909090909091,
           1837.909090909091
          ],
          [
           598,
           598
          ],
          [
           184.7487692552009,
           184.7487692552009
          ],
          [
           116.75547445255475,
           116.75547445255475
          ],
          [
           446.863173216885,
           446.863173216885
          ],
          [
           20,
           20
          ],
          [
           746,
           746
          ],
          [
           499,
           499
          ],
          [
           476.69957081545067,
           476.69957081545067
          ],
          [
           542.101195044403,
           542.101195044403
          ],
          [
           771.7773109243698,
           771.7773109243698
          ],
          [
           800,
           800
          ],
          [
           1217.279569892473,
           1217.279569892473
          ],
          [
           616.2949852507375,
           616.2949852507375
          ],
          [
           25414.45588235294,
           25414.45588235294
          ],
          [
           1877.8372093023256,
           1877.8372093023256
          ],
          [
           787.9729330708661,
           787.9729330708661
          ],
          [
           341.95014662756597,
           341.95014662756597
          ],
          [
           538.1003717472119,
           538.1003717472119
          ],
          [
           934.7162066525124,
           934.7162066525124
          ],
          [
           849,
           849
          ],
          [
           833.5687885010267,
           833.5687885010267
          ],
          [
           1649.2,
           1649.2
          ],
          [
           850,
           850
          ],
          [
           711.0518234165067,
           711.0518234165067
          ],
          [
           1424.0303501945525,
           1424.0303501945525
          ],
          [
           4409.513903192585,
           4409.513903192585
          ],
          [
           940,
           940
          ],
          [
           294.0972915181753,
           294.0972915181753
          ],
          [
           263.3141195134849,
           263.3141195134849
          ],
          [
           1167,
           1167
          ],
          [
           389.8876404494382,
           389.8876404494382
          ],
          [
           252.3819095477387,
           252.3819095477387
          ],
          [
           250.43821510297482,
           250.43821510297482
          ],
          [
           53,
           53
          ],
          [
           200,
           200
          ],
          [
           1900,
           1900
          ],
          [
           1067.9938524590164,
           1067.9938524590164
          ],
          [
           23900.433628318584,
           23900.433628318584
          ],
          [
           2326.486381322957,
           2326.486381322957
          ],
          [
           100,
           100
          ],
          [
           388.5118694362018,
           388.5118694362018
          ],
          [
           631.7059846903271,
           631.7059846903271
          ],
          [
           869.8574966660316,
           869.8574966660316
          ],
          [
           10974.455991516437,
           10974.455991516437
          ],
          [
           200,
           200
          ],
          [
           800,
           800
          ],
          [
           1291.112359550562,
           1291.112359550562
          ],
          [
           714.088188976378,
           714.088188976378
          ],
          [
           833.9710467706013,
           833.9710467706013
          ],
          [
           999,
           999
          ],
          [
           72.24226110363392,
           72.24226110363392
          ],
          [
           794.4922788956482,
           794.4922788956482
          ],
          [
           81.65714285714286,
           81.65714285714286
          ],
          [
           2894.1651376146788,
           2894.1651376146788
          ],
          [
           251.45705521472394,
           251.45705521472394
          ],
          [
           313.3235294117647,
           313.3235294117647
          ],
          [
           1204.3853383458647,
           1204.3853383458647
          ],
          [
           404.61790017211706,
           404.61790017211706
          ],
          [
           452.8703703703704,
           452.8703703703704
          ],
          [
           1484.0476064533193,
           1484.0476064533193
          ],
          [
           1599,
           1599
          ],
          [
           164.9009523809524,
           164.9009523809524
          ],
          [
           708.6940298507462,
           708.6940298507462
          ],
          [
           785.5958005249344,
           785.5958005249344
          ],
          [
           661.98612716763,
           661.98612716763
          ],
          [
           1882.333695652174,
           1882.333695652174
          ],
          [
           399,
           399
          ],
          [
           388.47058823529414,
           388.47058823529414
          ],
          [
           199.45888157894737,
           199.45888157894737
          ],
          [
           449,
           449
          ],
          [
           799.0837454665348,
           799.0837454665348
          ],
          [
           9247.575757575758,
           9247.575757575758
          ],
          [
           330.1532258064516,
           330.1532258064516
          ],
          [
           598.9861111111111,
           598.9861111111111
          ],
          [
           17636.293133802817,
           17636.293133802817
          ],
          [
           1076.578125,
           1076.578125
          ],
          [
           779,
           779
          ],
          [
           765.1818181818181,
           765.1818181818181
          ],
          [
           607.8548324990373,
           607.8548324990373
          ],
          [
           607.7295271049596,
           607.7295271049596
          ],
          [
           4999,
           4999
          ],
          [
           470.8933333333333,
           470.8933333333333
          ],
          [
           654.9415162454874,
           654.9415162454874
          ],
          [
           577.7219178082191,
           577.7219178082191
          ],
          [
           1192.6463414634147,
           1192.6463414634147
          ],
          [
           679.1315789473684,
           679.1315789473684
          ],
          [
           1333.9450549450548,
           1333.9450549450548
          ],
          [
           1333.9450549450548,
           1333.9450549450548
          ],
          [
           1999.8355908453993,
           1999.8355908453993
          ],
          [
           696.723880597015,
           696.723880597015
          ],
          [
           545.4812015941048,
           545.4812015941048
          ],
          [
           494.69662921348316,
           494.69662921348316
          ],
          [
           815.9574468085107,
           815.9574468085107
          ],
          [
           631.4090909090909,
           631.4090909090909
          ],
          [
           1426.0232558139535,
           1426.0232558139535
          ],
          [
           1133.6225314183123,
           1133.6225314183123
          ],
          [
           526.1009174311927,
           526.1009174311927
          ],
          [
           294.67711302618494,
           294.67711302618494
          ],
          [
           2762.1666666666665,
           2762.1666666666665
          ],
          [
           279,
           279
          ],
          [
           1293.4644052991703,
           1293.4644052991703
          ],
          [
           251.2637291639747,
           251.2637291639747
          ],
          [
           688.4924953095684,
           688.4924953095684
          ],
          [
           194.93339443935227,
           194.93339443935227
          ],
          [
           427.22697201017814,
           427.22697201017814
          ],
          [
           723.1924426450743,
           723.1924426450743
          ],
          [
           902.4578733294596,
           902.4578733294596
          ],
          [
           182.42857142857142,
           182.42857142857142
          ],
          [
           6111.612175667003,
           6111.612175667003
          ],
          [
           749.0537634408602,
           749.0537634408602
          ],
          [
           4079.419065528714,
           4079.419065528714
          ],
          [
           2204.515923566879,
           2204.515923566879
          ],
          [
           1076.578125,
           1076.578125
          ],
          [
           897.7398255813954,
           897.7398255813954
          ],
          [
           657.0247093023256,
           657.0247093023256
          ],
          [
           530.8172076898834,
           530.8172076898834
          ],
          [
           462.73197492163007,
           462.73197492163007
          ]
         ],
         "domain": {
          "x": [
           0,
           1
          ],
          "y": [
           0,
           1
          ]
         },
         "hovertemplate": "labels=%{label}<br>items_sold=%{value}<br>parent=%{parent}<br>id=%{id}<br>selling_price=%{color}<extra></extra>",
         "ids": [
          "Boys/Accessories",
          "Girls/Accessories",
          "Household care/Air Fresheners & Insecticides",
          "Automotive & Motorcycles/Automotive",
          "Kids and Baby/Baby",
          "Boys/Baby (0-2years)",
          "Food cupboard/Baby Food",
          "Unisex's accessories/Bags",
          "Women's accessories/Bags",
          "Home/Bath",
          "Household care/Batteries & Bulbs",
          "Home/Bedding",
          "Men's accessories/Belts",
          "Women's accessories/Belts",
          "Beauty & perfumes/Body shop",
          "Food cupboard/Bread and Bakery",
          "Cameras & Accessories/Camcorders",
          "Men's accessories/Caps & hats",
          "Men's shoes/Casual shoes",
          "Household care/Cleaning tools",
          "Food cupboard/Condiments & Salad Dressings",
          "Appliances/Cooking",
          "Food cupboard/Cooking & Baking",
          "Home/Cooling",
          "Fashion/Costumes & Accessories",
          "Laundry/Detergent Pacs & Tablets",
          "Household care/Dishwashing",
          "Women's clothing/Dresses",
          "Musical Instruments/Electronic Music, DJ & Karaoke",
          "Men's accessories/Eyewear",
          "Women's accessories/Eyewear",
          "Laundry/Fabric Softener",
          "Beauty & perfumes/Facial skincare",
          "Sport & Fitness/Fitness",
          "Books & Stationery/Foreign Language Books",
          "Men's shoes/Formal shoes",
          "Beauty & perfumes/Fragrances",
          "Appliances/Fridges & Freezer",
          "Games & Consoles/Games & Console Accessories",
          "Beauty & perfumes/Hair care",
          "Beauty & perfumes/Hand, feet & nail care",
          "Women's accessories/Hats & hair fascinators",
          "Beauty & perfumes/Health & relaxation",
          "Women's shoes/Heels",
          "TVs, Audio and Video/Hi-Fi & Stereo",
          "Appliances/Home Appliances",
          "Books & Stationery/Home Country Language Books",
          "Home/Home Decor",
          "Home/Home Fixture",
          "TVs, Audio and Video/Home Theatre",
          "Men's clothing/Hoodies & sweatshirts",
          "Household care/House Hold Sundries",
          "Beauty & perfumes/Hygiene",
          "Men's clothing/Jeans",
          "Women's clothing/Jeans & jeggings",
          "Men's accessories/Jewellery",
          "Women's accessories/Jewellery",
          "Beverages/Juices",
          "Men's clothing/Jumpers & cardigans",
          "Kids and Baby/Kids",
          "Home/Kitchen And Dining",
          "Computing/Laptops",
          "Home/Lighting",
          "Laundry/Liquid Detergent",
          "Beauty & perfumes/Make up",
          "Beauty & perfumes/Makeup",
          "Phones/Mobile Accessories",
          "Phones/Mobile Phones",
          "Women's clothing/Nightwear",
          "Books & Stationery/Other Books & Stationery",
          "Cameras & Accessories/Other Cameras & Accessories",
          "TVs, Audio and Video/Other TVs, Audio and Video",
          "Beauty & perfumes/Others",
          "Home/Outdoor And Garden",
          "Household care/Paper & roll",
          "Computing/Peripherals & Accessories",
          "Home/Pet",
          "Computing/Printers, Scanners & Supplies",
          "Women's shoes/Sandals & flip-flops",
          "Women's accessories/Scarves",
          "Men's clothing/Shirts",
          "Women's clothing/Shirts & Blouses",
          "Fashion/Shoe, Jewelry & Watch Accessories",
          "Appliances/Small Appliance",
          "Men's shoes/Sneakers",
          "Men's accessories/Socks",
          "Sport & Fitness/Sport",
          "Home/Stationery",
          "Computing/Storage",
          "Home/Storage And Organisation",
          "Musical Instruments/Studio Recording Equipment",
          "Men's accessories/Sunglasses",
          "Household care/Surface and Toilet Cleaning",
          "Men's clothing/T-shirts",
          "TVs, Audio and Video/TVs & Video Accessories",
          "Tablets & Accessories/Tablets",
          "Tablets & Accessories/Tablets Accessories",
          "Beverages/Tea and Coffee",
          "TVs, Audio and Video/Televisons",
          "Tobacco/Tobacco-Related Products",
          "Men's clothing/Trousers & chinos",
          "Women's clothing/Trousers & leggings",
          "Men's clothing/Underwear",
          "Women's clothing/Underwear",
          "Games & Consoles/Video Games",
          "Men's accessories/Wallets",
          "Men's accessories/Watches",
          "Women's accessories/Watches",
          "TVs, Audio and Video/Wearable Technology",
          "Women's shoes/Women's sneakers",
          "Adulte/adulte",
          "Adulte",
          "Appliances",
          "Automotive & Motorcycles",
          "Beauty & perfumes",
          "Beverages",
          "Books & Stationery",
          "Boys",
          "Cameras & Accessories",
          "Computing",
          "Fashion",
          "Food cupboard",
          "Games & Consoles",
          "Girls",
          "Home",
          "Household care",
          "Kids and Baby",
          "Laundry",
          "Men's accessories",
          "Men's clothing",
          "Men's shoes",
          "Musical Instruments",
          "Phones",
          "Sport & Fitness",
          "TVs, Audio and Video",
          "Tablets & Accessories",
          "Tobacco",
          "Unisex's accessories",
          "Women's accessories",
          "Women's clothing",
          "Women's shoes"
         ],
         "labels": [
          "Accessories",
          "Accessories",
          "Air Fresheners & Insecticides",
          "Automotive",
          "Baby",
          "Baby (0-2years)",
          "Baby Food",
          "Bags",
          "Bags",
          "Bath",
          "Batteries & Bulbs",
          "Bedding",
          "Belts",
          "Belts",
          "Body shop",
          "Bread and Bakery",
          "Camcorders",
          "Caps & hats",
          "Casual shoes",
          "Cleaning tools",
          "Condiments & Salad Dressings",
          "Cooking",
          "Cooking & Baking",
          "Cooling",
          "Costumes & Accessories",
          "Detergent Pacs & Tablets",
          "Dishwashing",
          "Dresses",
          "Electronic Music, DJ & Karaoke",
          "Eyewear",
          "Eyewear",
          "Fabric Softener",
          "Facial skincare",
          "Fitness",
          "Foreign Language Books",
          "Formal shoes",
          "Fragrances",
          "Fridges & Freezer",
          "Games & Console Accessories",
          "Hair care",
          "Hand, feet & nail care",
          "Hats & hair fascinators",
          "Health & relaxation",
          "Heels",
          "Hi-Fi & Stereo",
          "Home Appliances",
          "Home Country Language Books",
          "Home Decor",
          "Home Fixture",
          "Home Theatre",
          "Hoodies & sweatshirts",
          "House Hold Sundries",
          "Hygiene",
          "Jeans",
          "Jeans & jeggings",
          "Jewellery",
          "Jewellery",
          "Juices",
          "Jumpers & cardigans",
          "Kids",
          "Kitchen And Dining",
          "Laptops",
          "Lighting",
          "Liquid Detergent",
          "Make up",
          "Makeup",
          "Mobile Accessories",
          "Mobile Phones",
          "Nightwear",
          "Other Books & Stationery",
          "Other Cameras & Accessories",
          "Other TVs, Audio and Video",
          "Others",
          "Outdoor And Garden",
          "Paper & roll",
          "Peripherals & Accessories",
          "Pet",
          "Printers, Scanners & Supplies",
          "Sandals & flip-flops",
          "Scarves",
          "Shirts",
          "Shirts & Blouses",
          "Shoe, Jewelry & Watch Accessories",
          "Small Appliance",
          "Sneakers",
          "Socks",
          "Sport",
          "Stationery",
          "Storage",
          "Storage And Organisation",
          "Studio Recording Equipment",
          "Sunglasses",
          "Surface and Toilet Cleaning",
          "T-shirts",
          "TVs & Video Accessories",
          "Tablets",
          "Tablets Accessories",
          "Tea and Coffee",
          "Televisons",
          "Tobacco-Related Products",
          "Trousers & chinos",
          "Trousers & leggings",
          "Underwear",
          "Underwear",
          "Video Games",
          "Wallets",
          "Watches",
          "Watches",
          "Wearable Technology",
          "Women's sneakers",
          "adulte",
          "Adulte",
          "Appliances",
          "Automotive & Motorcycles",
          "Beauty & perfumes",
          "Beverages",
          "Books & Stationery",
          "Boys",
          "Cameras & Accessories",
          "Computing",
          "Fashion",
          "Food cupboard",
          "Games & Consoles",
          "Girls",
          "Home",
          "Household care",
          "Kids and Baby",
          "Laundry",
          "Men's accessories",
          "Men's clothing",
          "Men's shoes",
          "Musical Instruments",
          "Phones",
          "Sport & Fitness",
          "TVs, Audio and Video",
          "Tablets & Accessories",
          "Tobacco",
          "Unisex's accessories",
          "Women's accessories",
          "Women's clothing",
          "Women's shoes"
         ],
         "marker": {
          "coloraxis": "coloraxis",
          "colors": [
           596.4298245614035,
           279,
           176.6341463414634,
           696.723880597015,
           671.2017126546147,
           695.7258064516129,
           99,
           897.7398255813954,
           915.6652412950519,
           1003.5846153846154,
           159.89285714285714,
           1090.2664624808576,
           710.0384615384615,
           819,
           457.3111929307806,
           230,
           1893.8311688311687,
           364.82678983833716,
           876.9335816263191,
           192,
           1199,
           3227.6068111455106,
           294.7112451400658,
           1837.909090909091,
           598,
           184.7487692552009,
           116.75547445255475,
           446.863173216885,
           20,
           746,
           499,
           476.69957081545067,
           542.101195044403,
           771.7773109243698,
           800,
           1217.279569892473,
           616.2949852507375,
           25414.45588235294,
           1877.8372093023256,
           787.9729330708661,
           341.95014662756597,
           538.1003717472119,
           934.7162066525124,
           849,
           833.5687885010267,
           1649.2,
           850,
           711.0518234165067,
           1424.0303501945525,
           4409.513903192585,
           940,
           294.0972915181753,
           263.3141195134849,
           1167,
           389.8876404494382,
           252.3819095477387,
           250.43821510297482,
           53,
           200,
           1900,
           1067.9938524590164,
           23900.433628318584,
           2326.486381322957,
           100,
           388.5118694362018,
           631.7059846903271,
           869.8574966660316,
           10974.455991516437,
           200,
           800,
           1291.112359550562,
           714.088188976378,
           833.9710467706013,
           999,
           72.24226110363392,
           794.4922788956482,
           81.65714285714286,
           2894.1651376146788,
           251.45705521472394,
           313.3235294117647,
           1204.3853383458647,
           404.61790017211706,
           452.8703703703704,
           1484.0476064533193,
           1599,
           164.9009523809524,
           708.6940298507462,
           785.5958005249344,
           661.98612716763,
           1882.333695652174,
           399,
           388.47058823529414,
           199.45888157894737,
           449,
           799.0837454665348,
           9247.575757575758,
           330.1532258064516,
           598.9861111111111,
           17636.293133802817,
           1076.578125,
           779,
           765.1818181818181,
           607.8548324990373,
           607.7295271049596,
           4999,
           470.8933333333333,
           654.9415162454874,
           577.7219178082191,
           1192.6463414634147,
           679.1315789473684,
           1333.9450549450548,
           1333.9450549450548,
           1999.8355908453993,
           696.723880597015,
           545.4812015941048,
           494.69662921348316,
           815.9574468085107,
           631.4090909090909,
           1426.0232558139535,
           1133.6225314183123,
           526.1009174311927,
           294.67711302618494,
           2762.1666666666665,
           279,
           1293.4644052991703,
           251.2637291639747,
           688.4924953095684,
           194.93339443935227,
           427.22697201017814,
           723.1924426450743,
           902.4578733294596,
           182.42857142857142,
           6111.612175667003,
           749.0537634408602,
           4079.419065528714,
           2204.515923566879,
           1076.578125,
           897.7398255813954,
           657.0247093023256,
           530.8172076898834,
           462.73197492163007
          ]
         },
         "name": "",
         "parents": [
          "Boys",
          "Girls",
          "Household care",
          "Automotive & Motorcycles",
          "Kids and Baby",
          "Boys",
          "Food cupboard",
          "Unisex's accessories",
          "Women's accessories",
          "Home",
          "Household care",
          "Home",
          "Men's accessories",
          "Women's accessories",
          "Beauty & perfumes",
          "Food cupboard",
          "Cameras & Accessories",
          "Men's accessories",
          "Men's shoes",
          "Household care",
          "Food cupboard",
          "Appliances",
          "Food cupboard",
          "Home",
          "Fashion",
          "Laundry",
          "Household care",
          "Women's clothing",
          "Musical Instruments",
          "Men's accessories",
          "Women's accessories",
          "Laundry",
          "Beauty & perfumes",
          "Sport & Fitness",
          "Books & Stationery",
          "Men's shoes",
          "Beauty & perfumes",
          "Appliances",
          "Games & Consoles",
          "Beauty & perfumes",
          "Beauty & perfumes",
          "Women's accessories",
          "Beauty & perfumes",
          "Women's shoes",
          "TVs, Audio and Video",
          "Appliances",
          "Books & Stationery",
          "Home",
          "Home",
          "TVs, Audio and Video",
          "Men's clothing",
          "Household care",
          "Beauty & perfumes",
          "Men's clothing",
          "Women's clothing",
          "Men's accessories",
          "Women's accessories",
          "Beverages",
          "Men's clothing",
          "Kids and Baby",
          "Home",
          "Computing",
          "Home",
          "Laundry",
          "Beauty & perfumes",
          "Beauty & perfumes",
          "Phones",
          "Phones",
          "Women's clothing",
          "Books & Stationery",
          "Cameras & Accessories",
          "TVs, Audio and Video",
          "Beauty & perfumes",
          "Home",
          "Household care",
          "Computing",
          "Home",
          "Computing",
          "Women's shoes",
          "Women's accessories",
          "Men's clothing",
          "Women's clothing",
          "Fashion",
          "Appliances",
          "Men's shoes",
          "Men's accessories",
          "Sport & Fitness",
          "Home",
          "Computing",
          "Home",
          "Musical Instruments",
          "Men's accessories",
          "Household care",
          "Men's clothing",
          "TVs, Audio and Video",
          "Tablets & Accessories",
          "Tablets & Accessories",
          "Beverages",
          "TVs, Audio and Video",
          "Tobacco",
          "Men's clothing",
          "Women's clothing",
          "Men's clothing",
          "Women's clothing",
          "Games & Consoles",
          "Men's accessories",
          "Men's accessories",
          "Women's accessories",
          "TVs, Audio and Video",
          "Women's shoes",
          "Adulte",
          "",
          "",
          "",
          "",
          "",
          "",
          "",
          "",
          "",
          "",
          "",
          "",
          "",
          "",
          "",
          "",
          "",
          "",
          "",
          "",
          "",
          "",
          "",
          "",
          "",
          "",
          "",
          "",
          "",
          ""
         ],
         "type": "sunburst",
         "values": [
          114,
          17,
          369,
          402,
          1051,
          62,
          58,
          688,
          3274,
          325,
          112,
          1306,
          156,
          19,
          6790,
          80,
          77,
          433,
          1611,
          21,
          16,
          323,
          60186,
          66,
          55,
          6297,
          274,
          687,
          20,
          21,
          16,
          233,
          9121,
          238,
          15,
          93,
          339,
          68,
          43,
          2032,
          341,
          269,
          1413,
          16,
          974,
          110,
          15,
          521,
          1285,
          971,
          147,
          5612,
          1891,
          73,
          89,
          398,
          1748,
          17,
          61,
          15,
          1464,
          113,
          514,
          16,
          1348,
          2874,
          5249,
          5658,
          16,
          17,
          267,
          635,
          449,
          17,
          743,
          2137,
          70,
          109,
          652,
          136,
          532,
          581,
          54,
          3781,
          17,
          1050,
          134,
          381,
          4325,
          920,
          15,
          187,
          608,
          16,
          3033,
          33,
          124,
          72,
          1136,
          128,
          279,
          66,
          2597,
          1734,
          17,
          300,
          1385,
          730,
          164,
          608,
          91,
          91,
          4282,
          402,
          26598,
          89,
          47,
          176,
          344,
          6684,
          109,
          60340,
          60,
          17,
          6869,
          7739,
          1066,
          6546,
          3930,
          3705,
          1721,
          35,
          10907,
          372,
          6913,
          157,
          128,
          688,
          6192,
          3173,
          1276
         ]
        }
       ],
       "layout": {
        "autosize": true,
        "coloraxis": {
         "colorbar": {
          "title": {
           "text": "selling_price"
          }
         },
         "colorscale": [
          [
           0,
           "#0d0887"
          ],
          [
           0.1111111111111111,
           "#46039f"
          ],
          [
           0.2222222222222222,
           "#7201a8"
          ],
          [
           0.3333333333333333,
           "#9c179e"
          ],
          [
           0.4444444444444444,
           "#bd3786"
          ],
          [
           0.5555555555555556,
           "#d8576b"
          ],
          [
           0.6666666666666666,
           "#ed7953"
          ],
          [
           0.7777777777777778,
           "#fb9f3a"
          ],
          [
           0.8888888888888888,
           "#fdca26"
          ],
          [
           1,
           "#f0f921"
          ]
         ]
        },
        "legend": {
         "tracegroupgap": 0
        },
        "margin": {
         "t": 60
        },
        "template": {
         "data": {
          "bar": [
           {
            "error_x": {
             "color": "#2a3f5f"
            },
            "error_y": {
             "color": "#2a3f5f"
            },
            "marker": {
             "line": {
              "color": "#E5ECF6",
              "width": 0.5
             },
             "pattern": {
              "fillmode": "overlay",
              "size": 10,
              "solidity": 0.2
             }
            },
            "type": "bar"
           }
          ],
          "barpolar": [
           {
            "marker": {
             "line": {
              "color": "#E5ECF6",
              "width": 0.5
             },
             "pattern": {
              "fillmode": "overlay",
              "size": 10,
              "solidity": 0.2
             }
            },
            "type": "barpolar"
           }
          ],
          "carpet": [
           {
            "aaxis": {
             "endlinecolor": "#2a3f5f",
             "gridcolor": "white",
             "linecolor": "white",
             "minorgridcolor": "white",
             "startlinecolor": "#2a3f5f"
            },
            "baxis": {
             "endlinecolor": "#2a3f5f",
             "gridcolor": "white",
             "linecolor": "white",
             "minorgridcolor": "white",
             "startlinecolor": "#2a3f5f"
            },
            "type": "carpet"
           }
          ],
          "choropleth": [
           {
            "colorbar": {
             "outlinewidth": 0,
             "ticks": ""
            },
            "type": "choropleth"
           }
          ],
          "contour": [
           {
            "colorbar": {
             "outlinewidth": 0,
             "ticks": ""
            },
            "colorscale": [
             [
              0,
              "#0d0887"
             ],
             [
              0.1111111111111111,
              "#46039f"
             ],
             [
              0.2222222222222222,
              "#7201a8"
             ],
             [
              0.3333333333333333,
              "#9c179e"
             ],
             [
              0.4444444444444444,
              "#bd3786"
             ],
             [
              0.5555555555555556,
              "#d8576b"
             ],
             [
              0.6666666666666666,
              "#ed7953"
             ],
             [
              0.7777777777777778,
              "#fb9f3a"
             ],
             [
              0.8888888888888888,
              "#fdca26"
             ],
             [
              1,
              "#f0f921"
             ]
            ],
            "type": "contour"
           }
          ],
          "contourcarpet": [
           {
            "colorbar": {
             "outlinewidth": 0,
             "ticks": ""
            },
            "type": "contourcarpet"
           }
          ],
          "heatmap": [
           {
            "colorbar": {
             "outlinewidth": 0,
             "ticks": ""
            },
            "colorscale": [
             [
              0,
              "#0d0887"
             ],
             [
              0.1111111111111111,
              "#46039f"
             ],
             [
              0.2222222222222222,
              "#7201a8"
             ],
             [
              0.3333333333333333,
              "#9c179e"
             ],
             [
              0.4444444444444444,
              "#bd3786"
             ],
             [
              0.5555555555555556,
              "#d8576b"
             ],
             [
              0.6666666666666666,
              "#ed7953"
             ],
             [
              0.7777777777777778,
              "#fb9f3a"
             ],
             [
              0.8888888888888888,
              "#fdca26"
             ],
             [
              1,
              "#f0f921"
             ]
            ],
            "type": "heatmap"
           }
          ],
          "heatmapgl": [
           {
            "colorbar": {
             "outlinewidth": 0,
             "ticks": ""
            },
            "colorscale": [
             [
              0,
              "#0d0887"
             ],
             [
              0.1111111111111111,
              "#46039f"
             ],
             [
              0.2222222222222222,
              "#7201a8"
             ],
             [
              0.3333333333333333,
              "#9c179e"
             ],
             [
              0.4444444444444444,
              "#bd3786"
             ],
             [
              0.5555555555555556,
              "#d8576b"
             ],
             [
              0.6666666666666666,
              "#ed7953"
             ],
             [
              0.7777777777777778,
              "#fb9f3a"
             ],
             [
              0.8888888888888888,
              "#fdca26"
             ],
             [
              1,
              "#f0f921"
             ]
            ],
            "type": "heatmapgl"
           }
          ],
          "histogram": [
           {
            "marker": {
             "pattern": {
              "fillmode": "overlay",
              "size": 10,
              "solidity": 0.2
             }
            },
            "type": "histogram"
           }
          ],
          "histogram2d": [
           {
            "colorbar": {
             "outlinewidth": 0,
             "ticks": ""
            },
            "colorscale": [
             [
              0,
              "#0d0887"
             ],
             [
              0.1111111111111111,
              "#46039f"
             ],
             [
              0.2222222222222222,
              "#7201a8"
             ],
             [
              0.3333333333333333,
              "#9c179e"
             ],
             [
              0.4444444444444444,
              "#bd3786"
             ],
             [
              0.5555555555555556,
              "#d8576b"
             ],
             [
              0.6666666666666666,
              "#ed7953"
             ],
             [
              0.7777777777777778,
              "#fb9f3a"
             ],
             [
              0.8888888888888888,
              "#fdca26"
             ],
             [
              1,
              "#f0f921"
             ]
            ],
            "type": "histogram2d"
           }
          ],
          "histogram2dcontour": [
           {
            "colorbar": {
             "outlinewidth": 0,
             "ticks": ""
            },
            "colorscale": [
             [
              0,
              "#0d0887"
             ],
             [
              0.1111111111111111,
              "#46039f"
             ],
             [
              0.2222222222222222,
              "#7201a8"
             ],
             [
              0.3333333333333333,
              "#9c179e"
             ],
             [
              0.4444444444444444,
              "#bd3786"
             ],
             [
              0.5555555555555556,
              "#d8576b"
             ],
             [
              0.6666666666666666,
              "#ed7953"
             ],
             [
              0.7777777777777778,
              "#fb9f3a"
             ],
             [
              0.8888888888888888,
              "#fdca26"
             ],
             [
              1,
              "#f0f921"
             ]
            ],
            "type": "histogram2dcontour"
           }
          ],
          "mesh3d": [
           {
            "colorbar": {
             "outlinewidth": 0,
             "ticks": ""
            },
            "type": "mesh3d"
           }
          ],
          "parcoords": [
           {
            "line": {
             "colorbar": {
              "outlinewidth": 0,
              "ticks": ""
             }
            },
            "type": "parcoords"
           }
          ],
          "pie": [
           {
            "automargin": true,
            "type": "pie"
           }
          ],
          "scatter": [
           {
            "fillpattern": {
             "fillmode": "overlay",
             "size": 10,
             "solidity": 0.2
            },
            "type": "scatter"
           }
          ],
          "scatter3d": [
           {
            "line": {
             "colorbar": {
              "outlinewidth": 0,
              "ticks": ""
             }
            },
            "marker": {
             "colorbar": {
              "outlinewidth": 0,
              "ticks": ""
             }
            },
            "type": "scatter3d"
           }
          ],
          "scattercarpet": [
           {
            "marker": {
             "colorbar": {
              "outlinewidth": 0,
              "ticks": ""
             }
            },
            "type": "scattercarpet"
           }
          ],
          "scattergeo": [
           {
            "marker": {
             "colorbar": {
              "outlinewidth": 0,
              "ticks": ""
             }
            },
            "type": "scattergeo"
           }
          ],
          "scattergl": [
           {
            "marker": {
             "colorbar": {
              "outlinewidth": 0,
              "ticks": ""
             }
            },
            "type": "scattergl"
           }
          ],
          "scattermapbox": [
           {
            "marker": {
             "colorbar": {
              "outlinewidth": 0,
              "ticks": ""
             }
            },
            "type": "scattermapbox"
           }
          ],
          "scatterpolar": [
           {
            "marker": {
             "colorbar": {
              "outlinewidth": 0,
              "ticks": ""
             }
            },
            "type": "scatterpolar"
           }
          ],
          "scatterpolargl": [
           {
            "marker": {
             "colorbar": {
              "outlinewidth": 0,
              "ticks": ""
             }
            },
            "type": "scatterpolargl"
           }
          ],
          "scatterternary": [
           {
            "marker": {
             "colorbar": {
              "outlinewidth": 0,
              "ticks": ""
             }
            },
            "type": "scatterternary"
           }
          ],
          "surface": [
           {
            "colorbar": {
             "outlinewidth": 0,
             "ticks": ""
            },
            "colorscale": [
             [
              0,
              "#0d0887"
             ],
             [
              0.1111111111111111,
              "#46039f"
             ],
             [
              0.2222222222222222,
              "#7201a8"
             ],
             [
              0.3333333333333333,
              "#9c179e"
             ],
             [
              0.4444444444444444,
              "#bd3786"
             ],
             [
              0.5555555555555556,
              "#d8576b"
             ],
             [
              0.6666666666666666,
              "#ed7953"
             ],
             [
              0.7777777777777778,
              "#fb9f3a"
             ],
             [
              0.8888888888888888,
              "#fdca26"
             ],
             [
              1,
              "#f0f921"
             ]
            ],
            "type": "surface"
           }
          ],
          "table": [
           {
            "cells": {
             "fill": {
              "color": "#EBF0F8"
             },
             "line": {
              "color": "white"
             }
            },
            "header": {
             "fill": {
              "color": "#C8D4E3"
             },
             "line": {
              "color": "white"
             }
            },
            "type": "table"
           }
          ]
         },
         "layout": {
          "annotationdefaults": {
           "arrowcolor": "#2a3f5f",
           "arrowhead": 0,
           "arrowwidth": 1
          },
          "autotypenumbers": "strict",
          "coloraxis": {
           "colorbar": {
            "outlinewidth": 0,
            "ticks": ""
           }
          },
          "colorscale": {
           "diverging": [
            [
             0,
             "#8e0152"
            ],
            [
             0.1,
             "#c51b7d"
            ],
            [
             0.2,
             "#de77ae"
            ],
            [
             0.3,
             "#f1b6da"
            ],
            [
             0.4,
             "#fde0ef"
            ],
            [
             0.5,
             "#f7f7f7"
            ],
            [
             0.6,
             "#e6f5d0"
            ],
            [
             0.7,
             "#b8e186"
            ],
            [
             0.8,
             "#7fbc41"
            ],
            [
             0.9,
             "#4d9221"
            ],
            [
             1,
             "#276419"
            ]
           ],
           "sequential": [
            [
             0,
             "#0d0887"
            ],
            [
             0.1111111111111111,
             "#46039f"
            ],
            [
             0.2222222222222222,
             "#7201a8"
            ],
            [
             0.3333333333333333,
             "#9c179e"
            ],
            [
             0.4444444444444444,
             "#bd3786"
            ],
            [
             0.5555555555555556,
             "#d8576b"
            ],
            [
             0.6666666666666666,
             "#ed7953"
            ],
            [
             0.7777777777777778,
             "#fb9f3a"
            ],
            [
             0.8888888888888888,
             "#fdca26"
            ],
            [
             1,
             "#f0f921"
            ]
           ],
           "sequentialminus": [
            [
             0,
             "#0d0887"
            ],
            [
             0.1111111111111111,
             "#46039f"
            ],
            [
             0.2222222222222222,
             "#7201a8"
            ],
            [
             0.3333333333333333,
             "#9c179e"
            ],
            [
             0.4444444444444444,
             "#bd3786"
            ],
            [
             0.5555555555555556,
             "#d8576b"
            ],
            [
             0.6666666666666666,
             "#ed7953"
            ],
            [
             0.7777777777777778,
             "#fb9f3a"
            ],
            [
             0.8888888888888888,
             "#fdca26"
            ],
            [
             1,
             "#f0f921"
            ]
           ]
          },
          "colorway": [
           "#636efa",
           "#EF553B",
           "#00cc96",
           "#ab63fa",
           "#FFA15A",
           "#19d3f3",
           "#FF6692",
           "#B6E880",
           "#FF97FF",
           "#FECB52"
          ],
          "font": {
           "color": "#2a3f5f"
          },
          "geo": {
           "bgcolor": "white",
           "lakecolor": "white",
           "landcolor": "#E5ECF6",
           "showlakes": true,
           "showland": true,
           "subunitcolor": "white"
          },
          "hoverlabel": {
           "align": "left"
          },
          "hovermode": "closest",
          "mapbox": {
           "style": "light"
          },
          "paper_bgcolor": "white",
          "plot_bgcolor": "#E5ECF6",
          "polar": {
           "angularaxis": {
            "gridcolor": "white",
            "linecolor": "white",
            "ticks": ""
           },
           "bgcolor": "#E5ECF6",
           "radialaxis": {
            "gridcolor": "white",
            "linecolor": "white",
            "ticks": ""
           }
          },
          "scene": {
           "xaxis": {
            "backgroundcolor": "#E5ECF6",
            "gridcolor": "white",
            "gridwidth": 2,
            "linecolor": "white",
            "showbackground": true,
            "ticks": "",
            "zerolinecolor": "white"
           },
           "yaxis": {
            "backgroundcolor": "#E5ECF6",
            "gridcolor": "white",
            "gridwidth": 2,
            "linecolor": "white",
            "showbackground": true,
            "ticks": "",
            "zerolinecolor": "white"
           },
           "zaxis": {
            "backgroundcolor": "#E5ECF6",
            "gridcolor": "white",
            "gridwidth": 2,
            "linecolor": "white",
            "showbackground": true,
            "ticks": "",
            "zerolinecolor": "white"
           }
          },
          "shapedefaults": {
           "line": {
            "color": "#2a3f5f"
           }
          },
          "ternary": {
           "aaxis": {
            "gridcolor": "white",
            "linecolor": "white",
            "ticks": ""
           },
           "baxis": {
            "gridcolor": "white",
            "linecolor": "white",
            "ticks": ""
           },
           "bgcolor": "#E5ECF6",
           "caxis": {
            "gridcolor": "white",
            "linecolor": "white",
            "ticks": ""
           }
          },
          "title": {
           "x": 0.05
          },
          "xaxis": {
           "automargin": true,
           "gridcolor": "white",
           "linecolor": "white",
           "ticks": "",
           "title": {
            "standoff": 15
           },
           "zerolinecolor": "white",
           "zerolinewidth": 2
          },
          "yaxis": {
           "automargin": true,
           "gridcolor": "white",
           "linecolor": "white",
           "ticks": "",
           "title": {
            "standoff": 15
           },
           "zerolinecolor": "white",
           "zerolinewidth": 2
          }
         }
        }
       }
      },
      "text/html": [
       "<div>                            <div id=\"5f835d02-64ca-44a5-8c45-4da8a346edf0\" class=\"plotly-graph-div\" style=\"height:525px; width:100%;\"></div>            <script type=\"text/javascript\">                require([\"plotly\"], function(Plotly) {                    window.PLOTLYENV=window.PLOTLYENV || {};                                    if (document.getElementById(\"5f835d02-64ca-44a5-8c45-4da8a346edf0\")) {                    Plotly.newPlot(                        \"5f835d02-64ca-44a5-8c45-4da8a346edf0\",                        [{\"branchvalues\":\"total\",\"customdata\":[[596.4298245614035,596.4298245614035],[279.0,279.0],[176.6341463414634,176.6341463414634],[696.723880597015,696.723880597015],[671.2017126546147,671.2017126546147],[695.7258064516129,695.7258064516129],[99.0,99.0],[897.7398255813954,897.7398255813954],[915.6652412950519,915.6652412950519],[1003.5846153846154,1003.5846153846154],[159.89285714285714,159.89285714285714],[1090.2664624808576,1090.2664624808576],[710.0384615384615,710.0384615384615],[819.0,819.0],[457.3111929307806,457.3111929307806],[230.0,230.0],[1893.8311688311687,1893.8311688311687],[364.82678983833716,364.82678983833716],[876.9335816263191,876.9335816263191],[192.0,192.0],[1199.0,1199.0],[3227.6068111455106,3227.6068111455106],[294.7112451400658,294.7112451400658],[1837.909090909091,1837.909090909091],[598.0,598.0],[184.7487692552009,184.7487692552009],[116.75547445255475,116.75547445255475],[446.863173216885,446.863173216885],[20.0,20.0],[746.0,746.0],[499.0,499.0],[476.69957081545067,476.69957081545067],[542.101195044403,542.101195044403],[771.7773109243698,771.7773109243698],[800.0,800.0],[1217.279569892473,1217.279569892473],[616.2949852507375,616.2949852507375],[25414.45588235294,25414.45588235294],[1877.8372093023256,1877.8372093023256],[787.9729330708661,787.9729330708661],[341.95014662756597,341.95014662756597],[538.1003717472119,538.1003717472119],[934.7162066525124,934.7162066525124],[849.0,849.0],[833.5687885010267,833.5687885010267],[1649.2,1649.2],[850.0,850.0],[711.0518234165067,711.0518234165067],[1424.0303501945525,1424.0303501945525],[4409.513903192585,4409.513903192585],[940.0,940.0],[294.0972915181753,294.0972915181753],[263.3141195134849,263.3141195134849],[1167.0,1167.0],[389.8876404494382,389.8876404494382],[252.3819095477387,252.3819095477387],[250.43821510297482,250.43821510297482],[53.0,53.0],[200.0,200.0],[1900.0,1900.0],[1067.9938524590164,1067.9938524590164],[23900.433628318584,23900.433628318584],[2326.486381322957,2326.486381322957],[100.0,100.0],[388.5118694362018,388.5118694362018],[631.7059846903271,631.7059846903271],[869.8574966660316,869.8574966660316],[10974.455991516437,10974.455991516437],[200.0,200.0],[800.0,800.0],[1291.112359550562,1291.112359550562],[714.088188976378,714.088188976378],[833.9710467706013,833.9710467706013],[999.0,999.0],[72.24226110363392,72.24226110363392],[794.4922788956482,794.4922788956482],[81.65714285714286,81.65714285714286],[2894.1651376146788,2894.1651376146788],[251.45705521472394,251.45705521472394],[313.3235294117647,313.3235294117647],[1204.3853383458647,1204.3853383458647],[404.61790017211706,404.61790017211706],[452.8703703703704,452.8703703703704],[1484.0476064533193,1484.0476064533193],[1599.0,1599.0],[164.9009523809524,164.9009523809524],[708.6940298507462,708.6940298507462],[785.5958005249344,785.5958005249344],[661.98612716763,661.98612716763],[1882.333695652174,1882.333695652174],[399.0,399.0],[388.47058823529414,388.47058823529414],[199.45888157894737,199.45888157894737],[449.0,449.0],[799.0837454665348,799.0837454665348],[9247.575757575758,9247.575757575758],[330.1532258064516,330.1532258064516],[598.9861111111111,598.9861111111111],[17636.293133802817,17636.293133802817],[1076.578125,1076.578125],[779.0,779.0],[765.1818181818181,765.1818181818181],[607.8548324990373,607.8548324990373],[607.7295271049596,607.7295271049596],[4999.0,4999.0],[470.8933333333333,470.8933333333333],[654.9415162454874,654.9415162454874],[577.7219178082191,577.7219178082191],[1192.6463414634147,1192.6463414634147],[679.1315789473684,679.1315789473684],[1333.9450549450548,1333.9450549450548],[1333.9450549450548,1333.9450549450548],[1999.8355908453993,1999.8355908453993],[696.723880597015,696.723880597015],[545.4812015941048,545.4812015941048],[494.69662921348316,494.69662921348316],[815.9574468085107,815.9574468085107],[631.4090909090909,631.4090909090909],[1426.0232558139535,1426.0232558139535],[1133.6225314183123,1133.6225314183123],[526.1009174311927,526.1009174311927],[294.67711302618494,294.67711302618494],[2762.1666666666665,2762.1666666666665],[279.0,279.0],[1293.4644052991703,1293.4644052991703],[251.2637291639747,251.2637291639747],[688.4924953095684,688.4924953095684],[194.93339443935227,194.93339443935227],[427.22697201017814,427.22697201017814],[723.1924426450743,723.1924426450743],[902.4578733294596,902.4578733294596],[182.42857142857142,182.42857142857142],[6111.612175667003,6111.612175667003],[749.0537634408602,749.0537634408602],[4079.419065528714,4079.419065528714],[2204.515923566879,2204.515923566879],[1076.578125,1076.578125],[897.7398255813954,897.7398255813954],[657.0247093023256,657.0247093023256],[530.8172076898834,530.8172076898834],[462.73197492163007,462.73197492163007]],\"domain\":{\"x\":[0.0,1.0],\"y\":[0.0,1.0]},\"hovertemplate\":\"labels=%{label}\\u003cbr\\u003eitems_sold=%{value}\\u003cbr\\u003eparent=%{parent}\\u003cbr\\u003eid=%{id}\\u003cbr\\u003eselling_price=%{color}\\u003cextra\\u003e\\u003c\\u002fextra\\u003e\",\"ids\":[\"Boys\\u002fAccessories\",\"Girls\\u002fAccessories\",\"Household care\\u002fAir Fresheners & Insecticides\",\"Automotive & Motorcycles\\u002fAutomotive\",\"Kids and Baby\\u002fBaby\",\"Boys\\u002fBaby (0-2years)\",\"Food cupboard\\u002fBaby Food\",\"Unisex's accessories\\u002fBags\",\"Women's accessories\\u002fBags\",\"Home\\u002fBath\",\"Household care\\u002fBatteries & Bulbs\",\"Home\\u002fBedding\",\"Men's accessories\\u002fBelts\",\"Women's accessories\\u002fBelts\",\"Beauty & perfumes\\u002fBody shop\",\"Food cupboard\\u002fBread and Bakery\",\"Cameras & Accessories\\u002fCamcorders\",\"Men's accessories\\u002fCaps & hats\",\"Men's shoes\\u002fCasual shoes\",\"Household care\\u002fCleaning tools\",\"Food cupboard\\u002fCondiments & Salad Dressings\",\"Appliances\\u002fCooking\",\"Food cupboard\\u002fCooking & Baking\",\"Home\\u002fCooling\",\"Fashion\\u002fCostumes & Accessories\",\"Laundry\\u002fDetergent Pacs & Tablets\",\"Household care\\u002fDishwashing\",\"Women's clothing\\u002fDresses\",\"Musical Instruments\\u002fElectronic Music, DJ & Karaoke\",\"Men's accessories\\u002fEyewear\",\"Women's accessories\\u002fEyewear\",\"Laundry\\u002fFabric Softener\",\"Beauty & perfumes\\u002fFacial skincare\",\"Sport & Fitness\\u002fFitness\",\"Books & Stationery\\u002fForeign Language Books\",\"Men's shoes\\u002fFormal shoes\",\"Beauty & perfumes\\u002fFragrances\",\"Appliances\\u002fFridges & Freezer\",\"Games & Consoles\\u002fGames & Console Accessories\",\"Beauty & perfumes\\u002fHair care\",\"Beauty & perfumes\\u002fHand, feet & nail care\",\"Women's accessories\\u002fHats & hair fascinators\",\"Beauty & perfumes\\u002fHealth & relaxation\",\"Women's shoes\\u002fHeels\",\"TVs, Audio and Video\\u002fHi-Fi & Stereo\",\"Appliances\\u002fHome Appliances\",\"Books & Stationery\\u002fHome Country Language Books\",\"Home\\u002fHome Decor\",\"Home\\u002fHome Fixture\",\"TVs, Audio and Video\\u002fHome Theatre\",\"Men's clothing\\u002fHoodies & sweatshirts\",\"Household care\\u002fHouse Hold Sundries\",\"Beauty & perfumes\\u002fHygiene\",\"Men's clothing\\u002fJeans\",\"Women's clothing\\u002fJeans & jeggings\",\"Men's accessories\\u002fJewellery\",\"Women's accessories\\u002fJewellery\",\"Beverages\\u002fJuices\",\"Men's clothing\\u002fJumpers & cardigans\",\"Kids and Baby\\u002fKids\",\"Home\\u002fKitchen And Dining\",\"Computing\\u002fLaptops\",\"Home\\u002fLighting\",\"Laundry\\u002fLiquid Detergent\",\"Beauty & perfumes\\u002fMake up\",\"Beauty & perfumes\\u002fMakeup\",\"Phones\\u002fMobile Accessories\",\"Phones\\u002fMobile Phones\",\"Women's clothing\\u002fNightwear\",\"Books & Stationery\\u002fOther Books & Stationery\",\"Cameras & Accessories\\u002fOther Cameras & Accessories\",\"TVs, Audio and Video\\u002fOther TVs, Audio and Video\",\"Beauty & perfumes\\u002fOthers\",\"Home\\u002fOutdoor And Garden\",\"Household care\\u002fPaper & roll\",\"Computing\\u002fPeripherals & Accessories\",\"Home\\u002fPet\",\"Computing\\u002fPrinters, Scanners & Supplies\",\"Women's shoes\\u002fSandals & flip-flops\",\"Women's accessories\\u002fScarves\",\"Men's clothing\\u002fShirts\",\"Women's clothing\\u002fShirts & Blouses\",\"Fashion\\u002fShoe, Jewelry & Watch Accessories\",\"Appliances\\u002fSmall Appliance\",\"Men's shoes\\u002fSneakers\",\"Men's accessories\\u002fSocks\",\"Sport & Fitness\\u002fSport\",\"Home\\u002fStationery\",\"Computing\\u002fStorage\",\"Home\\u002fStorage And Organisation\",\"Musical Instruments\\u002fStudio Recording Equipment\",\"Men's accessories\\u002fSunglasses\",\"Household care\\u002fSurface and Toilet Cleaning\",\"Men's clothing\\u002fT-shirts\",\"TVs, Audio and Video\\u002fTVs & Video Accessories\",\"Tablets & Accessories\\u002fTablets\",\"Tablets & Accessories\\u002fTablets Accessories\",\"Beverages\\u002fTea and Coffee\",\"TVs, Audio and Video\\u002fTelevisons\",\"Tobacco\\u002fTobacco-Related Products\",\"Men's clothing\\u002fTrousers & chinos\",\"Women's clothing\\u002fTrousers & leggings\",\"Men's clothing\\u002fUnderwear\",\"Women's clothing\\u002fUnderwear\",\"Games & Consoles\\u002fVideo Games\",\"Men's accessories\\u002fWallets\",\"Men's accessories\\u002fWatches\",\"Women's accessories\\u002fWatches\",\"TVs, Audio and Video\\u002fWearable Technology\",\"Women's shoes\\u002fWomen's sneakers\",\"Adulte\\u002fadulte\",\"Adulte\",\"Appliances\",\"Automotive & Motorcycles\",\"Beauty & perfumes\",\"Beverages\",\"Books & Stationery\",\"Boys\",\"Cameras & Accessories\",\"Computing\",\"Fashion\",\"Food cupboard\",\"Games & Consoles\",\"Girls\",\"Home\",\"Household care\",\"Kids and Baby\",\"Laundry\",\"Men's accessories\",\"Men's clothing\",\"Men's shoes\",\"Musical Instruments\",\"Phones\",\"Sport & Fitness\",\"TVs, Audio and Video\",\"Tablets & Accessories\",\"Tobacco\",\"Unisex's accessories\",\"Women's accessories\",\"Women's clothing\",\"Women's shoes\"],\"labels\":[\"Accessories\",\"Accessories\",\"Air Fresheners & Insecticides\",\"Automotive\",\"Baby\",\"Baby (0-2years)\",\"Baby Food\",\"Bags\",\"Bags\",\"Bath\",\"Batteries & Bulbs\",\"Bedding\",\"Belts\",\"Belts\",\"Body shop\",\"Bread and Bakery\",\"Camcorders\",\"Caps & hats\",\"Casual shoes\",\"Cleaning tools\",\"Condiments & Salad Dressings\",\"Cooking\",\"Cooking & Baking\",\"Cooling\",\"Costumes & Accessories\",\"Detergent Pacs & Tablets\",\"Dishwashing\",\"Dresses\",\"Electronic Music, DJ & Karaoke\",\"Eyewear\",\"Eyewear\",\"Fabric Softener\",\"Facial skincare\",\"Fitness\",\"Foreign Language Books\",\"Formal shoes\",\"Fragrances\",\"Fridges & Freezer\",\"Games & Console Accessories\",\"Hair care\",\"Hand, feet & nail care\",\"Hats & hair fascinators\",\"Health & relaxation\",\"Heels\",\"Hi-Fi & Stereo\",\"Home Appliances\",\"Home Country Language Books\",\"Home Decor\",\"Home Fixture\",\"Home Theatre\",\"Hoodies & sweatshirts\",\"House Hold Sundries\",\"Hygiene\",\"Jeans\",\"Jeans & jeggings\",\"Jewellery\",\"Jewellery\",\"Juices\",\"Jumpers & cardigans\",\"Kids\",\"Kitchen And Dining\",\"Laptops\",\"Lighting\",\"Liquid Detergent\",\"Make up\",\"Makeup\",\"Mobile Accessories\",\"Mobile Phones\",\"Nightwear\",\"Other Books & Stationery\",\"Other Cameras & Accessories\",\"Other TVs, Audio and Video\",\"Others\",\"Outdoor And Garden\",\"Paper & roll\",\"Peripherals & Accessories\",\"Pet\",\"Printers, Scanners & Supplies\",\"Sandals & flip-flops\",\"Scarves\",\"Shirts\",\"Shirts & Blouses\",\"Shoe, Jewelry & Watch Accessories\",\"Small Appliance\",\"Sneakers\",\"Socks\",\"Sport\",\"Stationery\",\"Storage\",\"Storage And Organisation\",\"Studio Recording Equipment\",\"Sunglasses\",\"Surface and Toilet Cleaning\",\"T-shirts\",\"TVs & Video Accessories\",\"Tablets\",\"Tablets Accessories\",\"Tea and Coffee\",\"Televisons\",\"Tobacco-Related Products\",\"Trousers & chinos\",\"Trousers & leggings\",\"Underwear\",\"Underwear\",\"Video Games\",\"Wallets\",\"Watches\",\"Watches\",\"Wearable Technology\",\"Women's sneakers\",\"adulte\",\"Adulte\",\"Appliances\",\"Automotive & Motorcycles\",\"Beauty & perfumes\",\"Beverages\",\"Books & Stationery\",\"Boys\",\"Cameras & Accessories\",\"Computing\",\"Fashion\",\"Food cupboard\",\"Games & Consoles\",\"Girls\",\"Home\",\"Household care\",\"Kids and Baby\",\"Laundry\",\"Men's accessories\",\"Men's clothing\",\"Men's shoes\",\"Musical Instruments\",\"Phones\",\"Sport & Fitness\",\"TVs, Audio and Video\",\"Tablets & Accessories\",\"Tobacco\",\"Unisex's accessories\",\"Women's accessories\",\"Women's clothing\",\"Women's shoes\"],\"marker\":{\"coloraxis\":\"coloraxis\",\"colors\":[596.4298245614035,279.0,176.6341463414634,696.723880597015,671.2017126546147,695.7258064516129,99.0,897.7398255813954,915.6652412950519,1003.5846153846154,159.89285714285714,1090.2664624808576,710.0384615384615,819.0,457.3111929307806,230.0,1893.8311688311687,364.82678983833716,876.9335816263191,192.0,1199.0,3227.6068111455106,294.7112451400658,1837.909090909091,598.0,184.7487692552009,116.75547445255475,446.863173216885,20.0,746.0,499.0,476.69957081545067,542.101195044403,771.7773109243698,800.0,1217.279569892473,616.2949852507375,25414.45588235294,1877.8372093023256,787.9729330708661,341.95014662756597,538.1003717472119,934.7162066525124,849.0,833.5687885010267,1649.2,850.0,711.0518234165067,1424.0303501945525,4409.513903192585,940.0,294.0972915181753,263.3141195134849,1167.0,389.8876404494382,252.3819095477387,250.43821510297482,53.0,200.0,1900.0,1067.9938524590164,23900.433628318584,2326.486381322957,100.0,388.5118694362018,631.7059846903271,869.8574966660316,10974.455991516437,200.0,800.0,1291.112359550562,714.088188976378,833.9710467706013,999.0,72.24226110363392,794.4922788956482,81.65714285714286,2894.1651376146788,251.45705521472394,313.3235294117647,1204.3853383458647,404.61790017211706,452.8703703703704,1484.0476064533193,1599.0,164.9009523809524,708.6940298507462,785.5958005249344,661.98612716763,1882.333695652174,399.0,388.47058823529414,199.45888157894737,449.0,799.0837454665348,9247.575757575758,330.1532258064516,598.9861111111111,17636.293133802817,1076.578125,779.0,765.1818181818181,607.8548324990373,607.7295271049596,4999.0,470.8933333333333,654.9415162454874,577.7219178082191,1192.6463414634147,679.1315789473684,1333.9450549450548,1333.9450549450548,1999.8355908453993,696.723880597015,545.4812015941048,494.69662921348316,815.9574468085107,631.4090909090909,1426.0232558139535,1133.6225314183123,526.1009174311927,294.67711302618494,2762.1666666666665,279.0,1293.4644052991703,251.2637291639747,688.4924953095684,194.93339443935227,427.22697201017814,723.1924426450743,902.4578733294596,182.42857142857142,6111.612175667003,749.0537634408602,4079.419065528714,2204.515923566879,1076.578125,897.7398255813954,657.0247093023256,530.8172076898834,462.73197492163007]},\"name\":\"\",\"parents\":[\"Boys\",\"Girls\",\"Household care\",\"Automotive & Motorcycles\",\"Kids and Baby\",\"Boys\",\"Food cupboard\",\"Unisex's accessories\",\"Women's accessories\",\"Home\",\"Household care\",\"Home\",\"Men's accessories\",\"Women's accessories\",\"Beauty & perfumes\",\"Food cupboard\",\"Cameras & Accessories\",\"Men's accessories\",\"Men's shoes\",\"Household care\",\"Food cupboard\",\"Appliances\",\"Food cupboard\",\"Home\",\"Fashion\",\"Laundry\",\"Household care\",\"Women's clothing\",\"Musical Instruments\",\"Men's accessories\",\"Women's accessories\",\"Laundry\",\"Beauty & perfumes\",\"Sport & Fitness\",\"Books & Stationery\",\"Men's shoes\",\"Beauty & perfumes\",\"Appliances\",\"Games & Consoles\",\"Beauty & perfumes\",\"Beauty & perfumes\",\"Women's accessories\",\"Beauty & perfumes\",\"Women's shoes\",\"TVs, Audio and Video\",\"Appliances\",\"Books & Stationery\",\"Home\",\"Home\",\"TVs, Audio and Video\",\"Men's clothing\",\"Household care\",\"Beauty & perfumes\",\"Men's clothing\",\"Women's clothing\",\"Men's accessories\",\"Women's accessories\",\"Beverages\",\"Men's clothing\",\"Kids and Baby\",\"Home\",\"Computing\",\"Home\",\"Laundry\",\"Beauty & perfumes\",\"Beauty & perfumes\",\"Phones\",\"Phones\",\"Women's clothing\",\"Books & Stationery\",\"Cameras & Accessories\",\"TVs, Audio and Video\",\"Beauty & perfumes\",\"Home\",\"Household care\",\"Computing\",\"Home\",\"Computing\",\"Women's shoes\",\"Women's accessories\",\"Men's clothing\",\"Women's clothing\",\"Fashion\",\"Appliances\",\"Men's shoes\",\"Men's accessories\",\"Sport & Fitness\",\"Home\",\"Computing\",\"Home\",\"Musical Instruments\",\"Men's accessories\",\"Household care\",\"Men's clothing\",\"TVs, Audio and Video\",\"Tablets & Accessories\",\"Tablets & Accessories\",\"Beverages\",\"TVs, Audio and Video\",\"Tobacco\",\"Men's clothing\",\"Women's clothing\",\"Men's clothing\",\"Women's clothing\",\"Games & Consoles\",\"Men's accessories\",\"Men's accessories\",\"Women's accessories\",\"TVs, Audio and Video\",\"Women's shoes\",\"Adulte\",\"\",\"\",\"\",\"\",\"\",\"\",\"\",\"\",\"\",\"\",\"\",\"\",\"\",\"\",\"\",\"\",\"\",\"\",\"\",\"\",\"\",\"\",\"\",\"\",\"\",\"\",\"\",\"\",\"\",\"\"],\"values\":[114,17,369,402,1051,62,58,688,3274,325,112,1306,156,19,6790,80,77,433,1611,21,16,323,60186,66,55,6297,274,687,20,21,16,233,9121,238,15,93,339,68,43,2032,341,269,1413,16,974,110,15,521,1285,971,147,5612,1891,73,89,398,1748,17,61,15,1464,113,514,16,1348,2874,5249,5658,16,17,267,635,449,17,743,2137,70,109,652,136,532,581,54,3781,17,1050,134,381,4325,920,15,187,608,16,3033,33,124,72,1136,128,279,66,2597,1734,17,300,1385,730,164,608,91,91,4282,402,26598,89,47,176,344,6684,109,60340,60,17,6869,7739,1066,6546,3930,3705,1721,35,10907,372,6913,157,128,688,6192,3173,1276],\"type\":\"sunburst\"}],                        {\"template\":{\"data\":{\"histogram2dcontour\":[{\"type\":\"histogram2dcontour\",\"colorbar\":{\"outlinewidth\":0,\"ticks\":\"\"},\"colorscale\":[[0.0,\"#0d0887\"],[0.1111111111111111,\"#46039f\"],[0.2222222222222222,\"#7201a8\"],[0.3333333333333333,\"#9c179e\"],[0.4444444444444444,\"#bd3786\"],[0.5555555555555556,\"#d8576b\"],[0.6666666666666666,\"#ed7953\"],[0.7777777777777778,\"#fb9f3a\"],[0.8888888888888888,\"#fdca26\"],[1.0,\"#f0f921\"]]}],\"choropleth\":[{\"type\":\"choropleth\",\"colorbar\":{\"outlinewidth\":0,\"ticks\":\"\"}}],\"histogram2d\":[{\"type\":\"histogram2d\",\"colorbar\":{\"outlinewidth\":0,\"ticks\":\"\"},\"colorscale\":[[0.0,\"#0d0887\"],[0.1111111111111111,\"#46039f\"],[0.2222222222222222,\"#7201a8\"],[0.3333333333333333,\"#9c179e\"],[0.4444444444444444,\"#bd3786\"],[0.5555555555555556,\"#d8576b\"],[0.6666666666666666,\"#ed7953\"],[0.7777777777777778,\"#fb9f3a\"],[0.8888888888888888,\"#fdca26\"],[1.0,\"#f0f921\"]]}],\"heatmap\":[{\"type\":\"heatmap\",\"colorbar\":{\"outlinewidth\":0,\"ticks\":\"\"},\"colorscale\":[[0.0,\"#0d0887\"],[0.1111111111111111,\"#46039f\"],[0.2222222222222222,\"#7201a8\"],[0.3333333333333333,\"#9c179e\"],[0.4444444444444444,\"#bd3786\"],[0.5555555555555556,\"#d8576b\"],[0.6666666666666666,\"#ed7953\"],[0.7777777777777778,\"#fb9f3a\"],[0.8888888888888888,\"#fdca26\"],[1.0,\"#f0f921\"]]}],\"heatmapgl\":[{\"type\":\"heatmapgl\",\"colorbar\":{\"outlinewidth\":0,\"ticks\":\"\"},\"colorscale\":[[0.0,\"#0d0887\"],[0.1111111111111111,\"#46039f\"],[0.2222222222222222,\"#7201a8\"],[0.3333333333333333,\"#9c179e\"],[0.4444444444444444,\"#bd3786\"],[0.5555555555555556,\"#d8576b\"],[0.6666666666666666,\"#ed7953\"],[0.7777777777777778,\"#fb9f3a\"],[0.8888888888888888,\"#fdca26\"],[1.0,\"#f0f921\"]]}],\"contourcarpet\":[{\"type\":\"contourcarpet\",\"colorbar\":{\"outlinewidth\":0,\"ticks\":\"\"}}],\"contour\":[{\"type\":\"contour\",\"colorbar\":{\"outlinewidth\":0,\"ticks\":\"\"},\"colorscale\":[[0.0,\"#0d0887\"],[0.1111111111111111,\"#46039f\"],[0.2222222222222222,\"#7201a8\"],[0.3333333333333333,\"#9c179e\"],[0.4444444444444444,\"#bd3786\"],[0.5555555555555556,\"#d8576b\"],[0.6666666666666666,\"#ed7953\"],[0.7777777777777778,\"#fb9f3a\"],[0.8888888888888888,\"#fdca26\"],[1.0,\"#f0f921\"]]}],\"surface\":[{\"type\":\"surface\",\"colorbar\":{\"outlinewidth\":0,\"ticks\":\"\"},\"colorscale\":[[0.0,\"#0d0887\"],[0.1111111111111111,\"#46039f\"],[0.2222222222222222,\"#7201a8\"],[0.3333333333333333,\"#9c179e\"],[0.4444444444444444,\"#bd3786\"],[0.5555555555555556,\"#d8576b\"],[0.6666666666666666,\"#ed7953\"],[0.7777777777777778,\"#fb9f3a\"],[0.8888888888888888,\"#fdca26\"],[1.0,\"#f0f921\"]]}],\"mesh3d\":[{\"type\":\"mesh3d\",\"colorbar\":{\"outlinewidth\":0,\"ticks\":\"\"}}],\"scatter\":[{\"fillpattern\":{\"fillmode\":\"overlay\",\"size\":10,\"solidity\":0.2},\"type\":\"scatter\"}],\"parcoords\":[{\"type\":\"parcoords\",\"line\":{\"colorbar\":{\"outlinewidth\":0,\"ticks\":\"\"}}}],\"scatterpolargl\":[{\"type\":\"scatterpolargl\",\"marker\":{\"colorbar\":{\"outlinewidth\":0,\"ticks\":\"\"}}}],\"bar\":[{\"error_x\":{\"color\":\"#2a3f5f\"},\"error_y\":{\"color\":\"#2a3f5f\"},\"marker\":{\"line\":{\"color\":\"#E5ECF6\",\"width\":0.5},\"pattern\":{\"fillmode\":\"overlay\",\"size\":10,\"solidity\":0.2}},\"type\":\"bar\"}],\"scattergeo\":[{\"type\":\"scattergeo\",\"marker\":{\"colorbar\":{\"outlinewidth\":0,\"ticks\":\"\"}}}],\"scatterpolar\":[{\"type\":\"scatterpolar\",\"marker\":{\"colorbar\":{\"outlinewidth\":0,\"ticks\":\"\"}}}],\"histogram\":[{\"marker\":{\"pattern\":{\"fillmode\":\"overlay\",\"size\":10,\"solidity\":0.2}},\"type\":\"histogram\"}],\"scattergl\":[{\"type\":\"scattergl\",\"marker\":{\"colorbar\":{\"outlinewidth\":0,\"ticks\":\"\"}}}],\"scatter3d\":[{\"type\":\"scatter3d\",\"line\":{\"colorbar\":{\"outlinewidth\":0,\"ticks\":\"\"}},\"marker\":{\"colorbar\":{\"outlinewidth\":0,\"ticks\":\"\"}}}],\"scattermapbox\":[{\"type\":\"scattermapbox\",\"marker\":{\"colorbar\":{\"outlinewidth\":0,\"ticks\":\"\"}}}],\"scatterternary\":[{\"type\":\"scatterternary\",\"marker\":{\"colorbar\":{\"outlinewidth\":0,\"ticks\":\"\"}}}],\"scattercarpet\":[{\"type\":\"scattercarpet\",\"marker\":{\"colorbar\":{\"outlinewidth\":0,\"ticks\":\"\"}}}],\"carpet\":[{\"aaxis\":{\"endlinecolor\":\"#2a3f5f\",\"gridcolor\":\"white\",\"linecolor\":\"white\",\"minorgridcolor\":\"white\",\"startlinecolor\":\"#2a3f5f\"},\"baxis\":{\"endlinecolor\":\"#2a3f5f\",\"gridcolor\":\"white\",\"linecolor\":\"white\",\"minorgridcolor\":\"white\",\"startlinecolor\":\"#2a3f5f\"},\"type\":\"carpet\"}],\"table\":[{\"cells\":{\"fill\":{\"color\":\"#EBF0F8\"},\"line\":{\"color\":\"white\"}},\"header\":{\"fill\":{\"color\":\"#C8D4E3\"},\"line\":{\"color\":\"white\"}},\"type\":\"table\"}],\"barpolar\":[{\"marker\":{\"line\":{\"color\":\"#E5ECF6\",\"width\":0.5},\"pattern\":{\"fillmode\":\"overlay\",\"size\":10,\"solidity\":0.2}},\"type\":\"barpolar\"}],\"pie\":[{\"automargin\":true,\"type\":\"pie\"}]},\"layout\":{\"autotypenumbers\":\"strict\",\"colorway\":[\"#636efa\",\"#EF553B\",\"#00cc96\",\"#ab63fa\",\"#FFA15A\",\"#19d3f3\",\"#FF6692\",\"#B6E880\",\"#FF97FF\",\"#FECB52\"],\"font\":{\"color\":\"#2a3f5f\"},\"hovermode\":\"closest\",\"hoverlabel\":{\"align\":\"left\"},\"paper_bgcolor\":\"white\",\"plot_bgcolor\":\"#E5ECF6\",\"polar\":{\"bgcolor\":\"#E5ECF6\",\"angularaxis\":{\"gridcolor\":\"white\",\"linecolor\":\"white\",\"ticks\":\"\"},\"radialaxis\":{\"gridcolor\":\"white\",\"linecolor\":\"white\",\"ticks\":\"\"}},\"ternary\":{\"bgcolor\":\"#E5ECF6\",\"aaxis\":{\"gridcolor\":\"white\",\"linecolor\":\"white\",\"ticks\":\"\"},\"baxis\":{\"gridcolor\":\"white\",\"linecolor\":\"white\",\"ticks\":\"\"},\"caxis\":{\"gridcolor\":\"white\",\"linecolor\":\"white\",\"ticks\":\"\"}},\"coloraxis\":{\"colorbar\":{\"outlinewidth\":0,\"ticks\":\"\"}},\"colorscale\":{\"sequential\":[[0.0,\"#0d0887\"],[0.1111111111111111,\"#46039f\"],[0.2222222222222222,\"#7201a8\"],[0.3333333333333333,\"#9c179e\"],[0.4444444444444444,\"#bd3786\"],[0.5555555555555556,\"#d8576b\"],[0.6666666666666666,\"#ed7953\"],[0.7777777777777778,\"#fb9f3a\"],[0.8888888888888888,\"#fdca26\"],[1.0,\"#f0f921\"]],\"sequentialminus\":[[0.0,\"#0d0887\"],[0.1111111111111111,\"#46039f\"],[0.2222222222222222,\"#7201a8\"],[0.3333333333333333,\"#9c179e\"],[0.4444444444444444,\"#bd3786\"],[0.5555555555555556,\"#d8576b\"],[0.6666666666666666,\"#ed7953\"],[0.7777777777777778,\"#fb9f3a\"],[0.8888888888888888,\"#fdca26\"],[1.0,\"#f0f921\"]],\"diverging\":[[0,\"#8e0152\"],[0.1,\"#c51b7d\"],[0.2,\"#de77ae\"],[0.3,\"#f1b6da\"],[0.4,\"#fde0ef\"],[0.5,\"#f7f7f7\"],[0.6,\"#e6f5d0\"],[0.7,\"#b8e186\"],[0.8,\"#7fbc41\"],[0.9,\"#4d9221\"],[1,\"#276419\"]]},\"xaxis\":{\"gridcolor\":\"white\",\"linecolor\":\"white\",\"ticks\":\"\",\"title\":{\"standoff\":15},\"zerolinecolor\":\"white\",\"automargin\":true,\"zerolinewidth\":2},\"yaxis\":{\"gridcolor\":\"white\",\"linecolor\":\"white\",\"ticks\":\"\",\"title\":{\"standoff\":15},\"zerolinecolor\":\"white\",\"automargin\":true,\"zerolinewidth\":2},\"scene\":{\"xaxis\":{\"backgroundcolor\":\"#E5ECF6\",\"gridcolor\":\"white\",\"linecolor\":\"white\",\"showbackground\":true,\"ticks\":\"\",\"zerolinecolor\":\"white\",\"gridwidth\":2},\"yaxis\":{\"backgroundcolor\":\"#E5ECF6\",\"gridcolor\":\"white\",\"linecolor\":\"white\",\"showbackground\":true,\"ticks\":\"\",\"zerolinecolor\":\"white\",\"gridwidth\":2},\"zaxis\":{\"backgroundcolor\":\"#E5ECF6\",\"gridcolor\":\"white\",\"linecolor\":\"white\",\"showbackground\":true,\"ticks\":\"\",\"zerolinecolor\":\"white\",\"gridwidth\":2}},\"shapedefaults\":{\"line\":{\"color\":\"#2a3f5f\"}},\"annotationdefaults\":{\"arrowcolor\":\"#2a3f5f\",\"arrowhead\":0,\"arrowwidth\":1},\"geo\":{\"bgcolor\":\"white\",\"landcolor\":\"#E5ECF6\",\"subunitcolor\":\"white\",\"showland\":true,\"showlakes\":true,\"lakecolor\":\"white\"},\"title\":{\"x\":0.05},\"mapbox\":{\"style\":\"light\"}}},\"coloraxis\":{\"colorbar\":{\"title\":{\"text\":\"selling_price\"}},\"colorscale\":[[0.0,\"#0d0887\"],[0.1111111111111111,\"#46039f\"],[0.2222222222222222,\"#7201a8\"],[0.3333333333333333,\"#9c179e\"],[0.4444444444444444,\"#bd3786\"],[0.5555555555555556,\"#d8576b\"],[0.6666666666666666,\"#ed7953\"],[0.7777777777777778,\"#fb9f3a\"],[0.8888888888888888,\"#fdca26\"],[1.0,\"#f0f921\"]]},\"legend\":{\"tracegroupgap\":0},\"margin\":{\"t\":60}},                        {\"responsive\": true}                    ).then(function(){\n",
       "                            \n",
       "var gd = document.getElementById('5f835d02-64ca-44a5-8c45-4da8a346edf0');\n",
       "var x = new MutationObserver(function (mutations, observer) {{\n",
       "        var display = window.getComputedStyle(gd).display;\n",
       "        if (!display || display === 'none') {{\n",
       "            console.log([gd, 'removed!']);\n",
       "            Plotly.purge(gd);\n",
       "            observer.disconnect();\n",
       "        }}\n",
       "}});\n",
       "\n",
       "// Listen for the removal of the full notebook cells\n",
       "var notebookContainer = gd.closest('#notebook-container');\n",
       "if (notebookContainer) {{\n",
       "    x.observe(notebookContainer, {childList: true});\n",
       "}}\n",
       "\n",
       "// Listen for the clearing of the current output cell\n",
       "var outputEl = gd.closest('.output');\n",
       "if (outputEl) {{\n",
       "    x.observe(outputEl, {childList: true});\n",
       "}}\n",
       "\n",
       "                        })                };                });            </script>        </div>"
      ]
     },
     "metadata": {},
     "output_type": "display_data"
    }
   ],
   "source": [
    "fig = px.sunburst(df, path=['main_category', 'sec_category'], values='items_sold',\n",
    "                  color='items_sold', hover_data=['selling_price'])\n",
    "fig.show()\n",
    "\n",
    "fig = px.sunburst(df, path=['main_category', 'sec_category'], values='items_sold',\n",
    "                  color='selling_price', hover_data=['selling_price'])\n",
    "\n",
    "fig.show()"
   ]
  },
  {
   "cell_type": "code",
   "execution_count": 133,
   "id": "e4dcaf31-906e-427b-b8a6-25a98d72706b",
   "metadata": {},
   "outputs": [
    {
     "data": {
      "text/html": [
       "<div>\n",
       "<style scoped>\n",
       "    .dataframe tbody tr th:only-of-type {\n",
       "        vertical-align: middle;\n",
       "    }\n",
       "\n",
       "    .dataframe tbody tr th {\n",
       "        vertical-align: top;\n",
       "    }\n",
       "\n",
       "    .dataframe thead th {\n",
       "        text-align: right;\n",
       "    }\n",
       "</style>\n",
       "<table border=\"1\" class=\"dataframe\">\n",
       "  <thead>\n",
       "    <tr style=\"text-align: right;\">\n",
       "      <th></th>\n",
       "      <th>main_category</th>\n",
       "      <th>no_of_products</th>\n",
       "    </tr>\n",
       "  </thead>\n",
       "  <tbody>\n",
       "    <tr>\n",
       "      <th>0</th>\n",
       "      <td>Beauty &amp; perfumes</td>\n",
       "      <td>630</td>\n",
       "    </tr>\n",
       "    <tr>\n",
       "      <th>1</th>\n",
       "      <td>Food cupboard</td>\n",
       "      <td>547</td>\n",
       "    </tr>\n",
       "    <tr>\n",
       "      <th>2</th>\n",
       "      <td>Phones</td>\n",
       "      <td>286</td>\n",
       "    </tr>\n",
       "    <tr>\n",
       "      <th>3</th>\n",
       "      <td>Home</td>\n",
       "      <td>236</td>\n",
       "    </tr>\n",
       "    <tr>\n",
       "      <th>4</th>\n",
       "      <td>TVs, Audio and Video</td>\n",
       "      <td>191</td>\n",
       "    </tr>\n",
       "    <tr>\n",
       "      <th>5</th>\n",
       "      <td>Household care</td>\n",
       "      <td>165</td>\n",
       "    </tr>\n",
       "    <tr>\n",
       "      <th>6</th>\n",
       "      <td>Computing</td>\n",
       "      <td>160</td>\n",
       "    </tr>\n",
       "    <tr>\n",
       "      <th>7</th>\n",
       "      <td>Women's accessories</td>\n",
       "      <td>156</td>\n",
       "    </tr>\n",
       "    <tr>\n",
       "      <th>8</th>\n",
       "      <td>Appliances</td>\n",
       "      <td>97</td>\n",
       "    </tr>\n",
       "    <tr>\n",
       "      <th>9</th>\n",
       "      <td>Men's accessories</td>\n",
       "      <td>93</td>\n",
       "    </tr>\n",
       "    <tr>\n",
       "      <th>10</th>\n",
       "      <td>Men's clothing</td>\n",
       "      <td>85</td>\n",
       "    </tr>\n",
       "    <tr>\n",
       "      <th>11</th>\n",
       "      <td>Men's shoes</td>\n",
       "      <td>63</td>\n",
       "    </tr>\n",
       "    <tr>\n",
       "      <th>12</th>\n",
       "      <td>Women's clothing</td>\n",
       "      <td>62</td>\n",
       "    </tr>\n",
       "    <tr>\n",
       "      <th>13</th>\n",
       "      <td>Laundry</td>\n",
       "      <td>54</td>\n",
       "    </tr>\n",
       "    <tr>\n",
       "      <th>14</th>\n",
       "      <td>Women's shoes</td>\n",
       "      <td>41</td>\n",
       "    </tr>\n",
       "    <tr>\n",
       "      <th>15</th>\n",
       "      <td>Kids and Baby</td>\n",
       "      <td>37</td>\n",
       "    </tr>\n",
       "    <tr>\n",
       "      <th>16</th>\n",
       "      <td>Cameras &amp; Accessories</td>\n",
       "      <td>16</td>\n",
       "    </tr>\n",
       "    <tr>\n",
       "      <th>17</th>\n",
       "      <td>Sport &amp; Fitness</td>\n",
       "      <td>15</td>\n",
       "    </tr>\n",
       "    <tr>\n",
       "      <th>18</th>\n",
       "      <td>Unisex's accessories</td>\n",
       "      <td>15</td>\n",
       "    </tr>\n",
       "    <tr>\n",
       "      <th>19</th>\n",
       "      <td>Automotive &amp; Motorcycles</td>\n",
       "      <td>11</td>\n",
       "    </tr>\n",
       "    <tr>\n",
       "      <th>20</th>\n",
       "      <td>Boys</td>\n",
       "      <td>8</td>\n",
       "    </tr>\n",
       "    <tr>\n",
       "      <th>21</th>\n",
       "      <td>Tablets &amp; Accessories</td>\n",
       "      <td>6</td>\n",
       "    </tr>\n",
       "    <tr>\n",
       "      <th>22</th>\n",
       "      <td>Fashion</td>\n",
       "      <td>4</td>\n",
       "    </tr>\n",
       "    <tr>\n",
       "      <th>23</th>\n",
       "      <td>Tobacco</td>\n",
       "      <td>4</td>\n",
       "    </tr>\n",
       "    <tr>\n",
       "      <th>24</th>\n",
       "      <td>Beverages</td>\n",
       "      <td>4</td>\n",
       "    </tr>\n",
       "    <tr>\n",
       "      <th>25</th>\n",
       "      <td>Adulte</td>\n",
       "      <td>4</td>\n",
       "    </tr>\n",
       "    <tr>\n",
       "      <th>26</th>\n",
       "      <td>Games &amp; Consoles</td>\n",
       "      <td>3</td>\n",
       "    </tr>\n",
       "    <tr>\n",
       "      <th>27</th>\n",
       "      <td>Books &amp; Stationery</td>\n",
       "      <td>3</td>\n",
       "    </tr>\n",
       "    <tr>\n",
       "      <th>28</th>\n",
       "      <td>Musical Instruments</td>\n",
       "      <td>2</td>\n",
       "    </tr>\n",
       "    <tr>\n",
       "      <th>29</th>\n",
       "      <td>Girls</td>\n",
       "      <td>1</td>\n",
       "    </tr>\n",
       "  </tbody>\n",
       "</table>\n",
       "</div>"
      ],
      "text/plain": [
       "               main_category  no_of_products\n",
       "0          Beauty & perfumes             630\n",
       "1              Food cupboard             547\n",
       "2                     Phones             286\n",
       "3                       Home             236\n",
       "4       TVs, Audio and Video             191\n",
       "5             Household care             165\n",
       "6                  Computing             160\n",
       "7        Women's accessories             156\n",
       "8                 Appliances              97\n",
       "9          Men's accessories              93\n",
       "10            Men's clothing              85\n",
       "11               Men's shoes              63\n",
       "12          Women's clothing              62\n",
       "13                   Laundry              54\n",
       "14             Women's shoes              41\n",
       "15             Kids and Baby              37\n",
       "16     Cameras & Accessories              16\n",
       "17           Sport & Fitness              15\n",
       "18      Unisex's accessories              15\n",
       "19  Automotive & Motorcycles              11\n",
       "20                      Boys               8\n",
       "21     Tablets & Accessories               6\n",
       "22                   Fashion               4\n",
       "23                   Tobacco               4\n",
       "24                 Beverages               4\n",
       "25                    Adulte               4\n",
       "26          Games & Consoles               3\n",
       "27        Books & Stationery               3\n",
       "28       Musical Instruments               2\n",
       "29                     Girls               1"
      ]
     },
     "execution_count": 133,
     "metadata": {},
     "output_type": "execute_result"
    }
   ],
   "source": [
    "df_items = pd.DataFrame(df['main_category'].value_counts() ).reset_index()\n",
    "df_items.columns = ['main_category','no_of_products']\n",
    "df_items"
   ]
  },
  {
   "cell_type": "code",
   "execution_count": 134,
   "id": "5eaf74b6-67e8-4cfd-b7cf-31938356e1a4",
   "metadata": {},
   "outputs": [
    {
     "data": {
      "application/vnd.plotly.v1+json": {
       "config": {
        "plotlyServerURL": "https://plot.ly"
       },
       "data": [
        {
         "alignmentgroup": "True",
         "hovertemplate": "main_category=%{x}<br>no_of_products=%{y}<extra></extra>",
         "legendgroup": "",
         "marker": {
          "color": "#636efa",
          "pattern": {
           "shape": ""
          }
         },
         "name": "",
         "offsetgroup": "",
         "orientation": "v",
         "showlegend": false,
         "textposition": "auto",
         "type": "bar",
         "x": [
          "Beauty & perfumes",
          "Food cupboard",
          "Phones",
          "Home",
          "TVs, Audio and Video",
          "Household care",
          "Computing",
          "Women's accessories",
          "Appliances",
          "Men's accessories",
          "Men's clothing",
          "Men's shoes",
          "Women's clothing",
          "Laundry",
          "Women's shoes",
          "Kids and Baby",
          "Cameras & Accessories",
          "Sport & Fitness",
          "Unisex's accessories",
          "Automotive & Motorcycles",
          "Boys",
          "Tablets & Accessories",
          "Fashion",
          "Tobacco",
          "Beverages",
          "Adulte",
          "Games & Consoles",
          "Books & Stationery",
          "Musical Instruments",
          "Girls"
         ],
         "xaxis": "x",
         "y": [
          630,
          547,
          286,
          236,
          191,
          165,
          160,
          156,
          97,
          93,
          85,
          63,
          62,
          54,
          41,
          37,
          16,
          15,
          15,
          11,
          8,
          6,
          4,
          4,
          4,
          4,
          3,
          3,
          2,
          1
         ],
         "yaxis": "y"
        }
       ],
       "layout": {
        "autosize": true,
        "barmode": "relative",
        "legend": {
         "tracegroupgap": 0
        },
        "margin": {
         "t": 60
        },
        "template": {
         "data": {
          "bar": [
           {
            "error_x": {
             "color": "#2a3f5f"
            },
            "error_y": {
             "color": "#2a3f5f"
            },
            "marker": {
             "line": {
              "color": "#E5ECF6",
              "width": 0.5
             },
             "pattern": {
              "fillmode": "overlay",
              "size": 10,
              "solidity": 0.2
             }
            },
            "type": "bar"
           }
          ],
          "barpolar": [
           {
            "marker": {
             "line": {
              "color": "#E5ECF6",
              "width": 0.5
             },
             "pattern": {
              "fillmode": "overlay",
              "size": 10,
              "solidity": 0.2
             }
            },
            "type": "barpolar"
           }
          ],
          "carpet": [
           {
            "aaxis": {
             "endlinecolor": "#2a3f5f",
             "gridcolor": "white",
             "linecolor": "white",
             "minorgridcolor": "white",
             "startlinecolor": "#2a3f5f"
            },
            "baxis": {
             "endlinecolor": "#2a3f5f",
             "gridcolor": "white",
             "linecolor": "white",
             "minorgridcolor": "white",
             "startlinecolor": "#2a3f5f"
            },
            "type": "carpet"
           }
          ],
          "choropleth": [
           {
            "colorbar": {
             "outlinewidth": 0,
             "ticks": ""
            },
            "type": "choropleth"
           }
          ],
          "contour": [
           {
            "colorbar": {
             "outlinewidth": 0,
             "ticks": ""
            },
            "colorscale": [
             [
              0,
              "#0d0887"
             ],
             [
              0.1111111111111111,
              "#46039f"
             ],
             [
              0.2222222222222222,
              "#7201a8"
             ],
             [
              0.3333333333333333,
              "#9c179e"
             ],
             [
              0.4444444444444444,
              "#bd3786"
             ],
             [
              0.5555555555555556,
              "#d8576b"
             ],
             [
              0.6666666666666666,
              "#ed7953"
             ],
             [
              0.7777777777777778,
              "#fb9f3a"
             ],
             [
              0.8888888888888888,
              "#fdca26"
             ],
             [
              1,
              "#f0f921"
             ]
            ],
            "type": "contour"
           }
          ],
          "contourcarpet": [
           {
            "colorbar": {
             "outlinewidth": 0,
             "ticks": ""
            },
            "type": "contourcarpet"
           }
          ],
          "heatmap": [
           {
            "colorbar": {
             "outlinewidth": 0,
             "ticks": ""
            },
            "colorscale": [
             [
              0,
              "#0d0887"
             ],
             [
              0.1111111111111111,
              "#46039f"
             ],
             [
              0.2222222222222222,
              "#7201a8"
             ],
             [
              0.3333333333333333,
              "#9c179e"
             ],
             [
              0.4444444444444444,
              "#bd3786"
             ],
             [
              0.5555555555555556,
              "#d8576b"
             ],
             [
              0.6666666666666666,
              "#ed7953"
             ],
             [
              0.7777777777777778,
              "#fb9f3a"
             ],
             [
              0.8888888888888888,
              "#fdca26"
             ],
             [
              1,
              "#f0f921"
             ]
            ],
            "type": "heatmap"
           }
          ],
          "heatmapgl": [
           {
            "colorbar": {
             "outlinewidth": 0,
             "ticks": ""
            },
            "colorscale": [
             [
              0,
              "#0d0887"
             ],
             [
              0.1111111111111111,
              "#46039f"
             ],
             [
              0.2222222222222222,
              "#7201a8"
             ],
             [
              0.3333333333333333,
              "#9c179e"
             ],
             [
              0.4444444444444444,
              "#bd3786"
             ],
             [
              0.5555555555555556,
              "#d8576b"
             ],
             [
              0.6666666666666666,
              "#ed7953"
             ],
             [
              0.7777777777777778,
              "#fb9f3a"
             ],
             [
              0.8888888888888888,
              "#fdca26"
             ],
             [
              1,
              "#f0f921"
             ]
            ],
            "type": "heatmapgl"
           }
          ],
          "histogram": [
           {
            "marker": {
             "pattern": {
              "fillmode": "overlay",
              "size": 10,
              "solidity": 0.2
             }
            },
            "type": "histogram"
           }
          ],
          "histogram2d": [
           {
            "colorbar": {
             "outlinewidth": 0,
             "ticks": ""
            },
            "colorscale": [
             [
              0,
              "#0d0887"
             ],
             [
              0.1111111111111111,
              "#46039f"
             ],
             [
              0.2222222222222222,
              "#7201a8"
             ],
             [
              0.3333333333333333,
              "#9c179e"
             ],
             [
              0.4444444444444444,
              "#bd3786"
             ],
             [
              0.5555555555555556,
              "#d8576b"
             ],
             [
              0.6666666666666666,
              "#ed7953"
             ],
             [
              0.7777777777777778,
              "#fb9f3a"
             ],
             [
              0.8888888888888888,
              "#fdca26"
             ],
             [
              1,
              "#f0f921"
             ]
            ],
            "type": "histogram2d"
           }
          ],
          "histogram2dcontour": [
           {
            "colorbar": {
             "outlinewidth": 0,
             "ticks": ""
            },
            "colorscale": [
             [
              0,
              "#0d0887"
             ],
             [
              0.1111111111111111,
              "#46039f"
             ],
             [
              0.2222222222222222,
              "#7201a8"
             ],
             [
              0.3333333333333333,
              "#9c179e"
             ],
             [
              0.4444444444444444,
              "#bd3786"
             ],
             [
              0.5555555555555556,
              "#d8576b"
             ],
             [
              0.6666666666666666,
              "#ed7953"
             ],
             [
              0.7777777777777778,
              "#fb9f3a"
             ],
             [
              0.8888888888888888,
              "#fdca26"
             ],
             [
              1,
              "#f0f921"
             ]
            ],
            "type": "histogram2dcontour"
           }
          ],
          "mesh3d": [
           {
            "colorbar": {
             "outlinewidth": 0,
             "ticks": ""
            },
            "type": "mesh3d"
           }
          ],
          "parcoords": [
           {
            "line": {
             "colorbar": {
              "outlinewidth": 0,
              "ticks": ""
             }
            },
            "type": "parcoords"
           }
          ],
          "pie": [
           {
            "automargin": true,
            "type": "pie"
           }
          ],
          "scatter": [
           {
            "fillpattern": {
             "fillmode": "overlay",
             "size": 10,
             "solidity": 0.2
            },
            "type": "scatter"
           }
          ],
          "scatter3d": [
           {
            "line": {
             "colorbar": {
              "outlinewidth": 0,
              "ticks": ""
             }
            },
            "marker": {
             "colorbar": {
              "outlinewidth": 0,
              "ticks": ""
             }
            },
            "type": "scatter3d"
           }
          ],
          "scattercarpet": [
           {
            "marker": {
             "colorbar": {
              "outlinewidth": 0,
              "ticks": ""
             }
            },
            "type": "scattercarpet"
           }
          ],
          "scattergeo": [
           {
            "marker": {
             "colorbar": {
              "outlinewidth": 0,
              "ticks": ""
             }
            },
            "type": "scattergeo"
           }
          ],
          "scattergl": [
           {
            "marker": {
             "colorbar": {
              "outlinewidth": 0,
              "ticks": ""
             }
            },
            "type": "scattergl"
           }
          ],
          "scattermapbox": [
           {
            "marker": {
             "colorbar": {
              "outlinewidth": 0,
              "ticks": ""
             }
            },
            "type": "scattermapbox"
           }
          ],
          "scatterpolar": [
           {
            "marker": {
             "colorbar": {
              "outlinewidth": 0,
              "ticks": ""
             }
            },
            "type": "scatterpolar"
           }
          ],
          "scatterpolargl": [
           {
            "marker": {
             "colorbar": {
              "outlinewidth": 0,
              "ticks": ""
             }
            },
            "type": "scatterpolargl"
           }
          ],
          "scatterternary": [
           {
            "marker": {
             "colorbar": {
              "outlinewidth": 0,
              "ticks": ""
             }
            },
            "type": "scatterternary"
           }
          ],
          "surface": [
           {
            "colorbar": {
             "outlinewidth": 0,
             "ticks": ""
            },
            "colorscale": [
             [
              0,
              "#0d0887"
             ],
             [
              0.1111111111111111,
              "#46039f"
             ],
             [
              0.2222222222222222,
              "#7201a8"
             ],
             [
              0.3333333333333333,
              "#9c179e"
             ],
             [
              0.4444444444444444,
              "#bd3786"
             ],
             [
              0.5555555555555556,
              "#d8576b"
             ],
             [
              0.6666666666666666,
              "#ed7953"
             ],
             [
              0.7777777777777778,
              "#fb9f3a"
             ],
             [
              0.8888888888888888,
              "#fdca26"
             ],
             [
              1,
              "#f0f921"
             ]
            ],
            "type": "surface"
           }
          ],
          "table": [
           {
            "cells": {
             "fill": {
              "color": "#EBF0F8"
             },
             "line": {
              "color": "white"
             }
            },
            "header": {
             "fill": {
              "color": "#C8D4E3"
             },
             "line": {
              "color": "white"
             }
            },
            "type": "table"
           }
          ]
         },
         "layout": {
          "annotationdefaults": {
           "arrowcolor": "#2a3f5f",
           "arrowhead": 0,
           "arrowwidth": 1
          },
          "autotypenumbers": "strict",
          "coloraxis": {
           "colorbar": {
            "outlinewidth": 0,
            "ticks": ""
           }
          },
          "colorscale": {
           "diverging": [
            [
             0,
             "#8e0152"
            ],
            [
             0.1,
             "#c51b7d"
            ],
            [
             0.2,
             "#de77ae"
            ],
            [
             0.3,
             "#f1b6da"
            ],
            [
             0.4,
             "#fde0ef"
            ],
            [
             0.5,
             "#f7f7f7"
            ],
            [
             0.6,
             "#e6f5d0"
            ],
            [
             0.7,
             "#b8e186"
            ],
            [
             0.8,
             "#7fbc41"
            ],
            [
             0.9,
             "#4d9221"
            ],
            [
             1,
             "#276419"
            ]
           ],
           "sequential": [
            [
             0,
             "#0d0887"
            ],
            [
             0.1111111111111111,
             "#46039f"
            ],
            [
             0.2222222222222222,
             "#7201a8"
            ],
            [
             0.3333333333333333,
             "#9c179e"
            ],
            [
             0.4444444444444444,
             "#bd3786"
            ],
            [
             0.5555555555555556,
             "#d8576b"
            ],
            [
             0.6666666666666666,
             "#ed7953"
            ],
            [
             0.7777777777777778,
             "#fb9f3a"
            ],
            [
             0.8888888888888888,
             "#fdca26"
            ],
            [
             1,
             "#f0f921"
            ]
           ],
           "sequentialminus": [
            [
             0,
             "#0d0887"
            ],
            [
             0.1111111111111111,
             "#46039f"
            ],
            [
             0.2222222222222222,
             "#7201a8"
            ],
            [
             0.3333333333333333,
             "#9c179e"
            ],
            [
             0.4444444444444444,
             "#bd3786"
            ],
            [
             0.5555555555555556,
             "#d8576b"
            ],
            [
             0.6666666666666666,
             "#ed7953"
            ],
            [
             0.7777777777777778,
             "#fb9f3a"
            ],
            [
             0.8888888888888888,
             "#fdca26"
            ],
            [
             1,
             "#f0f921"
            ]
           ]
          },
          "colorway": [
           "#636efa",
           "#EF553B",
           "#00cc96",
           "#ab63fa",
           "#FFA15A",
           "#19d3f3",
           "#FF6692",
           "#B6E880",
           "#FF97FF",
           "#FECB52"
          ],
          "font": {
           "color": "#2a3f5f"
          },
          "geo": {
           "bgcolor": "white",
           "lakecolor": "white",
           "landcolor": "#E5ECF6",
           "showlakes": true,
           "showland": true,
           "subunitcolor": "white"
          },
          "hoverlabel": {
           "align": "left"
          },
          "hovermode": "closest",
          "mapbox": {
           "style": "light"
          },
          "paper_bgcolor": "white",
          "plot_bgcolor": "#E5ECF6",
          "polar": {
           "angularaxis": {
            "gridcolor": "white",
            "linecolor": "white",
            "ticks": ""
           },
           "bgcolor": "#E5ECF6",
           "radialaxis": {
            "gridcolor": "white",
            "linecolor": "white",
            "ticks": ""
           }
          },
          "scene": {
           "xaxis": {
            "backgroundcolor": "#E5ECF6",
            "gridcolor": "white",
            "gridwidth": 2,
            "linecolor": "white",
            "showbackground": true,
            "ticks": "",
            "zerolinecolor": "white"
           },
           "yaxis": {
            "backgroundcolor": "#E5ECF6",
            "gridcolor": "white",
            "gridwidth": 2,
            "linecolor": "white",
            "showbackground": true,
            "ticks": "",
            "zerolinecolor": "white"
           },
           "zaxis": {
            "backgroundcolor": "#E5ECF6",
            "gridcolor": "white",
            "gridwidth": 2,
            "linecolor": "white",
            "showbackground": true,
            "ticks": "",
            "zerolinecolor": "white"
           }
          },
          "shapedefaults": {
           "line": {
            "color": "#2a3f5f"
           }
          },
          "ternary": {
           "aaxis": {
            "gridcolor": "white",
            "linecolor": "white",
            "ticks": ""
           },
           "baxis": {
            "gridcolor": "white",
            "linecolor": "white",
            "ticks": ""
           },
           "bgcolor": "#E5ECF6",
           "caxis": {
            "gridcolor": "white",
            "linecolor": "white",
            "ticks": ""
           }
          },
          "title": {
           "x": 0.05
          },
          "xaxis": {
           "automargin": true,
           "gridcolor": "white",
           "linecolor": "white",
           "ticks": "",
           "title": {
            "standoff": 15
           },
           "zerolinecolor": "white",
           "zerolinewidth": 2
          },
          "yaxis": {
           "automargin": true,
           "gridcolor": "white",
           "linecolor": "white",
           "ticks": "",
           "title": {
            "standoff": 15
           },
           "zerolinecolor": "white",
           "zerolinewidth": 2
          }
         }
        },
        "xaxis": {
         "anchor": "y",
         "autorange": true,
         "domain": [
          0,
          1
         ],
         "range": [
          -0.5,
          29.5
         ],
         "title": {
          "text": "main_category"
         },
         "type": "category"
        },
        "yaxis": {
         "anchor": "x",
         "autorange": true,
         "domain": [
          0,
          1
         ],
         "range": [
          0,
          663.1578947368421
         ],
         "title": {
          "text": "no_of_products"
         },
         "type": "linear"
        }
       }
      },
      "text/html": [
       "<div>                            <div id=\"c178a484-a80e-400d-9b1d-ce0e8da86db7\" class=\"plotly-graph-div\" style=\"height:525px; width:100%;\"></div>            <script type=\"text/javascript\">                require([\"plotly\"], function(Plotly) {                    window.PLOTLYENV=window.PLOTLYENV || {};                                    if (document.getElementById(\"c178a484-a80e-400d-9b1d-ce0e8da86db7\")) {                    Plotly.newPlot(                        \"c178a484-a80e-400d-9b1d-ce0e8da86db7\",                        [{\"alignmentgroup\":\"True\",\"hovertemplate\":\"main_category=%{x}\\u003cbr\\u003eno_of_products=%{y}\\u003cextra\\u003e\\u003c\\u002fextra\\u003e\",\"legendgroup\":\"\",\"marker\":{\"color\":\"#636efa\",\"pattern\":{\"shape\":\"\"}},\"name\":\"\",\"offsetgroup\":\"\",\"orientation\":\"v\",\"showlegend\":false,\"textposition\":\"auto\",\"x\":[\"Beauty & perfumes\",\"Food cupboard\",\"Phones\",\"Home\",\"TVs, Audio and Video\",\"Household care\",\"Computing\",\"Women's accessories\",\"Appliances\",\"Men's accessories\",\"Men's clothing\",\"Men's shoes\",\"Women's clothing\",\"Laundry\",\"Women's shoes\",\"Kids and Baby\",\"Cameras & Accessories\",\"Sport & Fitness\",\"Unisex's accessories\",\"Automotive & Motorcycles\",\"Boys\",\"Tablets & Accessories\",\"Fashion\",\"Tobacco\",\"Beverages\",\"Adulte\",\"Games & Consoles\",\"Books & Stationery\",\"Musical Instruments\",\"Girls\"],\"xaxis\":\"x\",\"y\":[630,547,286,236,191,165,160,156,97,93,85,63,62,54,41,37,16,15,15,11,8,6,4,4,4,4,3,3,2,1],\"yaxis\":\"y\",\"type\":\"bar\"}],                        {\"template\":{\"data\":{\"histogram2dcontour\":[{\"type\":\"histogram2dcontour\",\"colorbar\":{\"outlinewidth\":0,\"ticks\":\"\"},\"colorscale\":[[0.0,\"#0d0887\"],[0.1111111111111111,\"#46039f\"],[0.2222222222222222,\"#7201a8\"],[0.3333333333333333,\"#9c179e\"],[0.4444444444444444,\"#bd3786\"],[0.5555555555555556,\"#d8576b\"],[0.6666666666666666,\"#ed7953\"],[0.7777777777777778,\"#fb9f3a\"],[0.8888888888888888,\"#fdca26\"],[1.0,\"#f0f921\"]]}],\"choropleth\":[{\"type\":\"choropleth\",\"colorbar\":{\"outlinewidth\":0,\"ticks\":\"\"}}],\"histogram2d\":[{\"type\":\"histogram2d\",\"colorbar\":{\"outlinewidth\":0,\"ticks\":\"\"},\"colorscale\":[[0.0,\"#0d0887\"],[0.1111111111111111,\"#46039f\"],[0.2222222222222222,\"#7201a8\"],[0.3333333333333333,\"#9c179e\"],[0.4444444444444444,\"#bd3786\"],[0.5555555555555556,\"#d8576b\"],[0.6666666666666666,\"#ed7953\"],[0.7777777777777778,\"#fb9f3a\"],[0.8888888888888888,\"#fdca26\"],[1.0,\"#f0f921\"]]}],\"heatmap\":[{\"type\":\"heatmap\",\"colorbar\":{\"outlinewidth\":0,\"ticks\":\"\"},\"colorscale\":[[0.0,\"#0d0887\"],[0.1111111111111111,\"#46039f\"],[0.2222222222222222,\"#7201a8\"],[0.3333333333333333,\"#9c179e\"],[0.4444444444444444,\"#bd3786\"],[0.5555555555555556,\"#d8576b\"],[0.6666666666666666,\"#ed7953\"],[0.7777777777777778,\"#fb9f3a\"],[0.8888888888888888,\"#fdca26\"],[1.0,\"#f0f921\"]]}],\"heatmapgl\":[{\"type\":\"heatmapgl\",\"colorbar\":{\"outlinewidth\":0,\"ticks\":\"\"},\"colorscale\":[[0.0,\"#0d0887\"],[0.1111111111111111,\"#46039f\"],[0.2222222222222222,\"#7201a8\"],[0.3333333333333333,\"#9c179e\"],[0.4444444444444444,\"#bd3786\"],[0.5555555555555556,\"#d8576b\"],[0.6666666666666666,\"#ed7953\"],[0.7777777777777778,\"#fb9f3a\"],[0.8888888888888888,\"#fdca26\"],[1.0,\"#f0f921\"]]}],\"contourcarpet\":[{\"type\":\"contourcarpet\",\"colorbar\":{\"outlinewidth\":0,\"ticks\":\"\"}}],\"contour\":[{\"type\":\"contour\",\"colorbar\":{\"outlinewidth\":0,\"ticks\":\"\"},\"colorscale\":[[0.0,\"#0d0887\"],[0.1111111111111111,\"#46039f\"],[0.2222222222222222,\"#7201a8\"],[0.3333333333333333,\"#9c179e\"],[0.4444444444444444,\"#bd3786\"],[0.5555555555555556,\"#d8576b\"],[0.6666666666666666,\"#ed7953\"],[0.7777777777777778,\"#fb9f3a\"],[0.8888888888888888,\"#fdca26\"],[1.0,\"#f0f921\"]]}],\"surface\":[{\"type\":\"surface\",\"colorbar\":{\"outlinewidth\":0,\"ticks\":\"\"},\"colorscale\":[[0.0,\"#0d0887\"],[0.1111111111111111,\"#46039f\"],[0.2222222222222222,\"#7201a8\"],[0.3333333333333333,\"#9c179e\"],[0.4444444444444444,\"#bd3786\"],[0.5555555555555556,\"#d8576b\"],[0.6666666666666666,\"#ed7953\"],[0.7777777777777778,\"#fb9f3a\"],[0.8888888888888888,\"#fdca26\"],[1.0,\"#f0f921\"]]}],\"mesh3d\":[{\"type\":\"mesh3d\",\"colorbar\":{\"outlinewidth\":0,\"ticks\":\"\"}}],\"scatter\":[{\"fillpattern\":{\"fillmode\":\"overlay\",\"size\":10,\"solidity\":0.2},\"type\":\"scatter\"}],\"parcoords\":[{\"type\":\"parcoords\",\"line\":{\"colorbar\":{\"outlinewidth\":0,\"ticks\":\"\"}}}],\"scatterpolargl\":[{\"type\":\"scatterpolargl\",\"marker\":{\"colorbar\":{\"outlinewidth\":0,\"ticks\":\"\"}}}],\"bar\":[{\"error_x\":{\"color\":\"#2a3f5f\"},\"error_y\":{\"color\":\"#2a3f5f\"},\"marker\":{\"line\":{\"color\":\"#E5ECF6\",\"width\":0.5},\"pattern\":{\"fillmode\":\"overlay\",\"size\":10,\"solidity\":0.2}},\"type\":\"bar\"}],\"scattergeo\":[{\"type\":\"scattergeo\",\"marker\":{\"colorbar\":{\"outlinewidth\":0,\"ticks\":\"\"}}}],\"scatterpolar\":[{\"type\":\"scatterpolar\",\"marker\":{\"colorbar\":{\"outlinewidth\":0,\"ticks\":\"\"}}}],\"histogram\":[{\"marker\":{\"pattern\":{\"fillmode\":\"overlay\",\"size\":10,\"solidity\":0.2}},\"type\":\"histogram\"}],\"scattergl\":[{\"type\":\"scattergl\",\"marker\":{\"colorbar\":{\"outlinewidth\":0,\"ticks\":\"\"}}}],\"scatter3d\":[{\"type\":\"scatter3d\",\"line\":{\"colorbar\":{\"outlinewidth\":0,\"ticks\":\"\"}},\"marker\":{\"colorbar\":{\"outlinewidth\":0,\"ticks\":\"\"}}}],\"scattermapbox\":[{\"type\":\"scattermapbox\",\"marker\":{\"colorbar\":{\"outlinewidth\":0,\"ticks\":\"\"}}}],\"scatterternary\":[{\"type\":\"scatterternary\",\"marker\":{\"colorbar\":{\"outlinewidth\":0,\"ticks\":\"\"}}}],\"scattercarpet\":[{\"type\":\"scattercarpet\",\"marker\":{\"colorbar\":{\"outlinewidth\":0,\"ticks\":\"\"}}}],\"carpet\":[{\"aaxis\":{\"endlinecolor\":\"#2a3f5f\",\"gridcolor\":\"white\",\"linecolor\":\"white\",\"minorgridcolor\":\"white\",\"startlinecolor\":\"#2a3f5f\"},\"baxis\":{\"endlinecolor\":\"#2a3f5f\",\"gridcolor\":\"white\",\"linecolor\":\"white\",\"minorgridcolor\":\"white\",\"startlinecolor\":\"#2a3f5f\"},\"type\":\"carpet\"}],\"table\":[{\"cells\":{\"fill\":{\"color\":\"#EBF0F8\"},\"line\":{\"color\":\"white\"}},\"header\":{\"fill\":{\"color\":\"#C8D4E3\"},\"line\":{\"color\":\"white\"}},\"type\":\"table\"}],\"barpolar\":[{\"marker\":{\"line\":{\"color\":\"#E5ECF6\",\"width\":0.5},\"pattern\":{\"fillmode\":\"overlay\",\"size\":10,\"solidity\":0.2}},\"type\":\"barpolar\"}],\"pie\":[{\"automargin\":true,\"type\":\"pie\"}]},\"layout\":{\"autotypenumbers\":\"strict\",\"colorway\":[\"#636efa\",\"#EF553B\",\"#00cc96\",\"#ab63fa\",\"#FFA15A\",\"#19d3f3\",\"#FF6692\",\"#B6E880\",\"#FF97FF\",\"#FECB52\"],\"font\":{\"color\":\"#2a3f5f\"},\"hovermode\":\"closest\",\"hoverlabel\":{\"align\":\"left\"},\"paper_bgcolor\":\"white\",\"plot_bgcolor\":\"#E5ECF6\",\"polar\":{\"bgcolor\":\"#E5ECF6\",\"angularaxis\":{\"gridcolor\":\"white\",\"linecolor\":\"white\",\"ticks\":\"\"},\"radialaxis\":{\"gridcolor\":\"white\",\"linecolor\":\"white\",\"ticks\":\"\"}},\"ternary\":{\"bgcolor\":\"#E5ECF6\",\"aaxis\":{\"gridcolor\":\"white\",\"linecolor\":\"white\",\"ticks\":\"\"},\"baxis\":{\"gridcolor\":\"white\",\"linecolor\":\"white\",\"ticks\":\"\"},\"caxis\":{\"gridcolor\":\"white\",\"linecolor\":\"white\",\"ticks\":\"\"}},\"coloraxis\":{\"colorbar\":{\"outlinewidth\":0,\"ticks\":\"\"}},\"colorscale\":{\"sequential\":[[0.0,\"#0d0887\"],[0.1111111111111111,\"#46039f\"],[0.2222222222222222,\"#7201a8\"],[0.3333333333333333,\"#9c179e\"],[0.4444444444444444,\"#bd3786\"],[0.5555555555555556,\"#d8576b\"],[0.6666666666666666,\"#ed7953\"],[0.7777777777777778,\"#fb9f3a\"],[0.8888888888888888,\"#fdca26\"],[1.0,\"#f0f921\"]],\"sequentialminus\":[[0.0,\"#0d0887\"],[0.1111111111111111,\"#46039f\"],[0.2222222222222222,\"#7201a8\"],[0.3333333333333333,\"#9c179e\"],[0.4444444444444444,\"#bd3786\"],[0.5555555555555556,\"#d8576b\"],[0.6666666666666666,\"#ed7953\"],[0.7777777777777778,\"#fb9f3a\"],[0.8888888888888888,\"#fdca26\"],[1.0,\"#f0f921\"]],\"diverging\":[[0,\"#8e0152\"],[0.1,\"#c51b7d\"],[0.2,\"#de77ae\"],[0.3,\"#f1b6da\"],[0.4,\"#fde0ef\"],[0.5,\"#f7f7f7\"],[0.6,\"#e6f5d0\"],[0.7,\"#b8e186\"],[0.8,\"#7fbc41\"],[0.9,\"#4d9221\"],[1,\"#276419\"]]},\"xaxis\":{\"gridcolor\":\"white\",\"linecolor\":\"white\",\"ticks\":\"\",\"title\":{\"standoff\":15},\"zerolinecolor\":\"white\",\"automargin\":true,\"zerolinewidth\":2},\"yaxis\":{\"gridcolor\":\"white\",\"linecolor\":\"white\",\"ticks\":\"\",\"title\":{\"standoff\":15},\"zerolinecolor\":\"white\",\"automargin\":true,\"zerolinewidth\":2},\"scene\":{\"xaxis\":{\"backgroundcolor\":\"#E5ECF6\",\"gridcolor\":\"white\",\"linecolor\":\"white\",\"showbackground\":true,\"ticks\":\"\",\"zerolinecolor\":\"white\",\"gridwidth\":2},\"yaxis\":{\"backgroundcolor\":\"#E5ECF6\",\"gridcolor\":\"white\",\"linecolor\":\"white\",\"showbackground\":true,\"ticks\":\"\",\"zerolinecolor\":\"white\",\"gridwidth\":2},\"zaxis\":{\"backgroundcolor\":\"#E5ECF6\",\"gridcolor\":\"white\",\"linecolor\":\"white\",\"showbackground\":true,\"ticks\":\"\",\"zerolinecolor\":\"white\",\"gridwidth\":2}},\"shapedefaults\":{\"line\":{\"color\":\"#2a3f5f\"}},\"annotationdefaults\":{\"arrowcolor\":\"#2a3f5f\",\"arrowhead\":0,\"arrowwidth\":1},\"geo\":{\"bgcolor\":\"white\",\"landcolor\":\"#E5ECF6\",\"subunitcolor\":\"white\",\"showland\":true,\"showlakes\":true,\"lakecolor\":\"white\"},\"title\":{\"x\":0.05},\"mapbox\":{\"style\":\"light\"}}},\"xaxis\":{\"anchor\":\"y\",\"domain\":[0.0,1.0],\"title\":{\"text\":\"main_category\"}},\"yaxis\":{\"anchor\":\"x\",\"domain\":[0.0,1.0],\"title\":{\"text\":\"no_of_products\"}},\"legend\":{\"tracegroupgap\":0},\"margin\":{\"t\":60},\"barmode\":\"relative\"},                        {\"responsive\": true}                    ).then(function(){\n",
       "                            \n",
       "var gd = document.getElementById('c178a484-a80e-400d-9b1d-ce0e8da86db7');\n",
       "var x = new MutationObserver(function (mutations, observer) {{\n",
       "        var display = window.getComputedStyle(gd).display;\n",
       "        if (!display || display === 'none') {{\n",
       "            console.log([gd, 'removed!']);\n",
       "            Plotly.purge(gd);\n",
       "            observer.disconnect();\n",
       "        }}\n",
       "}});\n",
       "\n",
       "// Listen for the removal of the full notebook cells\n",
       "var notebookContainer = gd.closest('#notebook-container');\n",
       "if (notebookContainer) {{\n",
       "    x.observe(notebookContainer, {childList: true});\n",
       "}}\n",
       "\n",
       "// Listen for the clearing of the current output cell\n",
       "var outputEl = gd.closest('.output');\n",
       "if (outputEl) {{\n",
       "    x.observe(outputEl, {childList: true});\n",
       "}}\n",
       "\n",
       "                        })                };                });            </script>        </div>"
      ]
     },
     "metadata": {},
     "output_type": "display_data"
    }
   ],
   "source": [
    "fig = px.bar(df_items, x=\"main_category\", y='no_of_products')\n",
    "fig.show()"
   ]
  },
  {
   "cell_type": "code",
   "execution_count": 135,
   "id": "83ec3001-13d5-4822-862f-ebca2c89a601",
   "metadata": {},
   "outputs": [
    {
     "data": {
      "text/html": [
       "<div>\n",
       "<style scoped>\n",
       "    .dataframe tbody tr th:only-of-type {\n",
       "        vertical-align: middle;\n",
       "    }\n",
       "\n",
       "    .dataframe tbody tr th {\n",
       "        vertical-align: top;\n",
       "    }\n",
       "\n",
       "    .dataframe thead th {\n",
       "        text-align: right;\n",
       "    }\n",
       "</style>\n",
       "<table border=\"1\" class=\"dataframe\">\n",
       "  <thead>\n",
       "    <tr style=\"text-align: right;\">\n",
       "      <th></th>\n",
       "      <th>country</th>\n",
       "      <th>sku_config</th>\n",
       "      <th>product_name</th>\n",
       "      <th>main_category</th>\n",
       "      <th>sec_category</th>\n",
       "      <th>brand</th>\n",
       "      <th>selling_price</th>\n",
       "      <th>items_sold</th>\n",
       "      <th>product_link</th>\n",
       "      <th>ranking</th>\n",
       "    </tr>\n",
       "  </thead>\n",
       "  <tbody>\n",
       "    <tr>\n",
       "      <th>2038</th>\n",
       "      <td>KE</td>\n",
       "      <td>GE840AT17ATYINAFAMZ</td>\n",
       "      <td>Realistic Dildo G-spot Penis With Suction Cup ...</td>\n",
       "      <td>Adulte</td>\n",
       "      <td>adulte</td>\n",
       "      <td>Generic</td>\n",
       "      <td>1549</td>\n",
       "      <td>20</td>\n",
       "      <td>https://www.jumia.co.KE/47882727.html?seller_p...</td>\n",
       "      <td>2</td>\n",
       "    </tr>\n",
       "    <tr>\n",
       "      <th>1095</th>\n",
       "      <td>KE</td>\n",
       "      <td>GE840AT02HEYWNAFAMZ</td>\n",
       "      <td>Vibrator Female Dildo G Spot Stimulator</td>\n",
       "      <td>Adulte</td>\n",
       "      <td>adulte</td>\n",
       "      <td>Generic</td>\n",
       "      <td>1799</td>\n",
       "      <td>33</td>\n",
       "      <td>https://www.jumia.co.KE/48717140.html?seller_p...</td>\n",
       "      <td>1</td>\n",
       "    </tr>\n",
       "    <tr>\n",
       "      <th>2039</th>\n",
       "      <td>KE</td>\n",
       "      <td>GE840AT09TV2INAFAMZ</td>\n",
       "      <td>Vib-rator For Women 20 Modes Oral Clitoris Sti...</td>\n",
       "      <td>Adulte</td>\n",
       "      <td>adulte</td>\n",
       "      <td>Generic</td>\n",
       "      <td>1283</td>\n",
       "      <td>20</td>\n",
       "      <td>https://www.jumia.co.KE/43890561.html?seller_p...</td>\n",
       "      <td>3</td>\n",
       "    </tr>\n",
       "    <tr>\n",
       "      <th>2312</th>\n",
       "      <td>KE</td>\n",
       "      <td>GE840AT0B3MXUNAFAMZ</td>\n",
       "      <td>Vibration Delay Ejaculation Penis Ring For Men...</td>\n",
       "      <td>Adulte</td>\n",
       "      <td>adulte</td>\n",
       "      <td>Generic</td>\n",
       "      <td>299</td>\n",
       "      <td>18</td>\n",
       "      <td>https://www.jumia.co.KE/47454681.html?seller_p...</td>\n",
       "      <td>4</td>\n",
       "    </tr>\n",
       "    <tr>\n",
       "      <th>2176</th>\n",
       "      <td>KE</td>\n",
       "      <td>SO665HL1FJX5ONAFAMZ</td>\n",
       "      <td>Electric Dry Iron1000 Watts - Silver</td>\n",
       "      <td>Appliances</td>\n",
       "      <td>Small Appliance</td>\n",
       "      <td>SOARIN</td>\n",
       "      <td>950</td>\n",
       "      <td>19</td>\n",
       "      <td>https://www.jumia.co.KE/25898568.html?seller_p...</td>\n",
       "      <td>65</td>\n",
       "    </tr>\n",
       "  </tbody>\n",
       "</table>\n",
       "</div>"
      ],
      "text/plain": [
       "     country           sku_config  \\\n",
       "2038      KE  GE840AT17ATYINAFAMZ   \n",
       "1095      KE  GE840AT02HEYWNAFAMZ   \n",
       "2039      KE  GE840AT09TV2INAFAMZ   \n",
       "2312      KE  GE840AT0B3MXUNAFAMZ   \n",
       "2176      KE  SO665HL1FJX5ONAFAMZ   \n",
       "\n",
       "                                           product_name main_category  \\\n",
       "2038  Realistic Dildo G-spot Penis With Suction Cup ...        Adulte   \n",
       "1095            Vibrator Female Dildo G Spot Stimulator        Adulte   \n",
       "2039  Vib-rator For Women 20 Modes Oral Clitoris Sti...        Adulte   \n",
       "2312  Vibration Delay Ejaculation Penis Ring For Men...        Adulte   \n",
       "2176               Electric Dry Iron1000 Watts - Silver    Appliances   \n",
       "\n",
       "         sec_category    brand  selling_price  items_sold  \\\n",
       "2038           adulte  Generic           1549          20   \n",
       "1095           adulte  Generic           1799          33   \n",
       "2039           adulte  Generic           1283          20   \n",
       "2312           adulte  Generic            299          18   \n",
       "2176  Small Appliance   SOARIN            950          19   \n",
       "\n",
       "                                           product_link  ranking  \n",
       "2038  https://www.jumia.co.KE/47882727.html?seller_p...        2  \n",
       "1095  https://www.jumia.co.KE/48717140.html?seller_p...        1  \n",
       "2039  https://www.jumia.co.KE/43890561.html?seller_p...        3  \n",
       "2312  https://www.jumia.co.KE/47454681.html?seller_p...        4  \n",
       "2176  https://www.jumia.co.KE/25898568.html?seller_p...       65  "
      ]
     },
     "execution_count": 135,
     "metadata": {},
     "output_type": "execute_result"
    }
   ],
   "source": [
    "df.sort_values('main_category').head()"
   ]
  },
  {
   "cell_type": "code",
   "execution_count": 167,
   "id": "ce654cb8-355f-4132-a9a4-380c8c16d617",
   "metadata": {},
   "outputs": [
    {
     "data": {
      "text/html": [
       "<div>\n",
       "<style scoped>\n",
       "    .dataframe tbody tr th:only-of-type {\n",
       "        vertical-align: middle;\n",
       "    }\n",
       "\n",
       "    .dataframe tbody tr th {\n",
       "        vertical-align: top;\n",
       "    }\n",
       "\n",
       "    .dataframe thead th {\n",
       "        text-align: right;\n",
       "    }\n",
       "</style>\n",
       "<table border=\"1\" class=\"dataframe\">\n",
       "  <thead>\n",
       "    <tr style=\"text-align: right;\">\n",
       "      <th></th>\n",
       "      <th>main_category</th>\n",
       "      <th>country</th>\n",
       "      <th>sku_config</th>\n",
       "      <th>product_name</th>\n",
       "      <th>sec_category</th>\n",
       "      <th>brand</th>\n",
       "      <th>selling_price</th>\n",
       "      <th>items_sold</th>\n",
       "      <th>product_link</th>\n",
       "      <th>ranking</th>\n",
       "    </tr>\n",
       "  </thead>\n",
       "  <tbody>\n",
       "    <tr>\n",
       "      <th>0</th>\n",
       "      <td>Adulte</td>\n",
       "      <td>KEKEKEKE</td>\n",
       "      <td>GE840AT02HEYWNAFAMZGE840AT17ATYINAFAMZGE840AT0...</td>\n",
       "      <td>Vibrator Female Dildo G Spot StimulatorRealist...</td>\n",
       "      <td>adulteadulteadulteadulte</td>\n",
       "      <td>GenericGenericGenericGeneric</td>\n",
       "      <td>4930</td>\n",
       "      <td>91</td>\n",
       "      <td>https://www.jumia.co.KE/48717140.html?seller_p...</td>\n",
       "      <td>10</td>\n",
       "    </tr>\n",
       "    <tr>\n",
       "      <th>1</th>\n",
       "      <td>Appliances</td>\n",
       "      <td>KEKEKEKEKEKEKEKEKEKEKEKEKEKEKEKEKEKEKEKEKEKEKE...</td>\n",
       "      <td>AN944HA0FHI99NAFAMZAN944HA0FHI99NAFAMZBM953HA0...</td>\n",
       "      <td>2L Electric Automatic Kettle + 1 Spoon 1 Fork....</td>\n",
       "      <td>Small ApplianceSmall ApplianceSmall ApplianceS...</td>\n",
       "      <td>AnnovAnnovBM SATELLITERashnikAnnovElegantGener...</td>\n",
       "      <td>260618</td>\n",
       "      <td>4282</td>\n",
       "      <td>https://www.jumia.co.KE/35011062.html?seller_p...</td>\n",
       "      <td>3327</td>\n",
       "    </tr>\n",
       "    <tr>\n",
       "      <th>2</th>\n",
       "      <td>Automotive &amp; Motorcycles</td>\n",
       "      <td>KEKEKEKEKEKEKEKEKEKEKE</td>\n",
       "      <td>GE840CA0SS16GNAFAMZGE840EA0VIADLNAFAMZGE840CA0...</td>\n",
       "      <td>See Through Digital Car Insurance Display Pock...</td>\n",
       "      <td>AutomotiveAutomotiveAutomotiveAutomotiveAutomo...</td>\n",
       "      <td>GenericGenericGenericGeneric9h Mr FixToyotaGen...</td>\n",
       "      <td>11296</td>\n",
       "      <td>402</td>\n",
       "      <td>https://www.jumia.co.KE/44173384.html?seller_p...</td>\n",
       "      <td>66</td>\n",
       "    </tr>\n",
       "    <tr>\n",
       "      <th>3</th>\n",
       "      <td>Beauty &amp; perfumes</td>\n",
       "      <td>KEKEKEKEKEKEKEKEKEKEKEKEKEKEKEKEKEKEKEKEKEKEKE...</td>\n",
       "      <td>DR647ST1CHVZQNAFAMZGA297ST0P1A0HNAFAMZGA297HB0...</td>\n",
       "      <td>Vitamin C Brightening &amp; Anti-Aging Face Serum ...</td>\n",
       "      <td>Facial skincareFacial skincareFacial skincareF...</td>\n",
       "      <td>Dr. RashelGARNIERGARNIERGARNIERGARNIERGARNIERG...</td>\n",
       "      <td>360684</td>\n",
       "      <td>26598</td>\n",
       "      <td>https://www.jumia.co.KE/28165418.html?seller_p...</td>\n",
       "      <td>34912</td>\n",
       "    </tr>\n",
       "    <tr>\n",
       "      <th>4</th>\n",
       "      <td>Beverages</td>\n",
       "      <td>KEKEKEKE</td>\n",
       "      <td>NE683DR1CBK7INAFAMZFR155DB05868BNAFAMZFL593DB0...</td>\n",
       "      <td>Classic Jar 100gOrange Juice 250mlORIGINAL Her...</td>\n",
       "      <td>Tea and CoffeeJuicesTea and CoffeeTea and Coffee</td>\n",
       "      <td>NESCAFEFruitvilleFlat tummy teaFlat tummy tea</td>\n",
       "      <td>2193</td>\n",
       "      <td>89</td>\n",
       "      <td>https://www.jumia.co.KE/47906118.html?seller_p...</td>\n",
       "      <td>7</td>\n",
       "    </tr>\n",
       "  </tbody>\n",
       "</table>\n",
       "</div>"
      ],
      "text/plain": [
       "              main_category  \\\n",
       "0                    Adulte   \n",
       "1                Appliances   \n",
       "2  Automotive & Motorcycles   \n",
       "3         Beauty & perfumes   \n",
       "4                 Beverages   \n",
       "\n",
       "                                             country  \\\n",
       "0                                           KEKEKEKE   \n",
       "1  KEKEKEKEKEKEKEKEKEKEKEKEKEKEKEKEKEKEKEKEKEKEKE...   \n",
       "2                             KEKEKEKEKEKEKEKEKEKEKE   \n",
       "3  KEKEKEKEKEKEKEKEKEKEKEKEKEKEKEKEKEKEKEKEKEKEKE...   \n",
       "4                                           KEKEKEKE   \n",
       "\n",
       "                                          sku_config  \\\n",
       "0  GE840AT02HEYWNAFAMZGE840AT17ATYINAFAMZGE840AT0...   \n",
       "1  AN944HA0FHI99NAFAMZAN944HA0FHI99NAFAMZBM953HA0...   \n",
       "2  GE840CA0SS16GNAFAMZGE840EA0VIADLNAFAMZGE840CA0...   \n",
       "3  DR647ST1CHVZQNAFAMZGA297ST0P1A0HNAFAMZGA297HB0...   \n",
       "4  NE683DR1CBK7INAFAMZFR155DB05868BNAFAMZFL593DB0...   \n",
       "\n",
       "                                        product_name  \\\n",
       "0  Vibrator Female Dildo G Spot StimulatorRealist...   \n",
       "1  2L Electric Automatic Kettle + 1 Spoon 1 Fork....   \n",
       "2  See Through Digital Car Insurance Display Pock...   \n",
       "3  Vitamin C Brightening & Anti-Aging Face Serum ...   \n",
       "4  Classic Jar 100gOrange Juice 250mlORIGINAL Her...   \n",
       "\n",
       "                                        sec_category  \\\n",
       "0                           adulteadulteadulteadulte   \n",
       "1  Small ApplianceSmall ApplianceSmall ApplianceS...   \n",
       "2  AutomotiveAutomotiveAutomotiveAutomotiveAutomo...   \n",
       "3  Facial skincareFacial skincareFacial skincareF...   \n",
       "4   Tea and CoffeeJuicesTea and CoffeeTea and Coffee   \n",
       "\n",
       "                                               brand  selling_price  \\\n",
       "0                       GenericGenericGenericGeneric           4930   \n",
       "1  AnnovAnnovBM SATELLITERashnikAnnovElegantGener...         260618   \n",
       "2  GenericGenericGenericGeneric9h Mr FixToyotaGen...          11296   \n",
       "3  Dr. RashelGARNIERGARNIERGARNIERGARNIERGARNIERG...         360684   \n",
       "4      NESCAFEFruitvilleFlat tummy teaFlat tummy tea           2193   \n",
       "\n",
       "   items_sold                                       product_link  ranking  \n",
       "0          91  https://www.jumia.co.KE/48717140.html?seller_p...       10  \n",
       "1        4282  https://www.jumia.co.KE/35011062.html?seller_p...     3327  \n",
       "2         402  https://www.jumia.co.KE/44173384.html?seller_p...       66  \n",
       "3       26598  https://www.jumia.co.KE/28165418.html?seller_p...    34912  \n",
       "4          89  https://www.jumia.co.KE/47906118.html?seller_p...        7  "
      ]
     },
     "execution_count": 167,
     "metadata": {},
     "output_type": "execute_result"
    }
   ],
   "source": [
    "df_groups = df.groupby('main_category').sum()\n",
    "df_groups = df_groups.reset_index()\n",
    "df_groups.head()"
   ]
  },
  {
   "cell_type": "code",
   "execution_count": 155,
   "id": "1f9843ef-48d3-4486-bbdb-aea4cee1f2bc",
   "metadata": {},
   "outputs": [
    {
     "data": {
      "text/html": [
       "<div>\n",
       "<style scoped>\n",
       "    .dataframe tbody tr th:only-of-type {\n",
       "        vertical-align: middle;\n",
       "    }\n",
       "\n",
       "    .dataframe tbody tr th {\n",
       "        vertical-align: top;\n",
       "    }\n",
       "\n",
       "    .dataframe thead th {\n",
       "        text-align: right;\n",
       "    }\n",
       "</style>\n",
       "<table border=\"1\" class=\"dataframe\">\n",
       "  <thead>\n",
       "    <tr style=\"text-align: right;\">\n",
       "      <th></th>\n",
       "      <th>main_category</th>\n",
       "      <th>avg_selling_price</th>\n",
       "      <th>avg_items_sold</th>\n",
       "    </tr>\n",
       "  </thead>\n",
       "  <tbody>\n",
       "    <tr>\n",
       "      <th>0</th>\n",
       "      <td>Adulte</td>\n",
       "      <td>1232</td>\n",
       "      <td>22</td>\n",
       "    </tr>\n",
       "    <tr>\n",
       "      <th>1</th>\n",
       "      <td>Appliances</td>\n",
       "      <td>2686</td>\n",
       "      <td>44</td>\n",
       "    </tr>\n",
       "    <tr>\n",
       "      <th>2</th>\n",
       "      <td>Automotive &amp; Motorcycles</td>\n",
       "      <td>1026</td>\n",
       "      <td>36</td>\n",
       "    </tr>\n",
       "    <tr>\n",
       "      <th>3</th>\n",
       "      <td>Beauty &amp; perfumes</td>\n",
       "      <td>572</td>\n",
       "      <td>42</td>\n",
       "    </tr>\n",
       "    <tr>\n",
       "      <th>4</th>\n",
       "      <td>Beverages</td>\n",
       "      <td>548</td>\n",
       "      <td>22</td>\n",
       "    </tr>\n",
       "    <tr>\n",
       "      <th>5</th>\n",
       "      <td>Books &amp; Stationery</td>\n",
       "      <td>816</td>\n",
       "      <td>15</td>\n",
       "    </tr>\n",
       "    <tr>\n",
       "      <th>6</th>\n",
       "      <td>Boys</td>\n",
       "      <td>650</td>\n",
       "      <td>22</td>\n",
       "    </tr>\n",
       "    <tr>\n",
       "      <th>7</th>\n",
       "      <td>Cameras &amp; Accessories</td>\n",
       "      <td>1403</td>\n",
       "      <td>21</td>\n",
       "    </tr>\n",
       "    <tr>\n",
       "      <th>8</th>\n",
       "      <td>Computing</td>\n",
       "      <td>1405</td>\n",
       "      <td>41</td>\n",
       "    </tr>\n",
       "    <tr>\n",
       "      <th>9</th>\n",
       "      <td>Fashion</td>\n",
       "      <td>500</td>\n",
       "      <td>27</td>\n",
       "    </tr>\n",
       "    <tr>\n",
       "      <th>10</th>\n",
       "      <td>Food cupboard</td>\n",
       "      <td>415</td>\n",
       "      <td>110</td>\n",
       "    </tr>\n",
       "    <tr>\n",
       "      <th>11</th>\n",
       "      <td>Games &amp; Consoles</td>\n",
       "      <td>2792</td>\n",
       "      <td>20</td>\n",
       "    </tr>\n",
       "    <tr>\n",
       "      <th>12</th>\n",
       "      <td>Girls</td>\n",
       "      <td>279</td>\n",
       "      <td>17</td>\n",
       "    </tr>\n",
       "    <tr>\n",
       "      <th>13</th>\n",
       "      <td>Home</td>\n",
       "      <td>1352</td>\n",
       "      <td>29</td>\n",
       "    </tr>\n",
       "    <tr>\n",
       "      <th>14</th>\n",
       "      <td>Household care</td>\n",
       "      <td>298</td>\n",
       "      <td>46</td>\n",
       "    </tr>\n",
       "    <tr>\n",
       "      <th>15</th>\n",
       "      <td>Kids and Baby</td>\n",
       "      <td>701</td>\n",
       "      <td>28</td>\n",
       "    </tr>\n",
       "    <tr>\n",
       "      <th>16</th>\n",
       "      <td>Laundry</td>\n",
       "      <td>329</td>\n",
       "      <td>121</td>\n",
       "    </tr>\n",
       "    <tr>\n",
       "      <th>17</th>\n",
       "      <td>Men's accessories</td>\n",
       "      <td>498</td>\n",
       "      <td>42</td>\n",
       "    </tr>\n",
       "    <tr>\n",
       "      <th>18</th>\n",
       "      <td>Men's clothing</td>\n",
       "      <td>791</td>\n",
       "      <td>43</td>\n",
       "    </tr>\n",
       "    <tr>\n",
       "      <th>19</th>\n",
       "      <td>Men's shoes</td>\n",
       "      <td>970</td>\n",
       "      <td>27</td>\n",
       "    </tr>\n",
       "    <tr>\n",
       "      <th>20</th>\n",
       "      <td>Musical Instruments</td>\n",
       "      <td>209</td>\n",
       "      <td>17</td>\n",
       "    </tr>\n",
       "    <tr>\n",
       "      <th>21</th>\n",
       "      <td>Phones</td>\n",
       "      <td>5872</td>\n",
       "      <td>38</td>\n",
       "    </tr>\n",
       "    <tr>\n",
       "      <th>22</th>\n",
       "      <td>Sport &amp; Fitness</td>\n",
       "      <td>823</td>\n",
       "      <td>24</td>\n",
       "    </tr>\n",
       "    <tr>\n",
       "      <th>23</th>\n",
       "      <td>TVs, Audio and Video</td>\n",
       "      <td>4512</td>\n",
       "      <td>36</td>\n",
       "    </tr>\n",
       "    <tr>\n",
       "      <th>24</th>\n",
       "      <td>Tablets &amp; Accessories</td>\n",
       "      <td>3344</td>\n",
       "      <td>26</td>\n",
       "    </tr>\n",
       "    <tr>\n",
       "      <th>25</th>\n",
       "      <td>Tobacco</td>\n",
       "      <td>791</td>\n",
       "      <td>32</td>\n",
       "    </tr>\n",
       "    <tr>\n",
       "      <th>26</th>\n",
       "      <td>Unisex's accessories</td>\n",
       "      <td>981</td>\n",
       "      <td>45</td>\n",
       "    </tr>\n",
       "    <tr>\n",
       "      <th>27</th>\n",
       "      <td>Women's accessories</td>\n",
       "      <td>594</td>\n",
       "      <td>39</td>\n",
       "    </tr>\n",
       "    <tr>\n",
       "      <th>28</th>\n",
       "      <td>Women's clothing</td>\n",
       "      <td>555</td>\n",
       "      <td>51</td>\n",
       "    </tr>\n",
       "    <tr>\n",
       "      <th>29</th>\n",
       "      <td>Women's shoes</td>\n",
       "      <td>533</td>\n",
       "      <td>31</td>\n",
       "    </tr>\n",
       "  </tbody>\n",
       "</table>\n",
       "</div>"
      ],
      "text/plain": [
       "               main_category  avg_selling_price  avg_items_sold\n",
       "0                     Adulte               1232              22\n",
       "1                 Appliances               2686              44\n",
       "2   Automotive & Motorcycles               1026              36\n",
       "3          Beauty & perfumes                572              42\n",
       "4                  Beverages                548              22\n",
       "5         Books & Stationery                816              15\n",
       "6                       Boys                650              22\n",
       "7      Cameras & Accessories               1403              21\n",
       "8                  Computing               1405              41\n",
       "9                    Fashion                500              27\n",
       "10             Food cupboard                415             110\n",
       "11          Games & Consoles               2792              20\n",
       "12                     Girls                279              17\n",
       "13                      Home               1352              29\n",
       "14            Household care                298              46\n",
       "15             Kids and Baby                701              28\n",
       "16                   Laundry                329             121\n",
       "17         Men's accessories                498              42\n",
       "18            Men's clothing                791              43\n",
       "19               Men's shoes                970              27\n",
       "20       Musical Instruments                209              17\n",
       "21                    Phones               5872              38\n",
       "22           Sport & Fitness                823              24\n",
       "23      TVs, Audio and Video               4512              36\n",
       "24     Tablets & Accessories               3344              26\n",
       "25                   Tobacco                791              32\n",
       "26      Unisex's accessories                981              45\n",
       "27       Women's accessories                594              39\n",
       "28          Women's clothing                555              51\n",
       "29             Women's shoes                533              31"
      ]
     },
     "execution_count": 155,
     "metadata": {},
     "output_type": "execute_result"
    }
   ],
   "source": [
    "dfgroups = df[[\"main_category\",\"selling_price\",\"items_sold\"]]\n",
    "dfgroups = dfgroups.groupby('main_category').mean().astype(int).reset_index()\n",
    "dfgroups.columns = ['main_category', 'avg_selling_price', 'avg_items_sold']\n",
    "dfgroups"
   ]
  },
  {
   "cell_type": "code",
   "execution_count": 175,
   "id": "cf163ba4-9355-48c9-bd21-68712ab4d61f",
   "metadata": {},
   "outputs": [
    {
     "data": {
      "text/html": [
       "<div>\n",
       "<style scoped>\n",
       "    .dataframe tbody tr th:only-of-type {\n",
       "        vertical-align: middle;\n",
       "    }\n",
       "\n",
       "    .dataframe tbody tr th {\n",
       "        vertical-align: top;\n",
       "    }\n",
       "\n",
       "    .dataframe thead th {\n",
       "        text-align: right;\n",
       "    }\n",
       "</style>\n",
       "<table border=\"1\" class=\"dataframe\">\n",
       "  <thead>\n",
       "    <tr style=\"text-align: right;\">\n",
       "      <th></th>\n",
       "      <th>main_category</th>\n",
       "      <th>avg_selling_price</th>\n",
       "      <th>avg_items_sold</th>\n",
       "      <th>no_of_products</th>\n",
       "      <th>items_sold</th>\n",
       "    </tr>\n",
       "  </thead>\n",
       "  <tbody>\n",
       "    <tr>\n",
       "      <th>0</th>\n",
       "      <td>Laundry</td>\n",
       "      <td>329</td>\n",
       "      <td>121</td>\n",
       "      <td>54</td>\n",
       "      <td>6546</td>\n",
       "    </tr>\n",
       "    <tr>\n",
       "      <th>1</th>\n",
       "      <td>Food cupboard</td>\n",
       "      <td>415</td>\n",
       "      <td>110</td>\n",
       "      <td>547</td>\n",
       "      <td>60340</td>\n",
       "    </tr>\n",
       "    <tr>\n",
       "      <th>2</th>\n",
       "      <td>Women's clothing</td>\n",
       "      <td>555</td>\n",
       "      <td>51</td>\n",
       "      <td>62</td>\n",
       "      <td>3173</td>\n",
       "    </tr>\n",
       "    <tr>\n",
       "      <th>3</th>\n",
       "      <td>Household care</td>\n",
       "      <td>298</td>\n",
       "      <td>46</td>\n",
       "      <td>165</td>\n",
       "      <td>7739</td>\n",
       "    </tr>\n",
       "    <tr>\n",
       "      <th>4</th>\n",
       "      <td>Unisex's accessories</td>\n",
       "      <td>981</td>\n",
       "      <td>45</td>\n",
       "      <td>15</td>\n",
       "      <td>688</td>\n",
       "    </tr>\n",
       "    <tr>\n",
       "      <th>5</th>\n",
       "      <td>Appliances</td>\n",
       "      <td>2686</td>\n",
       "      <td>44</td>\n",
       "      <td>97</td>\n",
       "      <td>4282</td>\n",
       "    </tr>\n",
       "    <tr>\n",
       "      <th>6</th>\n",
       "      <td>Men's clothing</td>\n",
       "      <td>791</td>\n",
       "      <td>43</td>\n",
       "      <td>85</td>\n",
       "      <td>3705</td>\n",
       "    </tr>\n",
       "    <tr>\n",
       "      <th>7</th>\n",
       "      <td>Beauty &amp; perfumes</td>\n",
       "      <td>572</td>\n",
       "      <td>42</td>\n",
       "      <td>630</td>\n",
       "      <td>26598</td>\n",
       "    </tr>\n",
       "    <tr>\n",
       "      <th>8</th>\n",
       "      <td>Men's accessories</td>\n",
       "      <td>498</td>\n",
       "      <td>42</td>\n",
       "      <td>93</td>\n",
       "      <td>3930</td>\n",
       "    </tr>\n",
       "    <tr>\n",
       "      <th>9</th>\n",
       "      <td>Computing</td>\n",
       "      <td>1405</td>\n",
       "      <td>41</td>\n",
       "      <td>160</td>\n",
       "      <td>6684</td>\n",
       "    </tr>\n",
       "    <tr>\n",
       "      <th>10</th>\n",
       "      <td>Women's accessories</td>\n",
       "      <td>594</td>\n",
       "      <td>39</td>\n",
       "      <td>156</td>\n",
       "      <td>6192</td>\n",
       "    </tr>\n",
       "    <tr>\n",
       "      <th>11</th>\n",
       "      <td>Phones</td>\n",
       "      <td>5872</td>\n",
       "      <td>38</td>\n",
       "      <td>286</td>\n",
       "      <td>10907</td>\n",
       "    </tr>\n",
       "    <tr>\n",
       "      <th>12</th>\n",
       "      <td>TVs, Audio and Video</td>\n",
       "      <td>4512</td>\n",
       "      <td>36</td>\n",
       "      <td>191</td>\n",
       "      <td>6913</td>\n",
       "    </tr>\n",
       "    <tr>\n",
       "      <th>13</th>\n",
       "      <td>Automotive &amp; Motorcycles</td>\n",
       "      <td>1026</td>\n",
       "      <td>36</td>\n",
       "      <td>11</td>\n",
       "      <td>402</td>\n",
       "    </tr>\n",
       "    <tr>\n",
       "      <th>14</th>\n",
       "      <td>Tobacco</td>\n",
       "      <td>791</td>\n",
       "      <td>32</td>\n",
       "      <td>4</td>\n",
       "      <td>128</td>\n",
       "    </tr>\n",
       "    <tr>\n",
       "      <th>15</th>\n",
       "      <td>Women's shoes</td>\n",
       "      <td>533</td>\n",
       "      <td>31</td>\n",
       "      <td>41</td>\n",
       "      <td>1276</td>\n",
       "    </tr>\n",
       "    <tr>\n",
       "      <th>16</th>\n",
       "      <td>Home</td>\n",
       "      <td>1352</td>\n",
       "      <td>29</td>\n",
       "      <td>236</td>\n",
       "      <td>6869</td>\n",
       "    </tr>\n",
       "    <tr>\n",
       "      <th>17</th>\n",
       "      <td>Kids and Baby</td>\n",
       "      <td>701</td>\n",
       "      <td>28</td>\n",
       "      <td>37</td>\n",
       "      <td>1066</td>\n",
       "    </tr>\n",
       "    <tr>\n",
       "      <th>18</th>\n",
       "      <td>Men's shoes</td>\n",
       "      <td>970</td>\n",
       "      <td>27</td>\n",
       "      <td>63</td>\n",
       "      <td>1721</td>\n",
       "    </tr>\n",
       "    <tr>\n",
       "      <th>19</th>\n",
       "      <td>Fashion</td>\n",
       "      <td>500</td>\n",
       "      <td>27</td>\n",
       "      <td>4</td>\n",
       "      <td>109</td>\n",
       "    </tr>\n",
       "    <tr>\n",
       "      <th>20</th>\n",
       "      <td>Tablets &amp; Accessories</td>\n",
       "      <td>3344</td>\n",
       "      <td>26</td>\n",
       "      <td>6</td>\n",
       "      <td>157</td>\n",
       "    </tr>\n",
       "    <tr>\n",
       "      <th>21</th>\n",
       "      <td>Sport &amp; Fitness</td>\n",
       "      <td>823</td>\n",
       "      <td>24</td>\n",
       "      <td>15</td>\n",
       "      <td>372</td>\n",
       "    </tr>\n",
       "    <tr>\n",
       "      <th>22</th>\n",
       "      <td>Boys</td>\n",
       "      <td>650</td>\n",
       "      <td>22</td>\n",
       "      <td>8</td>\n",
       "      <td>176</td>\n",
       "    </tr>\n",
       "    <tr>\n",
       "      <th>23</th>\n",
       "      <td>Beverages</td>\n",
       "      <td>548</td>\n",
       "      <td>22</td>\n",
       "      <td>4</td>\n",
       "      <td>89</td>\n",
       "    </tr>\n",
       "    <tr>\n",
       "      <th>24</th>\n",
       "      <td>Adulte</td>\n",
       "      <td>1232</td>\n",
       "      <td>22</td>\n",
       "      <td>4</td>\n",
       "      <td>91</td>\n",
       "    </tr>\n",
       "    <tr>\n",
       "      <th>25</th>\n",
       "      <td>Cameras &amp; Accessories</td>\n",
       "      <td>1403</td>\n",
       "      <td>21</td>\n",
       "      <td>16</td>\n",
       "      <td>344</td>\n",
       "    </tr>\n",
       "    <tr>\n",
       "      <th>26</th>\n",
       "      <td>Games &amp; Consoles</td>\n",
       "      <td>2792</td>\n",
       "      <td>20</td>\n",
       "      <td>3</td>\n",
       "      <td>60</td>\n",
       "    </tr>\n",
       "    <tr>\n",
       "      <th>27</th>\n",
       "      <td>Girls</td>\n",
       "      <td>279</td>\n",
       "      <td>17</td>\n",
       "      <td>1</td>\n",
       "      <td>17</td>\n",
       "    </tr>\n",
       "    <tr>\n",
       "      <th>28</th>\n",
       "      <td>Musical Instruments</td>\n",
       "      <td>209</td>\n",
       "      <td>17</td>\n",
       "      <td>2</td>\n",
       "      <td>35</td>\n",
       "    </tr>\n",
       "    <tr>\n",
       "      <th>29</th>\n",
       "      <td>Books &amp; Stationery</td>\n",
       "      <td>816</td>\n",
       "      <td>15</td>\n",
       "      <td>3</td>\n",
       "      <td>47</td>\n",
       "    </tr>\n",
       "  </tbody>\n",
       "</table>\n",
       "</div>"
      ],
      "text/plain": [
       "               main_category  avg_selling_price  avg_items_sold  \\\n",
       "0                    Laundry                329             121   \n",
       "1              Food cupboard                415             110   \n",
       "2           Women's clothing                555              51   \n",
       "3             Household care                298              46   \n",
       "4       Unisex's accessories                981              45   \n",
       "5                 Appliances               2686              44   \n",
       "6             Men's clothing                791              43   \n",
       "7          Beauty & perfumes                572              42   \n",
       "8          Men's accessories                498              42   \n",
       "9                  Computing               1405              41   \n",
       "10       Women's accessories                594              39   \n",
       "11                    Phones               5872              38   \n",
       "12      TVs, Audio and Video               4512              36   \n",
       "13  Automotive & Motorcycles               1026              36   \n",
       "14                   Tobacco                791              32   \n",
       "15             Women's shoes                533              31   \n",
       "16                      Home               1352              29   \n",
       "17             Kids and Baby                701              28   \n",
       "18               Men's shoes                970              27   \n",
       "19                   Fashion                500              27   \n",
       "20     Tablets & Accessories               3344              26   \n",
       "21           Sport & Fitness                823              24   \n",
       "22                      Boys                650              22   \n",
       "23                 Beverages                548              22   \n",
       "24                    Adulte               1232              22   \n",
       "25     Cameras & Accessories               1403              21   \n",
       "26          Games & Consoles               2792              20   \n",
       "27                     Girls                279              17   \n",
       "28       Musical Instruments                209              17   \n",
       "29        Books & Stationery                816              15   \n",
       "\n",
       "    no_of_products  items_sold  \n",
       "0               54        6546  \n",
       "1              547       60340  \n",
       "2               62        3173  \n",
       "3              165        7739  \n",
       "4               15         688  \n",
       "5               97        4282  \n",
       "6               85        3705  \n",
       "7              630       26598  \n",
       "8               93        3930  \n",
       "9              160        6684  \n",
       "10             156        6192  \n",
       "11             286       10907  \n",
       "12             191        6913  \n",
       "13              11         402  \n",
       "14               4         128  \n",
       "15              41        1276  \n",
       "16             236        6869  \n",
       "17              37        1066  \n",
       "18              63        1721  \n",
       "19               4         109  \n",
       "20               6         157  \n",
       "21              15         372  \n",
       "22               8         176  \n",
       "23               4          89  \n",
       "24               4          91  \n",
       "25              16         344  \n",
       "26               3          60  \n",
       "27               1          17  \n",
       "28               2          35  \n",
       "29               3          47  "
      ]
     },
     "execution_count": 175,
     "metadata": {},
     "output_type": "execute_result"
    }
   ],
   "source": [
    "df_main = dfgroups.merge(df_items)\n",
    "df_groups[['main_category','items_sold']]\n",
    "df_main = df_main.merge(df_groups[['main_category','items_sold']])\n",
    "df_main = df_main.sort_values('avg_items_sold', ascending=False).reset_index(drop=True)\n",
    "df_main"
   ]
  },
  {
   "cell_type": "code",
   "execution_count": 178,
   "id": "4bcf510f-2d7a-4342-8f29-84b3743fd053",
   "metadata": {},
   "outputs": [],
   "source": [
    "df_main.to_csv('main.csv', index=False)"
   ]
  },
  {
   "cell_type": "code",
   "execution_count": 177,
   "id": "1ae706c9-a65d-490b-9389-2591eee0e575",
   "metadata": {},
   "outputs": [
    {
     "data": {
      "text/plain": [
       "<Signature (path_or_buf: 'FilePath | WriteBuffer[bytes] | WriteBuffer[str] | None' = None, *, sep: 'str' = ',', na_rep: 'str' = '', float_format: 'str | Callable | None' = None, columns: 'Sequence[Hashable] | None' = None, header: 'bool_t | list[str]' = True, index: 'bool_t' = True, index_label: 'IndexLabel | None' = None, mode: 'str' = 'w', encoding: 'str | None' = None, compression: 'CompressionOptions' = 'infer', quoting: 'int | None' = None, quotechar: 'str' = '\"', lineterminator: 'str | None' = None, chunksize: 'int | None' = None, date_format: 'str | None' = None, doublequote: 'bool_t' = True, escapechar: 'str | None' = None, decimal: 'str' = '.', errors: 'OpenFileErrors' = 'strict', storage_options: 'StorageOptions | None' = None) -> 'str | None'>"
      ]
     },
     "execution_count": 177,
     "metadata": {},
     "output_type": "execute_result"
    }
   ],
   "source": [
    "inspect.signature(df_main.to_csv)"
   ]
  },
  {
   "cell_type": "code",
   "execution_count": null,
   "id": "d99b134f-3d73-4188-9e7e-375c1e9d352f",
   "metadata": {},
   "outputs": [],
   "source": []
  }
 ],
 "metadata": {
  "kernelspec": {
   "display_name": "Python 3 (ipykernel)",
   "language": "python",
   "name": "python3"
  },
  "language_info": {
   "codemirror_mode": {
    "name": "ipython",
    "version": 3
   },
   "file_extension": ".py",
   "mimetype": "text/x-python",
   "name": "python",
   "nbconvert_exporter": "python",
   "pygments_lexer": "ipython3",
   "version": "3.11.1"
  }
 },
 "nbformat": 4,
 "nbformat_minor": 5
}
