{
 "cells": [
  {
   "cell_type": "code",
   "execution_count": 3,
   "id": "e203f4ab-0407-41d2-8ea0-73b76cb2e758",
   "metadata": {},
   "outputs": [],
   "source": [
    "import pandas as pd\n",
    "import inspect\n",
    "import plotly.express as px"
   ]
  },
  {
   "cell_type": "markdown",
   "id": "d0a2fe77-828a-4302-b5b1-f1cc5572c652",
   "metadata": {},
   "source": [
    "# Analysing profitable products"
   ]
  },
  {
   "cell_type": "markdown",
   "id": "1b194440-0c4f-4358-bd94-42261a1ff334",
   "metadata": {},
   "source": [
    "- with 20% profit"
   ]
  },
  {
   "cell_type": "code",
   "execution_count": 26,
   "id": "cb925a78-e771-46c9-96cb-99f06b8d761a",
   "metadata": {},
   "outputs": [
    {
     "data": {
      "text/html": [
       "<div>\n",
       "<style scoped>\n",
       "    .dataframe tbody tr th:only-of-type {\n",
       "        vertical-align: middle;\n",
       "    }\n",
       "\n",
       "    .dataframe tbody tr th {\n",
       "        vertical-align: top;\n",
       "    }\n",
       "\n",
       "    .dataframe thead th {\n",
       "        text-align: right;\n",
       "    }\n",
       "</style>\n",
       "<table border=\"1\" class=\"dataframe\">\n",
       "  <thead>\n",
       "    <tr style=\"text-align: right;\">\n",
       "      <th></th>\n",
       "      <th>main_category</th>\n",
       "      <th>avg_selling_price</th>\n",
       "      <th>avg_items_sold</th>\n",
       "      <th>no_of_products</th>\n",
       "      <th>items_sold</th>\n",
       "    </tr>\n",
       "  </thead>\n",
       "  <tbody>\n",
       "    <tr>\n",
       "      <th>0</th>\n",
       "      <td>Laundry</td>\n",
       "      <td>329</td>\n",
       "      <td>121</td>\n",
       "      <td>54</td>\n",
       "      <td>6546</td>\n",
       "    </tr>\n",
       "    <tr>\n",
       "      <th>1</th>\n",
       "      <td>Food cupboard</td>\n",
       "      <td>415</td>\n",
       "      <td>110</td>\n",
       "      <td>547</td>\n",
       "      <td>60340</td>\n",
       "    </tr>\n",
       "    <tr>\n",
       "      <th>2</th>\n",
       "      <td>Women's clothing</td>\n",
       "      <td>555</td>\n",
       "      <td>51</td>\n",
       "      <td>62</td>\n",
       "      <td>3173</td>\n",
       "    </tr>\n",
       "    <tr>\n",
       "      <th>3</th>\n",
       "      <td>Household care</td>\n",
       "      <td>298</td>\n",
       "      <td>46</td>\n",
       "      <td>165</td>\n",
       "      <td>7739</td>\n",
       "    </tr>\n",
       "    <tr>\n",
       "      <th>4</th>\n",
       "      <td>Unisex's accessories</td>\n",
       "      <td>981</td>\n",
       "      <td>45</td>\n",
       "      <td>15</td>\n",
       "      <td>688</td>\n",
       "    </tr>\n",
       "  </tbody>\n",
       "</table>\n",
       "</div>"
      ],
      "text/plain": [
       "          main_category  avg_selling_price  avg_items_sold  no_of_products  \\\n",
       "0               Laundry                329             121              54   \n",
       "1         Food cupboard                415             110             547   \n",
       "2      Women's clothing                555              51              62   \n",
       "3        Household care                298              46             165   \n",
       "4  Unisex's accessories                981              45              15   \n",
       "\n",
       "   items_sold  \n",
       "0        6546  \n",
       "1       60340  \n",
       "2        3173  \n",
       "3        7739  \n",
       "4         688  "
      ]
     },
     "execution_count": 26,
     "metadata": {},
     "output_type": "execute_result"
    }
   ],
   "source": [
    "df = pd.read_csv('main.csv')\n",
    "df.head()"
   ]
  },
  {
   "cell_type": "markdown",
   "id": "4fdaf4f4-fd98-4c1f-b117-cc76c89ea675",
   "metadata": {},
   "source": [
    "# Getting\n",
    "- Profit %\n",
    "- Average Revenue per each individual product"
   ]
  },
  {
   "cell_type": "code",
   "execution_count": 27,
   "id": "6e0e3991-94b7-4d95-9a10-9ae601efc1f7",
   "metadata": {},
   "outputs": [
    {
     "data": {
      "text/html": [
       "<div>\n",
       "<style scoped>\n",
       "    .dataframe tbody tr th:only-of-type {\n",
       "        vertical-align: middle;\n",
       "    }\n",
       "\n",
       "    .dataframe tbody tr th {\n",
       "        vertical-align: top;\n",
       "    }\n",
       "\n",
       "    .dataframe thead th {\n",
       "        text-align: right;\n",
       "    }\n",
       "</style>\n",
       "<table border=\"1\" class=\"dataframe\">\n",
       "  <thead>\n",
       "    <tr style=\"text-align: right;\">\n",
       "      <th></th>\n",
       "      <th>main_category</th>\n",
       "      <th>avg_selling_price</th>\n",
       "      <th>avg_items_sold</th>\n",
       "      <th>no_of_products</th>\n",
       "      <th>items_sold</th>\n",
       "      <th>average_revenue</th>\n",
       "      <th>20% Profit</th>\n",
       "    </tr>\n",
       "  </thead>\n",
       "  <tbody>\n",
       "    <tr>\n",
       "      <th>0</th>\n",
       "      <td>Phones</td>\n",
       "      <td>5872</td>\n",
       "      <td>38</td>\n",
       "      <td>286</td>\n",
       "      <td>10907</td>\n",
       "      <td>223136</td>\n",
       "      <td>44627.2</td>\n",
       "    </tr>\n",
       "    <tr>\n",
       "      <th>1</th>\n",
       "      <td>TVs, Audio and Video</td>\n",
       "      <td>4512</td>\n",
       "      <td>36</td>\n",
       "      <td>191</td>\n",
       "      <td>6913</td>\n",
       "      <td>162432</td>\n",
       "      <td>32486.4</td>\n",
       "    </tr>\n",
       "    <tr>\n",
       "      <th>2</th>\n",
       "      <td>Appliances</td>\n",
       "      <td>2686</td>\n",
       "      <td>44</td>\n",
       "      <td>97</td>\n",
       "      <td>4282</td>\n",
       "      <td>118184</td>\n",
       "      <td>23636.8</td>\n",
       "    </tr>\n",
       "    <tr>\n",
       "      <th>3</th>\n",
       "      <td>Tablets &amp; Accessories</td>\n",
       "      <td>3344</td>\n",
       "      <td>26</td>\n",
       "      <td>6</td>\n",
       "      <td>157</td>\n",
       "      <td>86944</td>\n",
       "      <td>17388.8</td>\n",
       "    </tr>\n",
       "    <tr>\n",
       "      <th>4</th>\n",
       "      <td>Computing</td>\n",
       "      <td>1405</td>\n",
       "      <td>41</td>\n",
       "      <td>160</td>\n",
       "      <td>6684</td>\n",
       "      <td>57605</td>\n",
       "      <td>11521.0</td>\n",
       "    </tr>\n",
       "    <tr>\n",
       "      <th>5</th>\n",
       "      <td>Games &amp; Consoles</td>\n",
       "      <td>2792</td>\n",
       "      <td>20</td>\n",
       "      <td>3</td>\n",
       "      <td>60</td>\n",
       "      <td>55840</td>\n",
       "      <td>11168.0</td>\n",
       "    </tr>\n",
       "    <tr>\n",
       "      <th>6</th>\n",
       "      <td>Food cupboard</td>\n",
       "      <td>415</td>\n",
       "      <td>110</td>\n",
       "      <td>547</td>\n",
       "      <td>60340</td>\n",
       "      <td>45650</td>\n",
       "      <td>9130.0</td>\n",
       "    </tr>\n",
       "    <tr>\n",
       "      <th>7</th>\n",
       "      <td>Unisex's accessories</td>\n",
       "      <td>981</td>\n",
       "      <td>45</td>\n",
       "      <td>15</td>\n",
       "      <td>688</td>\n",
       "      <td>44145</td>\n",
       "      <td>8829.0</td>\n",
       "    </tr>\n",
       "    <tr>\n",
       "      <th>8</th>\n",
       "      <td>Laundry</td>\n",
       "      <td>329</td>\n",
       "      <td>121</td>\n",
       "      <td>54</td>\n",
       "      <td>6546</td>\n",
       "      <td>39809</td>\n",
       "      <td>7961.8</td>\n",
       "    </tr>\n",
       "    <tr>\n",
       "      <th>9</th>\n",
       "      <td>Home</td>\n",
       "      <td>1352</td>\n",
       "      <td>29</td>\n",
       "      <td>236</td>\n",
       "      <td>6869</td>\n",
       "      <td>39208</td>\n",
       "      <td>7841.6</td>\n",
       "    </tr>\n",
       "    <tr>\n",
       "      <th>10</th>\n",
       "      <td>Automotive &amp; Motorcycles</td>\n",
       "      <td>1026</td>\n",
       "      <td>36</td>\n",
       "      <td>11</td>\n",
       "      <td>402</td>\n",
       "      <td>36936</td>\n",
       "      <td>7387.2</td>\n",
       "    </tr>\n",
       "    <tr>\n",
       "      <th>11</th>\n",
       "      <td>Men's clothing</td>\n",
       "      <td>791</td>\n",
       "      <td>43</td>\n",
       "      <td>85</td>\n",
       "      <td>3705</td>\n",
       "      <td>34013</td>\n",
       "      <td>6802.6</td>\n",
       "    </tr>\n",
       "    <tr>\n",
       "      <th>12</th>\n",
       "      <td>Cameras &amp; Accessories</td>\n",
       "      <td>1403</td>\n",
       "      <td>21</td>\n",
       "      <td>16</td>\n",
       "      <td>344</td>\n",
       "      <td>29463</td>\n",
       "      <td>5892.6</td>\n",
       "    </tr>\n",
       "    <tr>\n",
       "      <th>13</th>\n",
       "      <td>Women's clothing</td>\n",
       "      <td>555</td>\n",
       "      <td>51</td>\n",
       "      <td>62</td>\n",
       "      <td>3173</td>\n",
       "      <td>28305</td>\n",
       "      <td>5661.0</td>\n",
       "    </tr>\n",
       "    <tr>\n",
       "      <th>14</th>\n",
       "      <td>Adulte</td>\n",
       "      <td>1232</td>\n",
       "      <td>22</td>\n",
       "      <td>4</td>\n",
       "      <td>91</td>\n",
       "      <td>27104</td>\n",
       "      <td>5420.8</td>\n",
       "    </tr>\n",
       "    <tr>\n",
       "      <th>15</th>\n",
       "      <td>Men's shoes</td>\n",
       "      <td>970</td>\n",
       "      <td>27</td>\n",
       "      <td>63</td>\n",
       "      <td>1721</td>\n",
       "      <td>26190</td>\n",
       "      <td>5238.0</td>\n",
       "    </tr>\n",
       "    <tr>\n",
       "      <th>16</th>\n",
       "      <td>Tobacco</td>\n",
       "      <td>791</td>\n",
       "      <td>32</td>\n",
       "      <td>4</td>\n",
       "      <td>128</td>\n",
       "      <td>25312</td>\n",
       "      <td>5062.4</td>\n",
       "    </tr>\n",
       "    <tr>\n",
       "      <th>17</th>\n",
       "      <td>Beauty &amp; perfumes</td>\n",
       "      <td>572</td>\n",
       "      <td>42</td>\n",
       "      <td>630</td>\n",
       "      <td>26598</td>\n",
       "      <td>24024</td>\n",
       "      <td>4804.8</td>\n",
       "    </tr>\n",
       "    <tr>\n",
       "      <th>18</th>\n",
       "      <td>Women's accessories</td>\n",
       "      <td>594</td>\n",
       "      <td>39</td>\n",
       "      <td>156</td>\n",
       "      <td>6192</td>\n",
       "      <td>23166</td>\n",
       "      <td>4633.2</td>\n",
       "    </tr>\n",
       "    <tr>\n",
       "      <th>19</th>\n",
       "      <td>Men's accessories</td>\n",
       "      <td>498</td>\n",
       "      <td>42</td>\n",
       "      <td>93</td>\n",
       "      <td>3930</td>\n",
       "      <td>20916</td>\n",
       "      <td>4183.2</td>\n",
       "    </tr>\n",
       "    <tr>\n",
       "      <th>20</th>\n",
       "      <td>Sport &amp; Fitness</td>\n",
       "      <td>823</td>\n",
       "      <td>24</td>\n",
       "      <td>15</td>\n",
       "      <td>372</td>\n",
       "      <td>19752</td>\n",
       "      <td>3950.4</td>\n",
       "    </tr>\n",
       "    <tr>\n",
       "      <th>21</th>\n",
       "      <td>Kids and Baby</td>\n",
       "      <td>701</td>\n",
       "      <td>28</td>\n",
       "      <td>37</td>\n",
       "      <td>1066</td>\n",
       "      <td>19628</td>\n",
       "      <td>3925.6</td>\n",
       "    </tr>\n",
       "    <tr>\n",
       "      <th>22</th>\n",
       "      <td>Women's shoes</td>\n",
       "      <td>533</td>\n",
       "      <td>31</td>\n",
       "      <td>41</td>\n",
       "      <td>1276</td>\n",
       "      <td>16523</td>\n",
       "      <td>3304.6</td>\n",
       "    </tr>\n",
       "    <tr>\n",
       "      <th>23</th>\n",
       "      <td>Boys</td>\n",
       "      <td>650</td>\n",
       "      <td>22</td>\n",
       "      <td>8</td>\n",
       "      <td>176</td>\n",
       "      <td>14300</td>\n",
       "      <td>2860.0</td>\n",
       "    </tr>\n",
       "    <tr>\n",
       "      <th>24</th>\n",
       "      <td>Household care</td>\n",
       "      <td>298</td>\n",
       "      <td>46</td>\n",
       "      <td>165</td>\n",
       "      <td>7739</td>\n",
       "      <td>13708</td>\n",
       "      <td>2741.6</td>\n",
       "    </tr>\n",
       "    <tr>\n",
       "      <th>25</th>\n",
       "      <td>Fashion</td>\n",
       "      <td>500</td>\n",
       "      <td>27</td>\n",
       "      <td>4</td>\n",
       "      <td>109</td>\n",
       "      <td>13500</td>\n",
       "      <td>2700.0</td>\n",
       "    </tr>\n",
       "    <tr>\n",
       "      <th>26</th>\n",
       "      <td>Books &amp; Stationery</td>\n",
       "      <td>816</td>\n",
       "      <td>15</td>\n",
       "      <td>3</td>\n",
       "      <td>47</td>\n",
       "      <td>12240</td>\n",
       "      <td>2448.0</td>\n",
       "    </tr>\n",
       "    <tr>\n",
       "      <th>27</th>\n",
       "      <td>Beverages</td>\n",
       "      <td>548</td>\n",
       "      <td>22</td>\n",
       "      <td>4</td>\n",
       "      <td>89</td>\n",
       "      <td>12056</td>\n",
       "      <td>2411.2</td>\n",
       "    </tr>\n",
       "    <tr>\n",
       "      <th>28</th>\n",
       "      <td>Girls</td>\n",
       "      <td>279</td>\n",
       "      <td>17</td>\n",
       "      <td>1</td>\n",
       "      <td>17</td>\n",
       "      <td>4743</td>\n",
       "      <td>948.6</td>\n",
       "    </tr>\n",
       "    <tr>\n",
       "      <th>29</th>\n",
       "      <td>Musical Instruments</td>\n",
       "      <td>209</td>\n",
       "      <td>17</td>\n",
       "      <td>2</td>\n",
       "      <td>35</td>\n",
       "      <td>3553</td>\n",
       "      <td>710.6</td>\n",
       "    </tr>\n",
       "  </tbody>\n",
       "</table>\n",
       "</div>"
      ],
      "text/plain": [
       "               main_category  avg_selling_price  avg_items_sold  \\\n",
       "0                     Phones               5872              38   \n",
       "1       TVs, Audio and Video               4512              36   \n",
       "2                 Appliances               2686              44   \n",
       "3      Tablets & Accessories               3344              26   \n",
       "4                  Computing               1405              41   \n",
       "5           Games & Consoles               2792              20   \n",
       "6              Food cupboard                415             110   \n",
       "7       Unisex's accessories                981              45   \n",
       "8                    Laundry                329             121   \n",
       "9                       Home               1352              29   \n",
       "10  Automotive & Motorcycles               1026              36   \n",
       "11            Men's clothing                791              43   \n",
       "12     Cameras & Accessories               1403              21   \n",
       "13          Women's clothing                555              51   \n",
       "14                    Adulte               1232              22   \n",
       "15               Men's shoes                970              27   \n",
       "16                   Tobacco                791              32   \n",
       "17         Beauty & perfumes                572              42   \n",
       "18       Women's accessories                594              39   \n",
       "19         Men's accessories                498              42   \n",
       "20           Sport & Fitness                823              24   \n",
       "21             Kids and Baby                701              28   \n",
       "22             Women's shoes                533              31   \n",
       "23                      Boys                650              22   \n",
       "24            Household care                298              46   \n",
       "25                   Fashion                500              27   \n",
       "26        Books & Stationery                816              15   \n",
       "27                 Beverages                548              22   \n",
       "28                     Girls                279              17   \n",
       "29       Musical Instruments                209              17   \n",
       "\n",
       "    no_of_products  items_sold  average_revenue  20% Profit  \n",
       "0              286       10907           223136     44627.2  \n",
       "1              191        6913           162432     32486.4  \n",
       "2               97        4282           118184     23636.8  \n",
       "3                6         157            86944     17388.8  \n",
       "4              160        6684            57605     11521.0  \n",
       "5                3          60            55840     11168.0  \n",
       "6              547       60340            45650      9130.0  \n",
       "7               15         688            44145      8829.0  \n",
       "8               54        6546            39809      7961.8  \n",
       "9              236        6869            39208      7841.6  \n",
       "10              11         402            36936      7387.2  \n",
       "11              85        3705            34013      6802.6  \n",
       "12              16         344            29463      5892.6  \n",
       "13              62        3173            28305      5661.0  \n",
       "14               4          91            27104      5420.8  \n",
       "15              63        1721            26190      5238.0  \n",
       "16               4         128            25312      5062.4  \n",
       "17             630       26598            24024      4804.8  \n",
       "18             156        6192            23166      4633.2  \n",
       "19              93        3930            20916      4183.2  \n",
       "20              15         372            19752      3950.4  \n",
       "21              37        1066            19628      3925.6  \n",
       "22              41        1276            16523      3304.6  \n",
       "23               8         176            14300      2860.0  \n",
       "24             165        7739            13708      2741.6  \n",
       "25               4         109            13500      2700.0  \n",
       "26               3          47            12240      2448.0  \n",
       "27               4          89            12056      2411.2  \n",
       "28               1          17             4743       948.6  \n",
       "29               2          35             3553       710.6  "
      ]
     },
     "execution_count": 27,
     "metadata": {},
     "output_type": "execute_result"
    }
   ],
   "source": [
    "df['average_revenue'] = df['avg_selling_price'] * df['avg_items_sold']\n",
    "df['20% Profit'] = df['average_revenue'] * 0.2\n",
    "\n",
    "df = df.sort_values('20% Profit', ascending=False).reset_index(drop=True)\n",
    "df"
   ]
  },
  {
   "cell_type": "code",
   "execution_count": 28,
   "id": "41729484-72b7-4697-bf8c-55ba73c0b231",
   "metadata": {},
   "outputs": [
    {
     "data": {
      "application/vnd.plotly.v1+json": {
       "config": {
        "plotlyServerURL": "https://plot.ly"
       },
       "data": [
        {
         "hovertemplate": "<b>%{hovertext}</b><br><br>main_category=Phones<br>avg_items_sold=%{x}<br>20% Profit=%{y}<br>no_of_products=%{marker.size}<extra></extra>",
         "hovertext": [
          "Phones"
         ],
         "legendgroup": "Phones",
         "marker": {
          "color": "#636efa",
          "size": [
           286
          ],
          "sizemode": "area",
          "sizeref": 0.175,
          "symbol": "circle"
         },
         "mode": "markers",
         "name": "Phones",
         "orientation": "v",
         "showlegend": true,
         "type": "scatter",
         "x": [
          38
         ],
         "xaxis": "x",
         "y": [
          44627.200000000004
         ],
         "yaxis": "y"
        },
        {
         "hovertemplate": "<b>%{hovertext}</b><br><br>main_category=TVs, Audio and Video<br>avg_items_sold=%{x}<br>20% Profit=%{y}<br>no_of_products=%{marker.size}<extra></extra>",
         "hovertext": [
          "TVs, Audio and Video"
         ],
         "legendgroup": "TVs, Audio and Video",
         "marker": {
          "color": "#EF553B",
          "size": [
           191
          ],
          "sizemode": "area",
          "sizeref": 0.175,
          "symbol": "circle"
         },
         "mode": "markers",
         "name": "TVs, Audio and Video",
         "orientation": "v",
         "showlegend": true,
         "type": "scatter",
         "x": [
          36
         ],
         "xaxis": "x",
         "y": [
          32486.4
         ],
         "yaxis": "y"
        },
        {
         "hovertemplate": "<b>%{hovertext}</b><br><br>main_category=Appliances<br>avg_items_sold=%{x}<br>20% Profit=%{y}<br>no_of_products=%{marker.size}<extra></extra>",
         "hovertext": [
          "Appliances"
         ],
         "legendgroup": "Appliances",
         "marker": {
          "color": "#00cc96",
          "size": [
           97
          ],
          "sizemode": "area",
          "sizeref": 0.175,
          "symbol": "circle"
         },
         "mode": "markers",
         "name": "Appliances",
         "orientation": "v",
         "showlegend": true,
         "type": "scatter",
         "x": [
          44
         ],
         "xaxis": "x",
         "y": [
          23636.800000000003
         ],
         "yaxis": "y"
        },
        {
         "hovertemplate": "<b>%{hovertext}</b><br><br>main_category=Tablets & Accessories<br>avg_items_sold=%{x}<br>20% Profit=%{y}<br>no_of_products=%{marker.size}<extra></extra>",
         "hovertext": [
          "Tablets & Accessories"
         ],
         "legendgroup": "Tablets & Accessories",
         "marker": {
          "color": "#ab63fa",
          "size": [
           6
          ],
          "sizemode": "area",
          "sizeref": 0.175,
          "symbol": "circle"
         },
         "mode": "markers",
         "name": "Tablets & Accessories",
         "orientation": "v",
         "showlegend": true,
         "type": "scatter",
         "x": [
          26
         ],
         "xaxis": "x",
         "y": [
          17388.8
         ],
         "yaxis": "y"
        },
        {
         "hovertemplate": "<b>%{hovertext}</b><br><br>main_category=Computing<br>avg_items_sold=%{x}<br>20% Profit=%{y}<br>no_of_products=%{marker.size}<extra></extra>",
         "hovertext": [
          "Computing"
         ],
         "legendgroup": "Computing",
         "marker": {
          "color": "#FFA15A",
          "size": [
           160
          ],
          "sizemode": "area",
          "sizeref": 0.175,
          "symbol": "circle"
         },
         "mode": "markers",
         "name": "Computing",
         "orientation": "v",
         "showlegend": true,
         "type": "scatter",
         "x": [
          41
         ],
         "xaxis": "x",
         "y": [
          11521
         ],
         "yaxis": "y"
        },
        {
         "hovertemplate": "<b>%{hovertext}</b><br><br>main_category=Games & Consoles<br>avg_items_sold=%{x}<br>20% Profit=%{y}<br>no_of_products=%{marker.size}<extra></extra>",
         "hovertext": [
          "Games & Consoles"
         ],
         "legendgroup": "Games & Consoles",
         "marker": {
          "color": "#19d3f3",
          "size": [
           3
          ],
          "sizemode": "area",
          "sizeref": 0.175,
          "symbol": "circle"
         },
         "mode": "markers",
         "name": "Games & Consoles",
         "orientation": "v",
         "showlegend": true,
         "type": "scatter",
         "x": [
          20
         ],
         "xaxis": "x",
         "y": [
          11168
         ],
         "yaxis": "y"
        },
        {
         "hovertemplate": "<b>%{hovertext}</b><br><br>main_category=Food cupboard<br>avg_items_sold=%{x}<br>20% Profit=%{y}<br>no_of_products=%{marker.size}<extra></extra>",
         "hovertext": [
          "Food cupboard"
         ],
         "legendgroup": "Food cupboard",
         "marker": {
          "color": "#FF6692",
          "size": [
           547
          ],
          "sizemode": "area",
          "sizeref": 0.175,
          "symbol": "circle"
         },
         "mode": "markers",
         "name": "Food cupboard",
         "orientation": "v",
         "showlegend": true,
         "type": "scatter",
         "x": [
          110
         ],
         "xaxis": "x",
         "y": [
          9130
         ],
         "yaxis": "y"
        },
        {
         "hovertemplate": "<b>%{hovertext}</b><br><br>main_category=Unisex's accessories<br>avg_items_sold=%{x}<br>20% Profit=%{y}<br>no_of_products=%{marker.size}<extra></extra>",
         "hovertext": [
          "Unisex's accessories"
         ],
         "legendgroup": "Unisex's accessories",
         "marker": {
          "color": "#B6E880",
          "size": [
           15
          ],
          "sizemode": "area",
          "sizeref": 0.175,
          "symbol": "circle"
         },
         "mode": "markers",
         "name": "Unisex's accessories",
         "orientation": "v",
         "showlegend": true,
         "type": "scatter",
         "x": [
          45
         ],
         "xaxis": "x",
         "y": [
          8829
         ],
         "yaxis": "y"
        },
        {
         "hovertemplate": "<b>%{hovertext}</b><br><br>main_category=Laundry<br>avg_items_sold=%{x}<br>20% Profit=%{y}<br>no_of_products=%{marker.size}<extra></extra>",
         "hovertext": [
          "Laundry"
         ],
         "legendgroup": "Laundry",
         "marker": {
          "color": "#FF97FF",
          "size": [
           54
          ],
          "sizemode": "area",
          "sizeref": 0.175,
          "symbol": "circle"
         },
         "mode": "markers",
         "name": "Laundry",
         "orientation": "v",
         "showlegend": true,
         "type": "scatter",
         "x": [
          121
         ],
         "xaxis": "x",
         "y": [
          7961.8
         ],
         "yaxis": "y"
        },
        {
         "hovertemplate": "<b>%{hovertext}</b><br><br>main_category=Home<br>avg_items_sold=%{x}<br>20% Profit=%{y}<br>no_of_products=%{marker.size}<extra></extra>",
         "hovertext": [
          "Home"
         ],
         "legendgroup": "Home",
         "marker": {
          "color": "#FECB52",
          "size": [
           236
          ],
          "sizemode": "area",
          "sizeref": 0.175,
          "symbol": "circle"
         },
         "mode": "markers",
         "name": "Home",
         "orientation": "v",
         "showlegend": true,
         "type": "scatter",
         "x": [
          29
         ],
         "xaxis": "x",
         "y": [
          7841.6
         ],
         "yaxis": "y"
        },
        {
         "hovertemplate": "<b>%{hovertext}</b><br><br>main_category=Automotive & Motorcycles<br>avg_items_sold=%{x}<br>20% Profit=%{y}<br>no_of_products=%{marker.size}<extra></extra>",
         "hovertext": [
          "Automotive & Motorcycles"
         ],
         "legendgroup": "Automotive & Motorcycles",
         "marker": {
          "color": "#636efa",
          "size": [
           11
          ],
          "sizemode": "area",
          "sizeref": 0.175,
          "symbol": "circle"
         },
         "mode": "markers",
         "name": "Automotive & Motorcycles",
         "orientation": "v",
         "showlegend": true,
         "type": "scatter",
         "x": [
          36
         ],
         "xaxis": "x",
         "y": [
          7387.200000000001
         ],
         "yaxis": "y"
        },
        {
         "hovertemplate": "<b>%{hovertext}</b><br><br>main_category=Men's clothing<br>avg_items_sold=%{x}<br>20% Profit=%{y}<br>no_of_products=%{marker.size}<extra></extra>",
         "hovertext": [
          "Men's clothing"
         ],
         "legendgroup": "Men's clothing",
         "marker": {
          "color": "#EF553B",
          "size": [
           85
          ],
          "sizemode": "area",
          "sizeref": 0.175,
          "symbol": "circle"
         },
         "mode": "markers",
         "name": "Men's clothing",
         "orientation": "v",
         "showlegend": true,
         "type": "scatter",
         "x": [
          43
         ],
         "xaxis": "x",
         "y": [
          6802.6
         ],
         "yaxis": "y"
        },
        {
         "hovertemplate": "<b>%{hovertext}</b><br><br>main_category=Cameras & Accessories<br>avg_items_sold=%{x}<br>20% Profit=%{y}<br>no_of_products=%{marker.size}<extra></extra>",
         "hovertext": [
          "Cameras & Accessories"
         ],
         "legendgroup": "Cameras & Accessories",
         "marker": {
          "color": "#00cc96",
          "size": [
           16
          ],
          "sizemode": "area",
          "sizeref": 0.175,
          "symbol": "circle"
         },
         "mode": "markers",
         "name": "Cameras & Accessories",
         "orientation": "v",
         "showlegend": true,
         "type": "scatter",
         "x": [
          21
         ],
         "xaxis": "x",
         "y": [
          5892.6
         ],
         "yaxis": "y"
        },
        {
         "hovertemplate": "<b>%{hovertext}</b><br><br>main_category=Women's clothing<br>avg_items_sold=%{x}<br>20% Profit=%{y}<br>no_of_products=%{marker.size}<extra></extra>",
         "hovertext": [
          "Women's clothing"
         ],
         "legendgroup": "Women's clothing",
         "marker": {
          "color": "#ab63fa",
          "size": [
           62
          ],
          "sizemode": "area",
          "sizeref": 0.175,
          "symbol": "circle"
         },
         "mode": "markers",
         "name": "Women's clothing",
         "orientation": "v",
         "showlegend": true,
         "type": "scatter",
         "x": [
          51
         ],
         "xaxis": "x",
         "y": [
          5661
         ],
         "yaxis": "y"
        },
        {
         "hovertemplate": "<b>%{hovertext}</b><br><br>main_category=Adulte<br>avg_items_sold=%{x}<br>20% Profit=%{y}<br>no_of_products=%{marker.size}<extra></extra>",
         "hovertext": [
          "Adulte"
         ],
         "legendgroup": "Adulte",
         "marker": {
          "color": "#FFA15A",
          "size": [
           4
          ],
          "sizemode": "area",
          "sizeref": 0.175,
          "symbol": "circle"
         },
         "mode": "markers",
         "name": "Adulte",
         "orientation": "v",
         "showlegend": true,
         "type": "scatter",
         "x": [
          22
         ],
         "xaxis": "x",
         "y": [
          5420.8
         ],
         "yaxis": "y"
        },
        {
         "hovertemplate": "<b>%{hovertext}</b><br><br>main_category=Men's shoes<br>avg_items_sold=%{x}<br>20% Profit=%{y}<br>no_of_products=%{marker.size}<extra></extra>",
         "hovertext": [
          "Men's shoes"
         ],
         "legendgroup": "Men's shoes",
         "marker": {
          "color": "#19d3f3",
          "size": [
           63
          ],
          "sizemode": "area",
          "sizeref": 0.175,
          "symbol": "circle"
         },
         "mode": "markers",
         "name": "Men's shoes",
         "orientation": "v",
         "showlegend": true,
         "type": "scatter",
         "x": [
          27
         ],
         "xaxis": "x",
         "y": [
          5238
         ],
         "yaxis": "y"
        },
        {
         "hovertemplate": "<b>%{hovertext}</b><br><br>main_category=Tobacco<br>avg_items_sold=%{x}<br>20% Profit=%{y}<br>no_of_products=%{marker.size}<extra></extra>",
         "hovertext": [
          "Tobacco"
         ],
         "legendgroup": "Tobacco",
         "marker": {
          "color": "#FF6692",
          "size": [
           4
          ],
          "sizemode": "area",
          "sizeref": 0.175,
          "symbol": "circle"
         },
         "mode": "markers",
         "name": "Tobacco",
         "orientation": "v",
         "showlegend": true,
         "type": "scatter",
         "x": [
          32
         ],
         "xaxis": "x",
         "y": [
          5062.400000000001
         ],
         "yaxis": "y"
        },
        {
         "hovertemplate": "<b>%{hovertext}</b><br><br>main_category=Beauty & perfumes<br>avg_items_sold=%{x}<br>20% Profit=%{y}<br>no_of_products=%{marker.size}<extra></extra>",
         "hovertext": [
          "Beauty & perfumes"
         ],
         "legendgroup": "Beauty & perfumes",
         "marker": {
          "color": "#B6E880",
          "size": [
           630
          ],
          "sizemode": "area",
          "sizeref": 0.175,
          "symbol": "circle"
         },
         "mode": "markers",
         "name": "Beauty & perfumes",
         "orientation": "v",
         "showlegend": true,
         "type": "scatter",
         "x": [
          42
         ],
         "xaxis": "x",
         "y": [
          4804.8
         ],
         "yaxis": "y"
        },
        {
         "hovertemplate": "<b>%{hovertext}</b><br><br>main_category=Women's accessories<br>avg_items_sold=%{x}<br>20% Profit=%{y}<br>no_of_products=%{marker.size}<extra></extra>",
         "hovertext": [
          "Women's accessories"
         ],
         "legendgroup": "Women's accessories",
         "marker": {
          "color": "#FF97FF",
          "size": [
           156
          ],
          "sizemode": "area",
          "sizeref": 0.175,
          "symbol": "circle"
         },
         "mode": "markers",
         "name": "Women's accessories",
         "orientation": "v",
         "showlegend": true,
         "type": "scatter",
         "x": [
          39
         ],
         "xaxis": "x",
         "y": [
          4633.2
         ],
         "yaxis": "y"
        },
        {
         "hovertemplate": "<b>%{hovertext}</b><br><br>main_category=Men's accessories<br>avg_items_sold=%{x}<br>20% Profit=%{y}<br>no_of_products=%{marker.size}<extra></extra>",
         "hovertext": [
          "Men's accessories"
         ],
         "legendgroup": "Men's accessories",
         "marker": {
          "color": "#FECB52",
          "size": [
           93
          ],
          "sizemode": "area",
          "sizeref": 0.175,
          "symbol": "circle"
         },
         "mode": "markers",
         "name": "Men's accessories",
         "orientation": "v",
         "showlegend": true,
         "type": "scatter",
         "x": [
          42
         ],
         "xaxis": "x",
         "y": [
          4183.2
         ],
         "yaxis": "y"
        },
        {
         "hovertemplate": "<b>%{hovertext}</b><br><br>main_category=Sport & Fitness<br>avg_items_sold=%{x}<br>20% Profit=%{y}<br>no_of_products=%{marker.size}<extra></extra>",
         "hovertext": [
          "Sport & Fitness"
         ],
         "legendgroup": "Sport & Fitness",
         "marker": {
          "color": "#636efa",
          "size": [
           15
          ],
          "sizemode": "area",
          "sizeref": 0.175,
          "symbol": "circle"
         },
         "mode": "markers",
         "name": "Sport & Fitness",
         "orientation": "v",
         "showlegend": true,
         "type": "scatter",
         "x": [
          24
         ],
         "xaxis": "x",
         "y": [
          3950.4
         ],
         "yaxis": "y"
        },
        {
         "hovertemplate": "<b>%{hovertext}</b><br><br>main_category=Kids and Baby<br>avg_items_sold=%{x}<br>20% Profit=%{y}<br>no_of_products=%{marker.size}<extra></extra>",
         "hovertext": [
          "Kids and Baby"
         ],
         "legendgroup": "Kids and Baby",
         "marker": {
          "color": "#EF553B",
          "size": [
           37
          ],
          "sizemode": "area",
          "sizeref": 0.175,
          "symbol": "circle"
         },
         "mode": "markers",
         "name": "Kids and Baby",
         "orientation": "v",
         "showlegend": true,
         "type": "scatter",
         "x": [
          28
         ],
         "xaxis": "x",
         "y": [
          3925.6000000000004
         ],
         "yaxis": "y"
        },
        {
         "hovertemplate": "<b>%{hovertext}</b><br><br>main_category=Women's shoes<br>avg_items_sold=%{x}<br>20% Profit=%{y}<br>no_of_products=%{marker.size}<extra></extra>",
         "hovertext": [
          "Women's shoes"
         ],
         "legendgroup": "Women's shoes",
         "marker": {
          "color": "#00cc96",
          "size": [
           41
          ],
          "sizemode": "area",
          "sizeref": 0.175,
          "symbol": "circle"
         },
         "mode": "markers",
         "name": "Women's shoes",
         "orientation": "v",
         "showlegend": true,
         "type": "scatter",
         "x": [
          31
         ],
         "xaxis": "x",
         "y": [
          3304.6000000000004
         ],
         "yaxis": "y"
        },
        {
         "hovertemplate": "<b>%{hovertext}</b><br><br>main_category=Boys<br>avg_items_sold=%{x}<br>20% Profit=%{y}<br>no_of_products=%{marker.size}<extra></extra>",
         "hovertext": [
          "Boys"
         ],
         "legendgroup": "Boys",
         "marker": {
          "color": "#ab63fa",
          "size": [
           8
          ],
          "sizemode": "area",
          "sizeref": 0.175,
          "symbol": "circle"
         },
         "mode": "markers",
         "name": "Boys",
         "orientation": "v",
         "showlegend": true,
         "type": "scatter",
         "x": [
          22
         ],
         "xaxis": "x",
         "y": [
          2860
         ],
         "yaxis": "y"
        },
        {
         "hovertemplate": "<b>%{hovertext}</b><br><br>main_category=Household care<br>avg_items_sold=%{x}<br>20% Profit=%{y}<br>no_of_products=%{marker.size}<extra></extra>",
         "hovertext": [
          "Household care"
         ],
         "legendgroup": "Household care",
         "marker": {
          "color": "#FFA15A",
          "size": [
           165
          ],
          "sizemode": "area",
          "sizeref": 0.175,
          "symbol": "circle"
         },
         "mode": "markers",
         "name": "Household care",
         "orientation": "v",
         "showlegend": true,
         "type": "scatter",
         "x": [
          46
         ],
         "xaxis": "x",
         "y": [
          2741.6000000000004
         ],
         "yaxis": "y"
        },
        {
         "hovertemplate": "<b>%{hovertext}</b><br><br>main_category=Fashion<br>avg_items_sold=%{x}<br>20% Profit=%{y}<br>no_of_products=%{marker.size}<extra></extra>",
         "hovertext": [
          "Fashion"
         ],
         "legendgroup": "Fashion",
         "marker": {
          "color": "#19d3f3",
          "size": [
           4
          ],
          "sizemode": "area",
          "sizeref": 0.175,
          "symbol": "circle"
         },
         "mode": "markers",
         "name": "Fashion",
         "orientation": "v",
         "showlegend": true,
         "type": "scatter",
         "x": [
          27
         ],
         "xaxis": "x",
         "y": [
          2700
         ],
         "yaxis": "y"
        },
        {
         "hovertemplate": "<b>%{hovertext}</b><br><br>main_category=Books & Stationery<br>avg_items_sold=%{x}<br>20% Profit=%{y}<br>no_of_products=%{marker.size}<extra></extra>",
         "hovertext": [
          "Books & Stationery"
         ],
         "legendgroup": "Books & Stationery",
         "marker": {
          "color": "#FF6692",
          "size": [
           3
          ],
          "sizemode": "area",
          "sizeref": 0.175,
          "symbol": "circle"
         },
         "mode": "markers",
         "name": "Books & Stationery",
         "orientation": "v",
         "showlegend": true,
         "type": "scatter",
         "x": [
          15
         ],
         "xaxis": "x",
         "y": [
          2448
         ],
         "yaxis": "y"
        },
        {
         "hovertemplate": "<b>%{hovertext}</b><br><br>main_category=Beverages<br>avg_items_sold=%{x}<br>20% Profit=%{y}<br>no_of_products=%{marker.size}<extra></extra>",
         "hovertext": [
          "Beverages"
         ],
         "legendgroup": "Beverages",
         "marker": {
          "color": "#B6E880",
          "size": [
           4
          ],
          "sizemode": "area",
          "sizeref": 0.175,
          "symbol": "circle"
         },
         "mode": "markers",
         "name": "Beverages",
         "orientation": "v",
         "showlegend": true,
         "type": "scatter",
         "x": [
          22
         ],
         "xaxis": "x",
         "y": [
          2411.2000000000003
         ],
         "yaxis": "y"
        },
        {
         "hovertemplate": "<b>%{hovertext}</b><br><br>main_category=Girls<br>avg_items_sold=%{x}<br>20% Profit=%{y}<br>no_of_products=%{marker.size}<extra></extra>",
         "hovertext": [
          "Girls"
         ],
         "legendgroup": "Girls",
         "marker": {
          "color": "#FF97FF",
          "size": [
           1
          ],
          "sizemode": "area",
          "sizeref": 0.175,
          "symbol": "circle"
         },
         "mode": "markers",
         "name": "Girls",
         "orientation": "v",
         "showlegend": true,
         "type": "scatter",
         "x": [
          17
         ],
         "xaxis": "x",
         "y": [
          948.6
         ],
         "yaxis": "y"
        },
        {
         "hovertemplate": "<b>%{hovertext}</b><br><br>main_category=Musical Instruments<br>avg_items_sold=%{x}<br>20% Profit=%{y}<br>no_of_products=%{marker.size}<extra></extra>",
         "hovertext": [
          "Musical Instruments"
         ],
         "legendgroup": "Musical Instruments",
         "marker": {
          "color": "#FECB52",
          "size": [
           2
          ],
          "sizemode": "area",
          "sizeref": 0.175,
          "symbol": "circle"
         },
         "mode": "markers",
         "name": "Musical Instruments",
         "orientation": "v",
         "showlegend": true,
         "type": "scatter",
         "x": [
          17
         ],
         "xaxis": "x",
         "y": [
          710.6
         ],
         "yaxis": "y"
        }
       ],
       "layout": {
        "autosize": true,
        "legend": {
         "itemsizing": "constant",
         "title": {
          "text": "main_category"
         },
         "tracegroupgap": 0
        },
        "margin": {
         "t": 60
        },
        "template": {
         "data": {
          "bar": [
           {
            "error_x": {
             "color": "#2a3f5f"
            },
            "error_y": {
             "color": "#2a3f5f"
            },
            "marker": {
             "line": {
              "color": "#E5ECF6",
              "width": 0.5
             },
             "pattern": {
              "fillmode": "overlay",
              "size": 10,
              "solidity": 0.2
             }
            },
            "type": "bar"
           }
          ],
          "barpolar": [
           {
            "marker": {
             "line": {
              "color": "#E5ECF6",
              "width": 0.5
             },
             "pattern": {
              "fillmode": "overlay",
              "size": 10,
              "solidity": 0.2
             }
            },
            "type": "barpolar"
           }
          ],
          "carpet": [
           {
            "aaxis": {
             "endlinecolor": "#2a3f5f",
             "gridcolor": "white",
             "linecolor": "white",
             "minorgridcolor": "white",
             "startlinecolor": "#2a3f5f"
            },
            "baxis": {
             "endlinecolor": "#2a3f5f",
             "gridcolor": "white",
             "linecolor": "white",
             "minorgridcolor": "white",
             "startlinecolor": "#2a3f5f"
            },
            "type": "carpet"
           }
          ],
          "choropleth": [
           {
            "colorbar": {
             "outlinewidth": 0,
             "ticks": ""
            },
            "type": "choropleth"
           }
          ],
          "contour": [
           {
            "colorbar": {
             "outlinewidth": 0,
             "ticks": ""
            },
            "colorscale": [
             [
              0,
              "#0d0887"
             ],
             [
              0.1111111111111111,
              "#46039f"
             ],
             [
              0.2222222222222222,
              "#7201a8"
             ],
             [
              0.3333333333333333,
              "#9c179e"
             ],
             [
              0.4444444444444444,
              "#bd3786"
             ],
             [
              0.5555555555555556,
              "#d8576b"
             ],
             [
              0.6666666666666666,
              "#ed7953"
             ],
             [
              0.7777777777777778,
              "#fb9f3a"
             ],
             [
              0.8888888888888888,
              "#fdca26"
             ],
             [
              1,
              "#f0f921"
             ]
            ],
            "type": "contour"
           }
          ],
          "contourcarpet": [
           {
            "colorbar": {
             "outlinewidth": 0,
             "ticks": ""
            },
            "type": "contourcarpet"
           }
          ],
          "heatmap": [
           {
            "colorbar": {
             "outlinewidth": 0,
             "ticks": ""
            },
            "colorscale": [
             [
              0,
              "#0d0887"
             ],
             [
              0.1111111111111111,
              "#46039f"
             ],
             [
              0.2222222222222222,
              "#7201a8"
             ],
             [
              0.3333333333333333,
              "#9c179e"
             ],
             [
              0.4444444444444444,
              "#bd3786"
             ],
             [
              0.5555555555555556,
              "#d8576b"
             ],
             [
              0.6666666666666666,
              "#ed7953"
             ],
             [
              0.7777777777777778,
              "#fb9f3a"
             ],
             [
              0.8888888888888888,
              "#fdca26"
             ],
             [
              1,
              "#f0f921"
             ]
            ],
            "type": "heatmap"
           }
          ],
          "heatmapgl": [
           {
            "colorbar": {
             "outlinewidth": 0,
             "ticks": ""
            },
            "colorscale": [
             [
              0,
              "#0d0887"
             ],
             [
              0.1111111111111111,
              "#46039f"
             ],
             [
              0.2222222222222222,
              "#7201a8"
             ],
             [
              0.3333333333333333,
              "#9c179e"
             ],
             [
              0.4444444444444444,
              "#bd3786"
             ],
             [
              0.5555555555555556,
              "#d8576b"
             ],
             [
              0.6666666666666666,
              "#ed7953"
             ],
             [
              0.7777777777777778,
              "#fb9f3a"
             ],
             [
              0.8888888888888888,
              "#fdca26"
             ],
             [
              1,
              "#f0f921"
             ]
            ],
            "type": "heatmapgl"
           }
          ],
          "histogram": [
           {
            "marker": {
             "pattern": {
              "fillmode": "overlay",
              "size": 10,
              "solidity": 0.2
             }
            },
            "type": "histogram"
           }
          ],
          "histogram2d": [
           {
            "colorbar": {
             "outlinewidth": 0,
             "ticks": ""
            },
            "colorscale": [
             [
              0,
              "#0d0887"
             ],
             [
              0.1111111111111111,
              "#46039f"
             ],
             [
              0.2222222222222222,
              "#7201a8"
             ],
             [
              0.3333333333333333,
              "#9c179e"
             ],
             [
              0.4444444444444444,
              "#bd3786"
             ],
             [
              0.5555555555555556,
              "#d8576b"
             ],
             [
              0.6666666666666666,
              "#ed7953"
             ],
             [
              0.7777777777777778,
              "#fb9f3a"
             ],
             [
              0.8888888888888888,
              "#fdca26"
             ],
             [
              1,
              "#f0f921"
             ]
            ],
            "type": "histogram2d"
           }
          ],
          "histogram2dcontour": [
           {
            "colorbar": {
             "outlinewidth": 0,
             "ticks": ""
            },
            "colorscale": [
             [
              0,
              "#0d0887"
             ],
             [
              0.1111111111111111,
              "#46039f"
             ],
             [
              0.2222222222222222,
              "#7201a8"
             ],
             [
              0.3333333333333333,
              "#9c179e"
             ],
             [
              0.4444444444444444,
              "#bd3786"
             ],
             [
              0.5555555555555556,
              "#d8576b"
             ],
             [
              0.6666666666666666,
              "#ed7953"
             ],
             [
              0.7777777777777778,
              "#fb9f3a"
             ],
             [
              0.8888888888888888,
              "#fdca26"
             ],
             [
              1,
              "#f0f921"
             ]
            ],
            "type": "histogram2dcontour"
           }
          ],
          "mesh3d": [
           {
            "colorbar": {
             "outlinewidth": 0,
             "ticks": ""
            },
            "type": "mesh3d"
           }
          ],
          "parcoords": [
           {
            "line": {
             "colorbar": {
              "outlinewidth": 0,
              "ticks": ""
             }
            },
            "type": "parcoords"
           }
          ],
          "pie": [
           {
            "automargin": true,
            "type": "pie"
           }
          ],
          "scatter": [
           {
            "fillpattern": {
             "fillmode": "overlay",
             "size": 10,
             "solidity": 0.2
            },
            "type": "scatter"
           }
          ],
          "scatter3d": [
           {
            "line": {
             "colorbar": {
              "outlinewidth": 0,
              "ticks": ""
             }
            },
            "marker": {
             "colorbar": {
              "outlinewidth": 0,
              "ticks": ""
             }
            },
            "type": "scatter3d"
           }
          ],
          "scattercarpet": [
           {
            "marker": {
             "colorbar": {
              "outlinewidth": 0,
              "ticks": ""
             }
            },
            "type": "scattercarpet"
           }
          ],
          "scattergeo": [
           {
            "marker": {
             "colorbar": {
              "outlinewidth": 0,
              "ticks": ""
             }
            },
            "type": "scattergeo"
           }
          ],
          "scattergl": [
           {
            "marker": {
             "colorbar": {
              "outlinewidth": 0,
              "ticks": ""
             }
            },
            "type": "scattergl"
           }
          ],
          "scattermapbox": [
           {
            "marker": {
             "colorbar": {
              "outlinewidth": 0,
              "ticks": ""
             }
            },
            "type": "scattermapbox"
           }
          ],
          "scatterpolar": [
           {
            "marker": {
             "colorbar": {
              "outlinewidth": 0,
              "ticks": ""
             }
            },
            "type": "scatterpolar"
           }
          ],
          "scatterpolargl": [
           {
            "marker": {
             "colorbar": {
              "outlinewidth": 0,
              "ticks": ""
             }
            },
            "type": "scatterpolargl"
           }
          ],
          "scatterternary": [
           {
            "marker": {
             "colorbar": {
              "outlinewidth": 0,
              "ticks": ""
             }
            },
            "type": "scatterternary"
           }
          ],
          "surface": [
           {
            "colorbar": {
             "outlinewidth": 0,
             "ticks": ""
            },
            "colorscale": [
             [
              0,
              "#0d0887"
             ],
             [
              0.1111111111111111,
              "#46039f"
             ],
             [
              0.2222222222222222,
              "#7201a8"
             ],
             [
              0.3333333333333333,
              "#9c179e"
             ],
             [
              0.4444444444444444,
              "#bd3786"
             ],
             [
              0.5555555555555556,
              "#d8576b"
             ],
             [
              0.6666666666666666,
              "#ed7953"
             ],
             [
              0.7777777777777778,
              "#fb9f3a"
             ],
             [
              0.8888888888888888,
              "#fdca26"
             ],
             [
              1,
              "#f0f921"
             ]
            ],
            "type": "surface"
           }
          ],
          "table": [
           {
            "cells": {
             "fill": {
              "color": "#EBF0F8"
             },
             "line": {
              "color": "white"
             }
            },
            "header": {
             "fill": {
              "color": "#C8D4E3"
             },
             "line": {
              "color": "white"
             }
            },
            "type": "table"
           }
          ]
         },
         "layout": {
          "annotationdefaults": {
           "arrowcolor": "#2a3f5f",
           "arrowhead": 0,
           "arrowwidth": 1
          },
          "autotypenumbers": "strict",
          "coloraxis": {
           "colorbar": {
            "outlinewidth": 0,
            "ticks": ""
           }
          },
          "colorscale": {
           "diverging": [
            [
             0,
             "#8e0152"
            ],
            [
             0.1,
             "#c51b7d"
            ],
            [
             0.2,
             "#de77ae"
            ],
            [
             0.3,
             "#f1b6da"
            ],
            [
             0.4,
             "#fde0ef"
            ],
            [
             0.5,
             "#f7f7f7"
            ],
            [
             0.6,
             "#e6f5d0"
            ],
            [
             0.7,
             "#b8e186"
            ],
            [
             0.8,
             "#7fbc41"
            ],
            [
             0.9,
             "#4d9221"
            ],
            [
             1,
             "#276419"
            ]
           ],
           "sequential": [
            [
             0,
             "#0d0887"
            ],
            [
             0.1111111111111111,
             "#46039f"
            ],
            [
             0.2222222222222222,
             "#7201a8"
            ],
            [
             0.3333333333333333,
             "#9c179e"
            ],
            [
             0.4444444444444444,
             "#bd3786"
            ],
            [
             0.5555555555555556,
             "#d8576b"
            ],
            [
             0.6666666666666666,
             "#ed7953"
            ],
            [
             0.7777777777777778,
             "#fb9f3a"
            ],
            [
             0.8888888888888888,
             "#fdca26"
            ],
            [
             1,
             "#f0f921"
            ]
           ],
           "sequentialminus": [
            [
             0,
             "#0d0887"
            ],
            [
             0.1111111111111111,
             "#46039f"
            ],
            [
             0.2222222222222222,
             "#7201a8"
            ],
            [
             0.3333333333333333,
             "#9c179e"
            ],
            [
             0.4444444444444444,
             "#bd3786"
            ],
            [
             0.5555555555555556,
             "#d8576b"
            ],
            [
             0.6666666666666666,
             "#ed7953"
            ],
            [
             0.7777777777777778,
             "#fb9f3a"
            ],
            [
             0.8888888888888888,
             "#fdca26"
            ],
            [
             1,
             "#f0f921"
            ]
           ]
          },
          "colorway": [
           "#636efa",
           "#EF553B",
           "#00cc96",
           "#ab63fa",
           "#FFA15A",
           "#19d3f3",
           "#FF6692",
           "#B6E880",
           "#FF97FF",
           "#FECB52"
          ],
          "font": {
           "color": "#2a3f5f"
          },
          "geo": {
           "bgcolor": "white",
           "lakecolor": "white",
           "landcolor": "#E5ECF6",
           "showlakes": true,
           "showland": true,
           "subunitcolor": "white"
          },
          "hoverlabel": {
           "align": "left"
          },
          "hovermode": "closest",
          "mapbox": {
           "style": "light"
          },
          "paper_bgcolor": "white",
          "plot_bgcolor": "#E5ECF6",
          "polar": {
           "angularaxis": {
            "gridcolor": "white",
            "linecolor": "white",
            "ticks": ""
           },
           "bgcolor": "#E5ECF6",
           "radialaxis": {
            "gridcolor": "white",
            "linecolor": "white",
            "ticks": ""
           }
          },
          "scene": {
           "xaxis": {
            "backgroundcolor": "#E5ECF6",
            "gridcolor": "white",
            "gridwidth": 2,
            "linecolor": "white",
            "showbackground": true,
            "ticks": "",
            "zerolinecolor": "white"
           },
           "yaxis": {
            "backgroundcolor": "#E5ECF6",
            "gridcolor": "white",
            "gridwidth": 2,
            "linecolor": "white",
            "showbackground": true,
            "ticks": "",
            "zerolinecolor": "white"
           },
           "zaxis": {
            "backgroundcolor": "#E5ECF6",
            "gridcolor": "white",
            "gridwidth": 2,
            "linecolor": "white",
            "showbackground": true,
            "ticks": "",
            "zerolinecolor": "white"
           }
          },
          "shapedefaults": {
           "line": {
            "color": "#2a3f5f"
           }
          },
          "ternary": {
           "aaxis": {
            "gridcolor": "white",
            "linecolor": "white",
            "ticks": ""
           },
           "baxis": {
            "gridcolor": "white",
            "linecolor": "white",
            "ticks": ""
           },
           "bgcolor": "#E5ECF6",
           "caxis": {
            "gridcolor": "white",
            "linecolor": "white",
            "ticks": ""
           }
          },
          "title": {
           "x": 0.05
          },
          "xaxis": {
           "automargin": true,
           "gridcolor": "white",
           "linecolor": "white",
           "ticks": "",
           "title": {
            "standoff": 15
           },
           "zerolinecolor": "white",
           "zerolinewidth": 2
          },
          "yaxis": {
           "automargin": true,
           "gridcolor": "white",
           "linecolor": "white",
           "ticks": "",
           "title": {
            "standoff": 15
           },
           "zerolinecolor": "white",
           "zerolinewidth": 2
          }
         }
        },
        "xaxis": {
         "anchor": "y",
         "autorange": true,
         "domain": [
          0,
          1
         ],
         "range": [
          8.497245764728486,
          129.04430908512677
         ],
         "title": {
          "text": "avg_items_sold"
         },
         "type": "linear"
        },
        "yaxis": {
         "anchor": "x",
         "autorange": true,
         "domain": [
          0,
          1
         ],
         "range": [
          -14814.678987059298,
          59051.10457214894
         ],
         "title": {
          "text": "20% Profit"
         },
         "type": "linear"
        }
       }
      },
      "image/png": "[encoded data removed]",
      "text/html": [
       "<div>                            <div id=\"f0b15dbc-c2a3-498a-8d28-83bdec541f1a\" class=\"plotly-graph-div\" style=\"height:525px; width:100%;\"></div>            <script type=\"text/javascript\">                require([\"plotly\"], function(Plotly) {                    window.PLOTLYENV=window.PLOTLYENV || {};                                    if (document.getElementById(\"f0b15dbc-c2a3-498a-8d28-83bdec541f1a\")) {                    Plotly.newPlot(                        \"f0b15dbc-c2a3-498a-8d28-83bdec541f1a\",                        [{\"hovertemplate\":\"\\u003cb\\u003e%{hovertext}\\u003c\\u002fb\\u003e\\u003cbr\\u003e\\u003cbr\\u003emain_category=Phones\\u003cbr\\u003eavg_items_sold=%{x}\\u003cbr\\u003e20% Profit=%{y}\\u003cbr\\u003eno_of_products=%{marker.size}\\u003cextra\\u003e\\u003c\\u002fextra\\u003e\",\"hovertext\":[\"Phones\"],\"legendgroup\":\"Phones\",\"marker\":{\"color\":\"#636efa\",\"size\":[286],\"sizemode\":\"area\",\"sizeref\":0.175,\"symbol\":\"circle\"},\"mode\":\"markers\",\"name\":\"Phones\",\"orientation\":\"v\",\"showlegend\":true,\"x\":[38],\"xaxis\":\"x\",\"y\":[44627.200000000004],\"yaxis\":\"y\",\"type\":\"scatter\"},{\"hovertemplate\":\"\\u003cb\\u003e%{hovertext}\\u003c\\u002fb\\u003e\\u003cbr\\u003e\\u003cbr\\u003emain_category=TVs, Audio and Video\\u003cbr\\u003eavg_items_sold=%{x}\\u003cbr\\u003e20% Profit=%{y}\\u003cbr\\u003eno_of_products=%{marker.size}\\u003cextra\\u003e\\u003c\\u002fextra\\u003e\",\"hovertext\":[\"TVs, Audio and Video\"],\"legendgroup\":\"TVs, Audio and Video\",\"marker\":{\"color\":\"#EF553B\",\"size\":[191],\"sizemode\":\"area\",\"sizeref\":0.175,\"symbol\":\"circle\"},\"mode\":\"markers\",\"name\":\"TVs, Audio and Video\",\"orientation\":\"v\",\"showlegend\":true,\"x\":[36],\"xaxis\":\"x\",\"y\":[32486.4],\"yaxis\":\"y\",\"type\":\"scatter\"},{\"hovertemplate\":\"\\u003cb\\u003e%{hovertext}\\u003c\\u002fb\\u003e\\u003cbr\\u003e\\u003cbr\\u003emain_category=Appliances\\u003cbr\\u003eavg_items_sold=%{x}\\u003cbr\\u003e20% Profit=%{y}\\u003cbr\\u003eno_of_products=%{marker.size}\\u003cextra\\u003e\\u003c\\u002fextra\\u003e\",\"hovertext\":[\"Appliances\"],\"legendgroup\":\"Appliances\",\"marker\":{\"color\":\"#00cc96\",\"size\":[97],\"sizemode\":\"area\",\"sizeref\":0.175,\"symbol\":\"circle\"},\"mode\":\"markers\",\"name\":\"Appliances\",\"orientation\":\"v\",\"showlegend\":true,\"x\":[44],\"xaxis\":\"x\",\"y\":[23636.800000000003],\"yaxis\":\"y\",\"type\":\"scatter\"},{\"hovertemplate\":\"\\u003cb\\u003e%{hovertext}\\u003c\\u002fb\\u003e\\u003cbr\\u003e\\u003cbr\\u003emain_category=Tablets & Accessories\\u003cbr\\u003eavg_items_sold=%{x}\\u003cbr\\u003e20% Profit=%{y}\\u003cbr\\u003eno_of_products=%{marker.size}\\u003cextra\\u003e\\u003c\\u002fextra\\u003e\",\"hovertext\":[\"Tablets & Accessories\"],\"legendgroup\":\"Tablets & Accessories\",\"marker\":{\"color\":\"#ab63fa\",\"size\":[6],\"sizemode\":\"area\",\"sizeref\":0.175,\"symbol\":\"circle\"},\"mode\":\"markers\",\"name\":\"Tablets & Accessories\",\"orientation\":\"v\",\"showlegend\":true,\"x\":[26],\"xaxis\":\"x\",\"y\":[17388.8],\"yaxis\":\"y\",\"type\":\"scatter\"},{\"hovertemplate\":\"\\u003cb\\u003e%{hovertext}\\u003c\\u002fb\\u003e\\u003cbr\\u003e\\u003cbr\\u003emain_category=Computing\\u003cbr\\u003eavg_items_sold=%{x}\\u003cbr\\u003e20% Profit=%{y}\\u003cbr\\u003eno_of_products=%{marker.size}\\u003cextra\\u003e\\u003c\\u002fextra\\u003e\",\"hovertext\":[\"Computing\"],\"legendgroup\":\"Computing\",\"marker\":{\"color\":\"#FFA15A\",\"size\":[160],\"sizemode\":\"area\",\"sizeref\":0.175,\"symbol\":\"circle\"},\"mode\":\"markers\",\"name\":\"Computing\",\"orientation\":\"v\",\"showlegend\":true,\"x\":[41],\"xaxis\":\"x\",\"y\":[11521.0],\"yaxis\":\"y\",\"type\":\"scatter\"},{\"hovertemplate\":\"\\u003cb\\u003e%{hovertext}\\u003c\\u002fb\\u003e\\u003cbr\\u003e\\u003cbr\\u003emain_category=Games & Consoles\\u003cbr\\u003eavg_items_sold=%{x}\\u003cbr\\u003e20% Profit=%{y}\\u003cbr\\u003eno_of_products=%{marker.size}\\u003cextra\\u003e\\u003c\\u002fextra\\u003e\",\"hovertext\":[\"Games & Consoles\"],\"legendgroup\":\"Games & Consoles\",\"marker\":{\"color\":\"#19d3f3\",\"size\":[3],\"sizemode\":\"area\",\"sizeref\":0.175,\"symbol\":\"circle\"},\"mode\":\"markers\",\"name\":\"Games & Consoles\",\"orientation\":\"v\",\"showlegend\":true,\"x\":[20],\"xaxis\":\"x\",\"y\":[11168.0],\"yaxis\":\"y\",\"type\":\"scatter\"},{\"hovertemplate\":\"\\u003cb\\u003e%{hovertext}\\u003c\\u002fb\\u003e\\u003cbr\\u003e\\u003cbr\\u003emain_category=Food cupboard\\u003cbr\\u003eavg_items_sold=%{x}\\u003cbr\\u003e20% Profit=%{y}\\u003cbr\\u003eno_of_products=%{marker.size}\\u003cextra\\u003e\\u003c\\u002fextra\\u003e\",\"hovertext\":[\"Food cupboard\"],\"legendgroup\":\"Food cupboard\",\"marker\":{\"color\":\"#FF6692\",\"size\":[547],\"sizemode\":\"area\",\"sizeref\":0.175,\"symbol\":\"circle\"},\"mode\":\"markers\",\"name\":\"Food cupboard\",\"orientation\":\"v\",\"showlegend\":true,\"x\":[110],\"xaxis\":\"x\",\"y\":[9130.0],\"yaxis\":\"y\",\"type\":\"scatter\"},{\"hovertemplate\":\"\\u003cb\\u003e%{hovertext}\\u003c\\u002fb\\u003e\\u003cbr\\u003e\\u003cbr\\u003emain_category=Unisex's accessories\\u003cbr\\u003eavg_items_sold=%{x}\\u003cbr\\u003e20% Profit=%{y}\\u003cbr\\u003eno_of_products=%{marker.size}\\u003cextra\\u003e\\u003c\\u002fextra\\u003e\",\"hovertext\":[\"Unisex's accessories\"],\"legendgroup\":\"Unisex's accessories\",\"marker\":{\"color\":\"#B6E880\",\"size\":[15],\"sizemode\":\"area\",\"sizeref\":0.175,\"symbol\":\"circle\"},\"mode\":\"markers\",\"name\":\"Unisex's accessories\",\"orientation\":\"v\",\"showlegend\":true,\"x\":[45],\"xaxis\":\"x\",\"y\":[8829.0],\"yaxis\":\"y\",\"type\":\"scatter\"},{\"hovertemplate\":\"\\u003cb\\u003e%{hovertext}\\u003c\\u002fb\\u003e\\u003cbr\\u003e\\u003cbr\\u003emain_category=Laundry\\u003cbr\\u003eavg_items_sold=%{x}\\u003cbr\\u003e20% Profit=%{y}\\u003cbr\\u003eno_of_products=%{marker.size}\\u003cextra\\u003e\\u003c\\u002fextra\\u003e\",\"hovertext\":[\"Laundry\"],\"legendgroup\":\"Laundry\",\"marker\":{\"color\":\"#FF97FF\",\"size\":[54],\"sizemode\":\"area\",\"sizeref\":0.175,\"symbol\":\"circle\"},\"mode\":\"markers\",\"name\":\"Laundry\",\"orientation\":\"v\",\"showlegend\":true,\"x\":[121],\"xaxis\":\"x\",\"y\":[7961.8],\"yaxis\":\"y\",\"type\":\"scatter\"},{\"hovertemplate\":\"\\u003cb\\u003e%{hovertext}\\u003c\\u002fb\\u003e\\u003cbr\\u003e\\u003cbr\\u003emain_category=Home\\u003cbr\\u003eavg_items_sold=%{x}\\u003cbr\\u003e20% Profit=%{y}\\u003cbr\\u003eno_of_products=%{marker.size}\\u003cextra\\u003e\\u003c\\u002fextra\\u003e\",\"hovertext\":[\"Home\"],\"legendgroup\":\"Home\",\"marker\":{\"color\":\"#FECB52\",\"size\":[236],\"sizemode\":\"area\",\"sizeref\":0.175,\"symbol\":\"circle\"},\"mode\":\"markers\",\"name\":\"Home\",\"orientation\":\"v\",\"showlegend\":true,\"x\":[29],\"xaxis\":\"x\",\"y\":[7841.6],\"yaxis\":\"y\",\"type\":\"scatter\"},{\"hovertemplate\":\"\\u003cb\\u003e%{hovertext}\\u003c\\u002fb\\u003e\\u003cbr\\u003e\\u003cbr\\u003emain_category=Automotive & Motorcycles\\u003cbr\\u003eavg_items_sold=%{x}\\u003cbr\\u003e20% Profit=%{y}\\u003cbr\\u003eno_of_products=%{marker.size}\\u003cextra\\u003e\\u003c\\u002fextra\\u003e\",\"hovertext\":[\"Automotive & Motorcycles\"],\"legendgroup\":\"Automotive & Motorcycles\",\"marker\":{\"color\":\"#636efa\",\"size\":[11],\"sizemode\":\"area\",\"sizeref\":0.175,\"symbol\":\"circle\"},\"mode\":\"markers\",\"name\":\"Automotive & Motorcycles\",\"orientation\":\"v\",\"showlegend\":true,\"x\":[36],\"xaxis\":\"x\",\"y\":[7387.200000000001],\"yaxis\":\"y\",\"type\":\"scatter\"},{\"hovertemplate\":\"\\u003cb\\u003e%{hovertext}\\u003c\\u002fb\\u003e\\u003cbr\\u003e\\u003cbr\\u003emain_category=Men's clothing\\u003cbr\\u003eavg_items_sold=%{x}\\u003cbr\\u003e20% Profit=%{y}\\u003cbr\\u003eno_of_products=%{marker.size}\\u003cextra\\u003e\\u003c\\u002fextra\\u003e\",\"hovertext\":[\"Men's clothing\"],\"legendgroup\":\"Men's clothing\",\"marker\":{\"color\":\"#EF553B\",\"size\":[85],\"sizemode\":\"area\",\"sizeref\":0.175,\"symbol\":\"circle\"},\"mode\":\"markers\",\"name\":\"Men's clothing\",\"orientation\":\"v\",\"showlegend\":true,\"x\":[43],\"xaxis\":\"x\",\"y\":[6802.6],\"yaxis\":\"y\",\"type\":\"scatter\"},{\"hovertemplate\":\"\\u003cb\\u003e%{hovertext}\\u003c\\u002fb\\u003e\\u003cbr\\u003e\\u003cbr\\u003emain_category=Cameras & Accessories\\u003cbr\\u003eavg_items_sold=%{x}\\u003cbr\\u003e20% Profit=%{y}\\u003cbr\\u003eno_of_products=%{marker.size}\\u003cextra\\u003e\\u003c\\u002fextra\\u003e\",\"hovertext\":[\"Cameras & Accessories\"],\"legendgroup\":\"Cameras & Accessories\",\"marker\":{\"color\":\"#00cc96\",\"size\":[16],\"sizemode\":\"area\",\"sizeref\":0.175,\"symbol\":\"circle\"},\"mode\":\"markers\",\"name\":\"Cameras & Accessories\",\"orientation\":\"v\",\"showlegend\":true,\"x\":[21],\"xaxis\":\"x\",\"y\":[5892.6],\"yaxis\":\"y\",\"type\":\"scatter\"},{\"hovertemplate\":\"\\u003cb\\u003e%{hovertext}\\u003c\\u002fb\\u003e\\u003cbr\\u003e\\u003cbr\\u003emain_category=Women's clothing\\u003cbr\\u003eavg_items_sold=%{x}\\u003cbr\\u003e20% Profit=%{y}\\u003cbr\\u003eno_of_products=%{marker.size}\\u003cextra\\u003e\\u003c\\u002fextra\\u003e\",\"hovertext\":[\"Women's clothing\"],\"legendgroup\":\"Women's clothing\",\"marker\":{\"color\":\"#ab63fa\",\"size\":[62],\"sizemode\":\"area\",\"sizeref\":0.175,\"symbol\":\"circle\"},\"mode\":\"markers\",\"name\":\"Women's clothing\",\"orientation\":\"v\",\"showlegend\":true,\"x\":[51],\"xaxis\":\"x\",\"y\":[5661.0],\"yaxis\":\"y\",\"type\":\"scatter\"},{\"hovertemplate\":\"\\u003cb\\u003e%{hovertext}\\u003c\\u002fb\\u003e\\u003cbr\\u003e\\u003cbr\\u003emain_category=Adulte\\u003cbr\\u003eavg_items_sold=%{x}\\u003cbr\\u003e20% Profit=%{y}\\u003cbr\\u003eno_of_products=%{marker.size}\\u003cextra\\u003e\\u003c\\u002fextra\\u003e\",\"hovertext\":[\"Adulte\"],\"legendgroup\":\"Adulte\",\"marker\":{\"color\":\"#FFA15A\",\"size\":[4],\"sizemode\":\"area\",\"sizeref\":0.175,\"symbol\":\"circle\"},\"mode\":\"markers\",\"name\":\"Adulte\",\"orientation\":\"v\",\"showlegend\":true,\"x\":[22],\"xaxis\":\"x\",\"y\":[5420.8],\"yaxis\":\"y\",\"type\":\"scatter\"},{\"hovertemplate\":\"\\u003cb\\u003e%{hovertext}\\u003c\\u002fb\\u003e\\u003cbr\\u003e\\u003cbr\\u003emain_category=Men's shoes\\u003cbr\\u003eavg_items_sold=%{x}\\u003cbr\\u003e20% Profit=%{y}\\u003cbr\\u003eno_of_products=%{marker.size}\\u003cextra\\u003e\\u003c\\u002fextra\\u003e\",\"hovertext\":[\"Men's shoes\"],\"legendgroup\":\"Men's shoes\",\"marker\":{\"color\":\"#19d3f3\",\"size\":[63],\"sizemode\":\"area\",\"sizeref\":0.175,\"symbol\":\"circle\"},\"mode\":\"markers\",\"name\":\"Men's shoes\",\"orientation\":\"v\",\"showlegend\":true,\"x\":[27],\"xaxis\":\"x\",\"y\":[5238.0],\"yaxis\":\"y\",\"type\":\"scatter\"},{\"hovertemplate\":\"\\u003cb\\u003e%{hovertext}\\u003c\\u002fb\\u003e\\u003cbr\\u003e\\u003cbr\\u003emain_category=Tobacco\\u003cbr\\u003eavg_items_sold=%{x}\\u003cbr\\u003e20% Profit=%{y}\\u003cbr\\u003eno_of_products=%{marker.size}\\u003cextra\\u003e\\u003c\\u002fextra\\u003e\",\"hovertext\":[\"Tobacco\"],\"legendgroup\":\"Tobacco\",\"marker\":{\"color\":\"#FF6692\",\"size\":[4],\"sizemode\":\"area\",\"sizeref\":0.175,\"symbol\":\"circle\"},\"mode\":\"markers\",\"name\":\"Tobacco\",\"orientation\":\"v\",\"showlegend\":true,\"x\":[32],\"xaxis\":\"x\",\"y\":[5062.400000000001],\"yaxis\":\"y\",\"type\":\"scatter\"},{\"hovertemplate\":\"\\u003cb\\u003e%{hovertext}\\u003c\\u002fb\\u003e\\u003cbr\\u003e\\u003cbr\\u003emain_category=Beauty & perfumes\\u003cbr\\u003eavg_items_sold=%{x}\\u003cbr\\u003e20% Profit=%{y}\\u003cbr\\u003eno_of_products=%{marker.size}\\u003cextra\\u003e\\u003c\\u002fextra\\u003e\",\"hovertext\":[\"Beauty & perfumes\"],\"legendgroup\":\"Beauty & perfumes\",\"marker\":{\"color\":\"#B6E880\",\"size\":[630],\"sizemode\":\"area\",\"sizeref\":0.175,\"symbol\":\"circle\"},\"mode\":\"markers\",\"name\":\"Beauty & perfumes\",\"orientation\":\"v\",\"showlegend\":true,\"x\":[42],\"xaxis\":\"x\",\"y\":[4804.8],\"yaxis\":\"y\",\"type\":\"scatter\"},{\"hovertemplate\":\"\\u003cb\\u003e%{hovertext}\\u003c\\u002fb\\u003e\\u003cbr\\u003e\\u003cbr\\u003emain_category=Women's accessories\\u003cbr\\u003eavg_items_sold=%{x}\\u003cbr\\u003e20% Profit=%{y}\\u003cbr\\u003eno_of_products=%{marker.size}\\u003cextra\\u003e\\u003c\\u002fextra\\u003e\",\"hovertext\":[\"Women's accessories\"],\"legendgroup\":\"Women's accessories\",\"marker\":{\"color\":\"#FF97FF\",\"size\":[156],\"sizemode\":\"area\",\"sizeref\":0.175,\"symbol\":\"circle\"},\"mode\":\"markers\",\"name\":\"Women's accessories\",\"orientation\":\"v\",\"showlegend\":true,\"x\":[39],\"xaxis\":\"x\",\"y\":[4633.2],\"yaxis\":\"y\",\"type\":\"scatter\"},{\"hovertemplate\":\"\\u003cb\\u003e%{hovertext}\\u003c\\u002fb\\u003e\\u003cbr\\u003e\\u003cbr\\u003emain_category=Men's accessories\\u003cbr\\u003eavg_items_sold=%{x}\\u003cbr\\u003e20% Profit=%{y}\\u003cbr\\u003eno_of_products=%{marker.size}\\u003cextra\\u003e\\u003c\\u002fextra\\u003e\",\"hovertext\":[\"Men's accessories\"],\"legendgroup\":\"Men's accessories\",\"marker\":{\"color\":\"#FECB52\",\"size\":[93],\"sizemode\":\"area\",\"sizeref\":0.175,\"symbol\":\"circle\"},\"mode\":\"markers\",\"name\":\"Men's accessories\",\"orientation\":\"v\",\"showlegend\":true,\"x\":[42],\"xaxis\":\"x\",\"y\":[4183.2],\"yaxis\":\"y\",\"type\":\"scatter\"},{\"hovertemplate\":\"\\u003cb\\u003e%{hovertext}\\u003c\\u002fb\\u003e\\u003cbr\\u003e\\u003cbr\\u003emain_category=Sport & Fitness\\u003cbr\\u003eavg_items_sold=%{x}\\u003cbr\\u003e20% Profit=%{y}\\u003cbr\\u003eno_of_products=%{marker.size}\\u003cextra\\u003e\\u003c\\u002fextra\\u003e\",\"hovertext\":[\"Sport & Fitness\"],\"legendgroup\":\"Sport & Fitness\",\"marker\":{\"color\":\"#636efa\",\"size\":[15],\"sizemode\":\"area\",\"sizeref\":0.175,\"symbol\":\"circle\"},\"mode\":\"markers\",\"name\":\"Sport & Fitness\",\"orientation\":\"v\",\"showlegend\":true,\"x\":[24],\"xaxis\":\"x\",\"y\":[3950.4],\"yaxis\":\"y\",\"type\":\"scatter\"},{\"hovertemplate\":\"\\u003cb\\u003e%{hovertext}\\u003c\\u002fb\\u003e\\u003cbr\\u003e\\u003cbr\\u003emain_category=Kids and Baby\\u003cbr\\u003eavg_items_sold=%{x}\\u003cbr\\u003e20% Profit=%{y}\\u003cbr\\u003eno_of_products=%{marker.size}\\u003cextra\\u003e\\u003c\\u002fextra\\u003e\",\"hovertext\":[\"Kids and Baby\"],\"legendgroup\":\"Kids and Baby\",\"marker\":{\"color\":\"#EF553B\",\"size\":[37],\"sizemode\":\"area\",\"sizeref\":0.175,\"symbol\":\"circle\"},\"mode\":\"markers\",\"name\":\"Kids and Baby\",\"orientation\":\"v\",\"showlegend\":true,\"x\":[28],\"xaxis\":\"x\",\"y\":[3925.6000000000004],\"yaxis\":\"y\",\"type\":\"scatter\"},{\"hovertemplate\":\"\\u003cb\\u003e%{hovertext}\\u003c\\u002fb\\u003e\\u003cbr\\u003e\\u003cbr\\u003emain_category=Women's shoes\\u003cbr\\u003eavg_items_sold=%{x}\\u003cbr\\u003e20% Profit=%{y}\\u003cbr\\u003eno_of_products=%{marker.size}\\u003cextra\\u003e\\u003c\\u002fextra\\u003e\",\"hovertext\":[\"Women's shoes\"],\"legendgroup\":\"Women's shoes\",\"marker\":{\"color\":\"#00cc96\",\"size\":[41],\"sizemode\":\"area\",\"sizeref\":0.175,\"symbol\":\"circle\"},\"mode\":\"markers\",\"name\":\"Women's shoes\",\"orientation\":\"v\",\"showlegend\":true,\"x\":[31],\"xaxis\":\"x\",\"y\":[3304.6000000000004],\"yaxis\":\"y\",\"type\":\"scatter\"},{\"hovertemplate\":\"\\u003cb\\u003e%{hovertext}\\u003c\\u002fb\\u003e\\u003cbr\\u003e\\u003cbr\\u003emain_category=Boys\\u003cbr\\u003eavg_items_sold=%{x}\\u003cbr\\u003e20% Profit=%{y}\\u003cbr\\u003eno_of_products=%{marker.size}\\u003cextra\\u003e\\u003c\\u002fextra\\u003e\",\"hovertext\":[\"Boys\"],\"legendgroup\":\"Boys\",\"marker\":{\"color\":\"#ab63fa\",\"size\":[8],\"sizemode\":\"area\",\"sizeref\":0.175,\"symbol\":\"circle\"},\"mode\":\"markers\",\"name\":\"Boys\",\"orientation\":\"v\",\"showlegend\":true,\"x\":[22],\"xaxis\":\"x\",\"y\":[2860.0],\"yaxis\":\"y\",\"type\":\"scatter\"},{\"hovertemplate\":\"\\u003cb\\u003e%{hovertext}\\u003c\\u002fb\\u003e\\u003cbr\\u003e\\u003cbr\\u003emain_category=Household care\\u003cbr\\u003eavg_items_sold=%{x}\\u003cbr\\u003e20% Profit=%{y}\\u003cbr\\u003eno_of_products=%{marker.size}\\u003cextra\\u003e\\u003c\\u002fextra\\u003e\",\"hovertext\":[\"Household care\"],\"legendgroup\":\"Household care\",\"marker\":{\"color\":\"#FFA15A\",\"size\":[165],\"sizemode\":\"area\",\"sizeref\":0.175,\"symbol\":\"circle\"},\"mode\":\"markers\",\"name\":\"Household care\",\"orientation\":\"v\",\"showlegend\":true,\"x\":[46],\"xaxis\":\"x\",\"y\":[2741.6000000000004],\"yaxis\":\"y\",\"type\":\"scatter\"},{\"hovertemplate\":\"\\u003cb\\u003e%{hovertext}\\u003c\\u002fb\\u003e\\u003cbr\\u003e\\u003cbr\\u003emain_category=Fashion\\u003cbr\\u003eavg_items_sold=%{x}\\u003cbr\\u003e20% Profit=%{y}\\u003cbr\\u003eno_of_products=%{marker.size}\\u003cextra\\u003e\\u003c\\u002fextra\\u003e\",\"hovertext\":[\"Fashion\"],\"legendgroup\":\"Fashion\",\"marker\":{\"color\":\"#19d3f3\",\"size\":[4],\"sizemode\":\"area\",\"sizeref\":0.175,\"symbol\":\"circle\"},\"mode\":\"markers\",\"name\":\"Fashion\",\"orientation\":\"v\",\"showlegend\":true,\"x\":[27],\"xaxis\":\"x\",\"y\":[2700.0],\"yaxis\":\"y\",\"type\":\"scatter\"},{\"hovertemplate\":\"\\u003cb\\u003e%{hovertext}\\u003c\\u002fb\\u003e\\u003cbr\\u003e\\u003cbr\\u003emain_category=Books & Stationery\\u003cbr\\u003eavg_items_sold=%{x}\\u003cbr\\u003e20% Profit=%{y}\\u003cbr\\u003eno_of_products=%{marker.size}\\u003cextra\\u003e\\u003c\\u002fextra\\u003e\",\"hovertext\":[\"Books & Stationery\"],\"legendgroup\":\"Books & Stationery\",\"marker\":{\"color\":\"#FF6692\",\"size\":[3],\"sizemode\":\"area\",\"sizeref\":0.175,\"symbol\":\"circle\"},\"mode\":\"markers\",\"name\":\"Books & Stationery\",\"orientation\":\"v\",\"showlegend\":true,\"x\":[15],\"xaxis\":\"x\",\"y\":[2448.0],\"yaxis\":\"y\",\"type\":\"scatter\"},{\"hovertemplate\":\"\\u003cb\\u003e%{hovertext}\\u003c\\u002fb\\u003e\\u003cbr\\u003e\\u003cbr\\u003emain_category=Beverages\\u003cbr\\u003eavg_items_sold=%{x}\\u003cbr\\u003e20% Profit=%{y}\\u003cbr\\u003eno_of_products=%{marker.size}\\u003cextra\\u003e\\u003c\\u002fextra\\u003e\",\"hovertext\":[\"Beverages\"],\"legendgroup\":\"Beverages\",\"marker\":{\"color\":\"#B6E880\",\"size\":[4],\"sizemode\":\"area\",\"sizeref\":0.175,\"symbol\":\"circle\"},\"mode\":\"markers\",\"name\":\"Beverages\",\"orientation\":\"v\",\"showlegend\":true,\"x\":[22],\"xaxis\":\"x\",\"y\":[2411.2000000000003],\"yaxis\":\"y\",\"type\":\"scatter\"},{\"hovertemplate\":\"\\u003cb\\u003e%{hovertext}\\u003c\\u002fb\\u003e\\u003cbr\\u003e\\u003cbr\\u003emain_category=Girls\\u003cbr\\u003eavg_items_sold=%{x}\\u003cbr\\u003e20% Profit=%{y}\\u003cbr\\u003eno_of_products=%{marker.size}\\u003cextra\\u003e\\u003c\\u002fextra\\u003e\",\"hovertext\":[\"Girls\"],\"legendgroup\":\"Girls\",\"marker\":{\"color\":\"#FF97FF\",\"size\":[1],\"sizemode\":\"area\",\"sizeref\":0.175,\"symbol\":\"circle\"},\"mode\":\"markers\",\"name\":\"Girls\",\"orientation\":\"v\",\"showlegend\":true,\"x\":[17],\"xaxis\":\"x\",\"y\":[948.6],\"yaxis\":\"y\",\"type\":\"scatter\"},{\"hovertemplate\":\"\\u003cb\\u003e%{hovertext}\\u003c\\u002fb\\u003e\\u003cbr\\u003e\\u003cbr\\u003emain_category=Musical Instruments\\u003cbr\\u003eavg_items_sold=%{x}\\u003cbr\\u003e20% Profit=%{y}\\u003cbr\\u003eno_of_products=%{marker.size}\\u003cextra\\u003e\\u003c\\u002fextra\\u003e\",\"hovertext\":[\"Musical Instruments\"],\"legendgroup\":\"Musical Instruments\",\"marker\":{\"color\":\"#FECB52\",\"size\":[2],\"sizemode\":\"area\",\"sizeref\":0.175,\"symbol\":\"circle\"},\"mode\":\"markers\",\"name\":\"Musical Instruments\",\"orientation\":\"v\",\"showlegend\":true,\"x\":[17],\"xaxis\":\"x\",\"y\":[710.6],\"yaxis\":\"y\",\"type\":\"scatter\"}],                        {\"template\":{\"data\":{\"histogram2dcontour\":[{\"type\":\"histogram2dcontour\",\"colorbar\":{\"outlinewidth\":0,\"ticks\":\"\"},\"colorscale\":[[0.0,\"#0d0887\"],[0.1111111111111111,\"#46039f\"],[0.2222222222222222,\"#7201a8\"],[0.3333333333333333,\"#9c179e\"],[0.4444444444444444,\"#bd3786\"],[0.5555555555555556,\"#d8576b\"],[0.6666666666666666,\"#ed7953\"],[0.7777777777777778,\"#fb9f3a\"],[0.8888888888888888,\"#fdca26\"],[1.0,\"#f0f921\"]]}],\"choropleth\":[{\"type\":\"choropleth\",\"colorbar\":{\"outlinewidth\":0,\"ticks\":\"\"}}],\"histogram2d\":[{\"type\":\"histogram2d\",\"colorbar\":{\"outlinewidth\":0,\"ticks\":\"\"},\"colorscale\":[[0.0,\"#0d0887\"],[0.1111111111111111,\"#46039f\"],[0.2222222222222222,\"#7201a8\"],[0.3333333333333333,\"#9c179e\"],[0.4444444444444444,\"#bd3786\"],[0.5555555555555556,\"#d8576b\"],[0.6666666666666666,\"#ed7953\"],[0.7777777777777778,\"#fb9f3a\"],[0.8888888888888888,\"#fdca26\"],[1.0,\"#f0f921\"]]}],\"heatmap\":[{\"type\":\"heatmap\",\"colorbar\":{\"outlinewidth\":0,\"ticks\":\"\"},\"colorscale\":[[0.0,\"#0d0887\"],[0.1111111111111111,\"#46039f\"],[0.2222222222222222,\"#7201a8\"],[0.3333333333333333,\"#9c179e\"],[0.4444444444444444,\"#bd3786\"],[0.5555555555555556,\"#d8576b\"],[0.6666666666666666,\"#ed7953\"],[0.7777777777777778,\"#fb9f3a\"],[0.8888888888888888,\"#fdca26\"],[1.0,\"#f0f921\"]]}],\"heatmapgl\":[{\"type\":\"heatmapgl\",\"colorbar\":{\"outlinewidth\":0,\"ticks\":\"\"},\"colorscale\":[[0.0,\"#0d0887\"],[0.1111111111111111,\"#46039f\"],[0.2222222222222222,\"#7201a8\"],[0.3333333333333333,\"#9c179e\"],[0.4444444444444444,\"#bd3786\"],[0.5555555555555556,\"#d8576b\"],[0.6666666666666666,\"#ed7953\"],[0.7777777777777778,\"#fb9f3a\"],[0.8888888888888888,\"#fdca26\"],[1.0,\"#f0f921\"]]}],\"contourcarpet\":[{\"type\":\"contourcarpet\",\"colorbar\":{\"outlinewidth\":0,\"ticks\":\"\"}}],\"contour\":[{\"type\":\"contour\",\"colorbar\":{\"outlinewidth\":0,\"ticks\":\"\"},\"colorscale\":[[0.0,\"#0d0887\"],[0.1111111111111111,\"#46039f\"],[0.2222222222222222,\"#7201a8\"],[0.3333333333333333,\"#9c179e\"],[0.4444444444444444,\"#bd3786\"],[0.5555555555555556,\"#d8576b\"],[0.6666666666666666,\"#ed7953\"],[0.7777777777777778,\"#fb9f3a\"],[0.8888888888888888,\"#fdca26\"],[1.0,\"#f0f921\"]]}],\"surface\":[{\"type\":\"surface\",\"colorbar\":{\"outlinewidth\":0,\"ticks\":\"\"},\"colorscale\":[[0.0,\"#0d0887\"],[0.1111111111111111,\"#46039f\"],[0.2222222222222222,\"#7201a8\"],[0.3333333333333333,\"#9c179e\"],[0.4444444444444444,\"#bd3786\"],[0.5555555555555556,\"#d8576b\"],[0.6666666666666666,\"#ed7953\"],[0.7777777777777778,\"#fb9f3a\"],[0.8888888888888888,\"#fdca26\"],[1.0,\"#f0f921\"]]}],\"mesh3d\":[{\"type\":\"mesh3d\",\"colorbar\":{\"outlinewidth\":0,\"ticks\":\"\"}}],\"scatter\":[{\"fillpattern\":{\"fillmode\":\"overlay\",\"size\":10,\"solidity\":0.2},\"type\":\"scatter\"}],\"parcoords\":[{\"type\":\"parcoords\",\"line\":{\"colorbar\":{\"outlinewidth\":0,\"ticks\":\"\"}}}],\"scatterpolargl\":[{\"type\":\"scatterpolargl\",\"marker\":{\"colorbar\":{\"outlinewidth\":0,\"ticks\":\"\"}}}],\"bar\":[{\"error_x\":{\"color\":\"#2a3f5f\"},\"error_y\":{\"color\":\"#2a3f5f\"},\"marker\":{\"line\":{\"color\":\"#E5ECF6\",\"width\":0.5},\"pattern\":{\"fillmode\":\"overlay\",\"size\":10,\"solidity\":0.2}},\"type\":\"bar\"}],\"scattergeo\":[{\"type\":\"scattergeo\",\"marker\":{\"colorbar\":{\"outlinewidth\":0,\"ticks\":\"\"}}}],\"scatterpolar\":[{\"type\":\"scatterpolar\",\"marker\":{\"colorbar\":{\"outlinewidth\":0,\"ticks\":\"\"}}}],\"histogram\":[{\"marker\":{\"pattern\":{\"fillmode\":\"overlay\",\"size\":10,\"solidity\":0.2}},\"type\":\"histogram\"}],\"scattergl\":[{\"type\":\"scattergl\",\"marker\":{\"colorbar\":{\"outlinewidth\":0,\"ticks\":\"\"}}}],\"scatter3d\":[{\"type\":\"scatter3d\",\"line\":{\"colorbar\":{\"outlinewidth\":0,\"ticks\":\"\"}},\"marker\":{\"colorbar\":{\"outlinewidth\":0,\"ticks\":\"\"}}}],\"scattermapbox\":[{\"type\":\"scattermapbox\",\"marker\":{\"colorbar\":{\"outlinewidth\":0,\"ticks\":\"\"}}}],\"scatterternary\":[{\"type\":\"scatterternary\",\"marker\":{\"colorbar\":{\"outlinewidth\":0,\"ticks\":\"\"}}}],\"scattercarpet\":[{\"type\":\"scattercarpet\",\"marker\":{\"colorbar\":{\"outlinewidth\":0,\"ticks\":\"\"}}}],\"carpet\":[{\"aaxis\":{\"endlinecolor\":\"#2a3f5f\",\"gridcolor\":\"white\",\"linecolor\":\"white\",\"minorgridcolor\":\"white\",\"startlinecolor\":\"#2a3f5f\"},\"baxis\":{\"endlinecolor\":\"#2a3f5f\",\"gridcolor\":\"white\",\"linecolor\":\"white\",\"minorgridcolor\":\"white\",\"startlinecolor\":\"#2a3f5f\"},\"type\":\"carpet\"}],\"table\":[{\"cells\":{\"fill\":{\"color\":\"#EBF0F8\"},\"line\":{\"color\":\"white\"}},\"header\":{\"fill\":{\"color\":\"#C8D4E3\"},\"line\":{\"color\":\"white\"}},\"type\":\"table\"}],\"barpolar\":[{\"marker\":{\"line\":{\"color\":\"#E5ECF6\",\"width\":0.5},\"pattern\":{\"fillmode\":\"overlay\",\"size\":10,\"solidity\":0.2}},\"type\":\"barpolar\"}],\"pie\":[{\"automargin\":true,\"type\":\"pie\"}]},\"layout\":{\"autotypenumbers\":\"strict\",\"colorway\":[\"#636efa\",\"#EF553B\",\"#00cc96\",\"#ab63fa\",\"#FFA15A\",\"#19d3f3\",\"#FF6692\",\"#B6E880\",\"#FF97FF\",\"#FECB52\"],\"font\":{\"color\":\"#2a3f5f\"},\"hovermode\":\"closest\",\"hoverlabel\":{\"align\":\"left\"},\"paper_bgcolor\":\"white\",\"plot_bgcolor\":\"#E5ECF6\",\"polar\":{\"bgcolor\":\"#E5ECF6\",\"angularaxis\":{\"gridcolor\":\"white\",\"linecolor\":\"white\",\"ticks\":\"\"},\"radialaxis\":{\"gridcolor\":\"white\",\"linecolor\":\"white\",\"ticks\":\"\"}},\"ternary\":{\"bgcolor\":\"#E5ECF6\",\"aaxis\":{\"gridcolor\":\"white\",\"linecolor\":\"white\",\"ticks\":\"\"},\"baxis\":{\"gridcolor\":\"white\",\"linecolor\":\"white\",\"ticks\":\"\"},\"caxis\":{\"gridcolor\":\"white\",\"linecolor\":\"white\",\"ticks\":\"\"}},\"coloraxis\":{\"colorbar\":{\"outlinewidth\":0,\"ticks\":\"\"}},\"colorscale\":{\"sequential\":[[0.0,\"#0d0887\"],[0.1111111111111111,\"#46039f\"],[0.2222222222222222,\"#7201a8\"],[0.3333333333333333,\"#9c179e\"],[0.4444444444444444,\"#bd3786\"],[0.5555555555555556,\"#d8576b\"],[0.6666666666666666,\"#ed7953\"],[0.7777777777777778,\"#fb9f3a\"],[0.8888888888888888,\"#fdca26\"],[1.0,\"#f0f921\"]],\"sequentialminus\":[[0.0,\"#0d0887\"],[0.1111111111111111,\"#46039f\"],[0.2222222222222222,\"#7201a8\"],[0.3333333333333333,\"#9c179e\"],[0.4444444444444444,\"#bd3786\"],[0.5555555555555556,\"#d8576b\"],[0.6666666666666666,\"#ed7953\"],[0.7777777777777778,\"#fb9f3a\"],[0.8888888888888888,\"#fdca26\"],[1.0,\"#f0f921\"]],\"diverging\":[[0,\"#8e0152\"],[0.1,\"#c51b7d\"],[0.2,\"#de77ae\"],[0.3,\"#f1b6da\"],[0.4,\"#fde0ef\"],[0.5,\"#f7f7f7\"],[0.6,\"#e6f5d0\"],[0.7,\"#b8e186\"],[0.8,\"#7fbc41\"],[0.9,\"#4d9221\"],[1,\"#276419\"]]},\"xaxis\":{\"gridcolor\":\"white\",\"linecolor\":\"white\",\"ticks\":\"\",\"title\":{\"standoff\":15},\"zerolinecolor\":\"white\",\"automargin\":true,\"zerolinewidth\":2},\"yaxis\":{\"gridcolor\":\"white\",\"linecolor\":\"white\",\"ticks\":\"\",\"title\":{\"standoff\":15},\"zerolinecolor\":\"white\",\"automargin\":true,\"zerolinewidth\":2},\"scene\":{\"xaxis\":{\"backgroundcolor\":\"#E5ECF6\",\"gridcolor\":\"white\",\"linecolor\":\"white\",\"showbackground\":true,\"ticks\":\"\",\"zerolinecolor\":\"white\",\"gridwidth\":2},\"yaxis\":{\"backgroundcolor\":\"#E5ECF6\",\"gridcolor\":\"white\",\"linecolor\":\"white\",\"showbackground\":true,\"ticks\":\"\",\"zerolinecolor\":\"white\",\"gridwidth\":2},\"zaxis\":{\"backgroundcolor\":\"#E5ECF6\",\"gridcolor\":\"white\",\"linecolor\":\"white\",\"showbackground\":true,\"ticks\":\"\",\"zerolinecolor\":\"white\",\"gridwidth\":2}},\"shapedefaults\":{\"line\":{\"color\":\"#2a3f5f\"}},\"annotationdefaults\":{\"arrowcolor\":\"#2a3f5f\",\"arrowhead\":0,\"arrowwidth\":1},\"geo\":{\"bgcolor\":\"white\",\"landcolor\":\"#E5ECF6\",\"subunitcolor\":\"white\",\"showland\":true,\"showlakes\":true,\"lakecolor\":\"white\"},\"title\":{\"x\":0.05},\"mapbox\":{\"style\":\"light\"}}},\"xaxis\":{\"anchor\":\"y\",\"domain\":[0.0,1.0],\"title\":{\"text\":\"avg_items_sold\"}},\"yaxis\":{\"anchor\":\"x\",\"domain\":[0.0,1.0],\"title\":{\"text\":\"20% Profit\"}},\"legend\":{\"title\":{\"text\":\"main_category\"},\"tracegroupgap\":0,\"itemsizing\":\"constant\"},\"margin\":{\"t\":60}},                        {\"responsive\": true}                    ).then(function(){\n",
       "                            \n",
       "var gd = document.getElementById('f0b15dbc-c2a3-498a-8d28-83bdec541f1a');\n",
       "var x = new MutationObserver(function (mutations, observer) {{\n",
       "        var display = window.getComputedStyle(gd).display;\n",
       "        if (!display || display === 'none') {{\n",
       "            console.log([gd, 'removed!']);\n",
       "            Plotly.purge(gd);\n",
       "            observer.disconnect();\n",
       "        }}\n",
       "}});\n",
       "\n",
       "// Listen for the removal of the full notebook cells\n",
       "var notebookContainer = gd.closest('#notebook-container');\n",
       "if (notebookContainer) {{\n",
       "    x.observe(notebookContainer, {childList: true});\n",
       "}}\n",
       "\n",
       "// Listen for the clearing of the current output cell\n",
       "var outputEl = gd.closest('.output');\n",
       "if (outputEl) {{\n",
       "    x.observe(outputEl, {childList: true});\n",
       "}}\n",
       "\n",
       "                        })                };                });            </script>        </div>"
      ]
     },
     "metadata": {},
     "output_type": "display_data"
    }
   ],
   "source": [
    "fig = px.scatter(df, x=\"avg_items_sold\", y=\"20% Profit\", size=\"no_of_products\", color=\"main_category\",\n",
    "           hover_name=\"main_category\", log_x=False, size_max=60)\n",
    "fig.show()"
   ]
  },
  {
   "cell_type": "markdown",
   "id": "bdf47124-b0f9-400b-b6a3-b466670c086b",
   "metadata": {},
   "source": [
    "# Untapped niche : Tablets , Game & Console, Appliances\n",
    "- Less number of products means less number of competition\n",
    "- profit arround 20K\n",
    "- less avge_items_sold mean less required items to sell and become profitable\n",
    "- less avg_items_sold can also mean less Customers"
   ]
  },
  {
   "cell_type": "markdown",
   "id": "394b7c62-7445-4982-97cd-a8af0e4841ec",
   "metadata": {},
   "source": [
    "# Food cupboard & Laundry\n",
    "- more competition (size of the bubble) - more products\n",
    "- more items to sell (avg_item-sold)\n",
    "- less profit\n",
    "- sell more to add more profit\n",
    "- good for warehousing"
   ]
  },
  {
   "cell_type": "code",
   "execution_count": null,
   "id": "8162b440-142f-4a88-8d40-0f19c7c069a5",
   "metadata": {},
   "outputs": [],
   "source": []
  }
 ],
 "metadata": {
  "kernelspec": {
   "display_name": "Python 3 (ipykernel)",
   "language": "python",
   "name": "python3"
  },
  "language_info": {
   "codemirror_mode": {
    "name": "ipython",
    "version": 3
   },
   "file_extension": ".py",
   "mimetype": "text/x-python",
   "name": "python",
   "nbconvert_exporter": "python",
   "pygments_lexer": "ipython3",
   "version": "3.11.1"
  }
 },
 "nbformat": 4,
 "nbformat_minor": 5
}
